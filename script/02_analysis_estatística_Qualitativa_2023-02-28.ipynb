{
 "cells": [
  {
   "cell_type": "markdown",
   "metadata": {
    "id": "NZ2h1fddQy--"
   },
   "source": [
    "# Importações de dados brutos"
   ]
  },
  {
   "cell_type": "code",
   "execution_count": 1,
   "metadata": {
    "id": "ZUfRu9XmIXQR"
   },
   "outputs": [
    {
     "name": "stdout",
     "output_type": "stream",
     "text": [
      "-------------\n",
      "-=< Lista >=-\n",
      "-------------\n",
      "0 -> printLinha()\n",
      "1 -> printLis()\n",
      "2 -> printDic()\n",
      "3 -> timeProcess()\n",
      "4 -> import_started()\n",
      "5 -> img_save()\n",
      "6 -> setup_img_save()\n",
      "7 -> mask_corr_graphic()\n",
      "8 -> structured_confusion()\n"
     ]
    }
   ],
   "source": [
    "from util import *\n",
    "meus_uteis()\n",
    "\n",
    "import os\n",
    "\n",
    "import joblib\n",
    "\n",
    "import pandas as pd\n",
    "import numpy as np\n",
    "\n",
    "import seaborn as sns\n",
    "import matplotlib.pyplot as plt\n",
    "\n",
    "# from scipy import stats\n",
    "from scipy.stats import mannwhitneyu, normaltest, ranksums, chisquare\n",
    "from statsmodels.stats.weightstats import zconfint, DescrStatsW, ztest"
   ]
  },
  {
   "cell_type": "code",
   "execution_count": 2,
   "metadata": {
    "colab": {
     "base_uri": "https://localhost:8080/",
     "height": 475
    },
    "id": "QlQl7R8pIXQV",
    "outputId": "0471ee53-17b3-4c92-8a47-967e9d98a8fc"
   },
   "outputs": [
    {
     "data": {
      "text/html": [
       "<div>\n",
       "<style scoped>\n",
       "    .dataframe tbody tr th:only-of-type {\n",
       "        vertical-align: middle;\n",
       "    }\n",
       "\n",
       "    .dataframe tbody tr th {\n",
       "        vertical-align: top;\n",
       "    }\n",
       "\n",
       "    .dataframe thead th {\n",
       "        text-align: right;\n",
       "    }\n",
       "</style>\n",
       "<table border=\"1\" class=\"dataframe\">\n",
       "  <thead>\n",
       "    <tr style=\"text-align: right;\">\n",
       "      <th></th>\n",
       "      <th>Data</th>\n",
       "      <th>IP</th>\n",
       "      <th>TCLE</th>\n",
       "      <th>Língua</th>\n",
       "      <th>Figura</th>\n",
       "      <th>Dintinguíveis</th>\n",
       "      <th>Proeminentes</th>\n",
       "      <th>Descrição</th>\n",
       "      <th>Eficiente</th>\n",
       "      <th>Útil</th>\n",
       "      <th>Estética</th>\n",
       "      <th>Fonte</th>\n",
       "      <th>Compreensão</th>\n",
       "      <th>Interesse</th>\n",
       "      <th>Grau</th>\n",
       "      <th>Área</th>\n",
       "      <th>Origem</th>\n",
       "    </tr>\n",
       "    <tr>\n",
       "      <th>id</th>\n",
       "      <th></th>\n",
       "      <th></th>\n",
       "      <th></th>\n",
       "      <th></th>\n",
       "      <th></th>\n",
       "      <th></th>\n",
       "      <th></th>\n",
       "      <th></th>\n",
       "      <th></th>\n",
       "      <th></th>\n",
       "      <th></th>\n",
       "      <th></th>\n",
       "      <th></th>\n",
       "      <th></th>\n",
       "      <th></th>\n",
       "      <th></th>\n",
       "      <th></th>\n",
       "    </tr>\n",
       "  </thead>\n",
       "  <tbody>\n",
       "    <tr>\n",
       "      <th>1</th>\n",
       "      <td>2020-03-02 13:31:20</td>\n",
       "      <td>200.134.9.2</td>\n",
       "      <td>s</td>\n",
       "      <td>pt</td>\n",
       "      <td>Reovírus Aviário</td>\n",
       "      <td>2</td>\n",
       "      <td>1</td>\n",
       "      <td>Sim</td>\n",
       "      <td>1</td>\n",
       "      <td>5</td>\n",
       "      <td>2</td>\n",
       "      <td>Sim</td>\n",
       "      <td>1</td>\n",
       "      <td>1</td>\n",
       "      <td>Doutorado</td>\n",
       "      <td>Exatas</td>\n",
       "      <td>Pesquisador</td>\n",
       "    </tr>\n",
       "    <tr>\n",
       "      <th>2</th>\n",
       "      <td>2020-03-02 17:45:41</td>\n",
       "      <td>191.52.71.228</td>\n",
       "      <td>s</td>\n",
       "      <td>pt</td>\n",
       "      <td>Reovírus Aviário</td>\n",
       "      <td>3</td>\n",
       "      <td>3</td>\n",
       "      <td>Sim</td>\n",
       "      <td>2</td>\n",
       "      <td>2</td>\n",
       "      <td>4</td>\n",
       "      <td>Não</td>\n",
       "      <td>4</td>\n",
       "      <td>2</td>\n",
       "      <td>Doutorado</td>\n",
       "      <td>Biológicas</td>\n",
       "      <td>Designer</td>\n",
       "    </tr>\n",
       "    <tr>\n",
       "      <th>3</th>\n",
       "      <td>2020-03-02 18:32:50</td>\n",
       "      <td>189.14.35.136</td>\n",
       "      <td>s</td>\n",
       "      <td>pt</td>\n",
       "      <td>Células Tronco</td>\n",
       "      <td>4</td>\n",
       "      <td>3</td>\n",
       "      <td>Sim</td>\n",
       "      <td>3</td>\n",
       "      <td>5</td>\n",
       "      <td>4</td>\n",
       "      <td>Não</td>\n",
       "      <td>3</td>\n",
       "      <td>3</td>\n",
       "      <td>Doutorado</td>\n",
       "      <td>Exatas</td>\n",
       "      <td>Pesquisador</td>\n",
       "    </tr>\n",
       "    <tr>\n",
       "      <th>4</th>\n",
       "      <td>2020-03-02 19:33:38</td>\n",
       "      <td>170.239.53.11</td>\n",
       "      <td>s</td>\n",
       "      <td>pt</td>\n",
       "      <td>Células Tronco</td>\n",
       "      <td>4</td>\n",
       "      <td>4</td>\n",
       "      <td>Sim</td>\n",
       "      <td>5</td>\n",
       "      <td>5</td>\n",
       "      <td>5</td>\n",
       "      <td>Sim</td>\n",
       "      <td>5</td>\n",
       "      <td>5</td>\n",
       "      <td>Mestrado</td>\n",
       "      <td>Biológicas</td>\n",
       "      <td>Designer</td>\n",
       "    </tr>\n",
       "    <tr>\n",
       "      <th>5</th>\n",
       "      <td>2020-03-03 11:50:20</td>\n",
       "      <td>189.103.158.150</td>\n",
       "      <td>s</td>\n",
       "      <td>pt</td>\n",
       "      <td>T. gondii</td>\n",
       "      <td>5</td>\n",
       "      <td>1</td>\n",
       "      <td>Sim</td>\n",
       "      <td>5</td>\n",
       "      <td>5</td>\n",
       "      <td>2</td>\n",
       "      <td>Sim</td>\n",
       "      <td>5</td>\n",
       "      <td>4</td>\n",
       "      <td>Doutorado</td>\n",
       "      <td>Biológicas</td>\n",
       "      <td>Pesquisador</td>\n",
       "    </tr>\n",
       "  </tbody>\n",
       "</table>\n",
       "</div>"
      ],
      "text/plain": [
       "                   Data               IP TCLE Língua            Figura  \\\n",
       "id                                                                       \n",
       "1   2020-03-02 13:31:20      200.134.9.2    s     pt  Reovírus Aviário   \n",
       "2   2020-03-02 17:45:41    191.52.71.228    s     pt  Reovírus Aviário   \n",
       "3   2020-03-02 18:32:50    189.14.35.136    s     pt    Células Tronco   \n",
       "4   2020-03-02 19:33:38    170.239.53.11    s     pt    Células Tronco   \n",
       "5   2020-03-03 11:50:20  189.103.158.150    s     pt         T. gondii   \n",
       "\n",
       "    Dintinguíveis  Proeminentes Descrição  Eficiente  Útil  Estética Fonte  \\\n",
       "id                                                                           \n",
       "1               2             1       Sim          1     5         2   Sim   \n",
       "2               3             3       Sim          2     2         4   Não   \n",
       "3               4             3       Sim          3     5         4   Não   \n",
       "4               4             4       Sim          5     5         5   Sim   \n",
       "5               5             1       Sim          5     5         2   Sim   \n",
       "\n",
       "    Compreensão  Interesse       Grau        Área       Origem  \n",
       "id                                                              \n",
       "1             1          1  Doutorado      Exatas  Pesquisador  \n",
       "2             4          2  Doutorado  Biológicas     Designer  \n",
       "3             3          3  Doutorado      Exatas  Pesquisador  \n",
       "4             5          5   Mestrado  Biológicas     Designer  \n",
       "5             5          4  Doutorado  Biológicas  Pesquisador  "
      ]
     },
     "execution_count": 2,
     "metadata": {},
     "output_type": "execute_result"
    }
   ],
   "source": [
    "df = pd.read_csv('./data/dados_completos.csv')\n",
    "df.set_index(df.id, inplace=True)\n",
    "del df[\"id\"]\n",
    "df.head()"
   ]
  },
  {
   "cell_type": "code",
   "execution_count": 3,
   "metadata": {
    "colab": {
     "base_uri": "https://localhost:8080/"
    },
    "id": "-V0vMEDil32D",
    "outputId": "85a418c1-8697-41ca-accb-d764e6c7433e"
   },
   "outputs": [
    {
     "data": {
      "text/plain": [
       "{'Dintinguíveis': '1) Na imagem, o quão claramente os elementos são distinguíveis?',\n",
       " 'Proeminentes': '2) O quão visualmente proeminentes são os elementos da imagem?',\n",
       " 'Descrição': '8) Existem elementos da imagem que requerem descrição adicional?',\n",
       " 'Eficiente': '3) O quão eficiente são os elementos da imagem na representação dos dados?',\n",
       " 'Útil': '4) O quão útil é a aplicação de uma imagem esquemática – desenho científico ou graphic abstract para representar os dados?',\n",
       " 'Estética': '5) O quanto a imagem é esteticamente bem elaborada?',\n",
       " 'Fonte': '9) A imagem apresentada faz você experimentar uma nova fonte de dados?',\n",
       " 'Compreensão': '6) Classifique o quanto a imagem facilitou a compreensão do conteúdo da informação.',\n",
       " 'Interesse': '7) Classifique o quanto a imagem despertou o seu interesse pelo conteúdo.',\n",
       " 'Grau': 'Qual o seu grau de formação acadêmica?',\n",
       " 'Área': 'Área de formação?'}"
      ]
     },
     "execution_count": 3,
     "metadata": {},
     "output_type": "execute_result"
    }
   ],
   "source": [
    "colunas = df.columns\n",
    "perguntas = {\n",
    "    colunas[4 + 1]: '1) Na imagem, o quão claramente os elementos são distinguíveis?',\n",
    "    colunas[4 + 2]: '2) O quão visualmente proeminentes são os elementos da imagem?',\n",
    "    colunas[4 + 3]: '8) Existem elementos da imagem que requerem descrição adicional?',\n",
    "    colunas[4 + 4]: '3) O quão eficiente são os elementos da imagem na representação dos dados?',\n",
    "    colunas[4 + 5]: '4) O quão útil é a aplicação de uma imagem esquemática – desenho científico ou graphic abstract para representar os dados?',\n",
    "    colunas[4 + 6]: '5) O quanto a imagem é esteticamente bem elaborada?',\n",
    "    colunas[4 + 7]: '9) A imagem apresentada faz você experimentar uma nova fonte de dados?',\n",
    "    colunas[4 + 8]: '6) Classifique o quanto a imagem facilitou a compreensão do conteúdo da informação.',\n",
    "    colunas[4 + 9]: '7) Classifique o quanto a imagem despertou o seu interesse pelo conteúdo.',\n",
    "    colunas[4 + 10]: 'Qual o seu grau de formação acadêmica?',\n",
    "    colunas[4 + 11]: 'Área de formação?',\n",
    "}\n",
    "perguntas"
   ]
  },
  {
   "cell_type": "markdown",
   "metadata": {
    "id": "e52cEnxdhNrP"
   },
   "source": [
    "# Geral"
   ]
  },
  {
   "cell_type": "code",
   "execution_count": 4,
   "metadata": {
    "colab": {
     "base_uri": "https://localhost:8080/",
     "height": 475
    },
    "id": "wK41TgK5Sf0T",
    "outputId": "8f991c49-eaaf-4d22-893e-9d68648dc194"
   },
   "outputs": [
    {
     "data": {
      "text/html": [
       "<div>\n",
       "<style scoped>\n",
       "    .dataframe tbody tr th:only-of-type {\n",
       "        vertical-align: middle;\n",
       "    }\n",
       "\n",
       "    .dataframe tbody tr th {\n",
       "        vertical-align: top;\n",
       "    }\n",
       "\n",
       "    .dataframe thead th {\n",
       "        text-align: right;\n",
       "    }\n",
       "</style>\n",
       "<table border=\"1\" class=\"dataframe\">\n",
       "  <thead>\n",
       "    <tr style=\"text-align: right;\">\n",
       "      <th></th>\n",
       "      <th>Data</th>\n",
       "      <th>IP</th>\n",
       "      <th>TCLE</th>\n",
       "      <th>Língua</th>\n",
       "      <th>Figura</th>\n",
       "      <th>Dintinguíveis</th>\n",
       "      <th>Proeminentes</th>\n",
       "      <th>Descrição</th>\n",
       "      <th>Eficiente</th>\n",
       "      <th>Útil</th>\n",
       "      <th>Estética</th>\n",
       "      <th>Fonte</th>\n",
       "      <th>Compreensão</th>\n",
       "      <th>Interesse</th>\n",
       "      <th>Grau</th>\n",
       "      <th>Área</th>\n",
       "      <th>Origem</th>\n",
       "    </tr>\n",
       "    <tr>\n",
       "      <th>id</th>\n",
       "      <th></th>\n",
       "      <th></th>\n",
       "      <th></th>\n",
       "      <th></th>\n",
       "      <th></th>\n",
       "      <th></th>\n",
       "      <th></th>\n",
       "      <th></th>\n",
       "      <th></th>\n",
       "      <th></th>\n",
       "      <th></th>\n",
       "      <th></th>\n",
       "      <th></th>\n",
       "      <th></th>\n",
       "      <th></th>\n",
       "      <th></th>\n",
       "      <th></th>\n",
       "    </tr>\n",
       "  </thead>\n",
       "  <tbody>\n",
       "    <tr>\n",
       "      <th>1</th>\n",
       "      <td>2020-03-02 13:31:20</td>\n",
       "      <td>200.134.9.2</td>\n",
       "      <td>s</td>\n",
       "      <td>pt</td>\n",
       "      <td>Reovírus Aviário</td>\n",
       "      <td>2</td>\n",
       "      <td>1</td>\n",
       "      <td>Sim</td>\n",
       "      <td>1</td>\n",
       "      <td>5</td>\n",
       "      <td>2</td>\n",
       "      <td>Sim</td>\n",
       "      <td>1</td>\n",
       "      <td>1</td>\n",
       "      <td>Doutorado</td>\n",
       "      <td>Exatas</td>\n",
       "      <td>Pesquisador</td>\n",
       "    </tr>\n",
       "    <tr>\n",
       "      <th>2</th>\n",
       "      <td>2020-03-02 17:45:41</td>\n",
       "      <td>191.52.71.228</td>\n",
       "      <td>s</td>\n",
       "      <td>pt</td>\n",
       "      <td>Reovírus Aviário</td>\n",
       "      <td>3</td>\n",
       "      <td>3</td>\n",
       "      <td>Sim</td>\n",
       "      <td>2</td>\n",
       "      <td>2</td>\n",
       "      <td>4</td>\n",
       "      <td>Não</td>\n",
       "      <td>4</td>\n",
       "      <td>2</td>\n",
       "      <td>Doutorado</td>\n",
       "      <td>Biológicas</td>\n",
       "      <td>Designer</td>\n",
       "    </tr>\n",
       "    <tr>\n",
       "      <th>3</th>\n",
       "      <td>2020-03-02 18:32:50</td>\n",
       "      <td>189.14.35.136</td>\n",
       "      <td>s</td>\n",
       "      <td>pt</td>\n",
       "      <td>Células Tronco</td>\n",
       "      <td>4</td>\n",
       "      <td>3</td>\n",
       "      <td>Sim</td>\n",
       "      <td>3</td>\n",
       "      <td>5</td>\n",
       "      <td>4</td>\n",
       "      <td>Não</td>\n",
       "      <td>3</td>\n",
       "      <td>3</td>\n",
       "      <td>Doutorado</td>\n",
       "      <td>Exatas</td>\n",
       "      <td>Pesquisador</td>\n",
       "    </tr>\n",
       "    <tr>\n",
       "      <th>4</th>\n",
       "      <td>2020-03-02 19:33:38</td>\n",
       "      <td>170.239.53.11</td>\n",
       "      <td>s</td>\n",
       "      <td>pt</td>\n",
       "      <td>Células Tronco</td>\n",
       "      <td>4</td>\n",
       "      <td>4</td>\n",
       "      <td>Sim</td>\n",
       "      <td>5</td>\n",
       "      <td>5</td>\n",
       "      <td>5</td>\n",
       "      <td>Sim</td>\n",
       "      <td>5</td>\n",
       "      <td>5</td>\n",
       "      <td>Mestrado</td>\n",
       "      <td>Biológicas</td>\n",
       "      <td>Designer</td>\n",
       "    </tr>\n",
       "    <tr>\n",
       "      <th>5</th>\n",
       "      <td>2020-03-03 11:50:20</td>\n",
       "      <td>189.103.158.150</td>\n",
       "      <td>s</td>\n",
       "      <td>pt</td>\n",
       "      <td>T. gondii</td>\n",
       "      <td>5</td>\n",
       "      <td>1</td>\n",
       "      <td>Sim</td>\n",
       "      <td>5</td>\n",
       "      <td>5</td>\n",
       "      <td>2</td>\n",
       "      <td>Sim</td>\n",
       "      <td>5</td>\n",
       "      <td>4</td>\n",
       "      <td>Doutorado</td>\n",
       "      <td>Biológicas</td>\n",
       "      <td>Pesquisador</td>\n",
       "    </tr>\n",
       "  </tbody>\n",
       "</table>\n",
       "</div>"
      ],
      "text/plain": [
       "                   Data               IP TCLE Língua            Figura  \\\n",
       "id                                                                       \n",
       "1   2020-03-02 13:31:20      200.134.9.2    s     pt  Reovírus Aviário   \n",
       "2   2020-03-02 17:45:41    191.52.71.228    s     pt  Reovírus Aviário   \n",
       "3   2020-03-02 18:32:50    189.14.35.136    s     pt    Células Tronco   \n",
       "4   2020-03-02 19:33:38    170.239.53.11    s     pt    Células Tronco   \n",
       "5   2020-03-03 11:50:20  189.103.158.150    s     pt         T. gondii   \n",
       "\n",
       "    Dintinguíveis  Proeminentes Descrição  Eficiente  Útil  Estética Fonte  \\\n",
       "id                                                                           \n",
       "1               2             1       Sim          1     5         2   Sim   \n",
       "2               3             3       Sim          2     2         4   Não   \n",
       "3               4             3       Sim          3     5         4   Não   \n",
       "4               4             4       Sim          5     5         5   Sim   \n",
       "5               5             1       Sim          5     5         2   Sim   \n",
       "\n",
       "    Compreensão  Interesse       Grau        Área       Origem  \n",
       "id                                                              \n",
       "1             1          1  Doutorado      Exatas  Pesquisador  \n",
       "2             4          2  Doutorado  Biológicas     Designer  \n",
       "3             3          3  Doutorado      Exatas  Pesquisador  \n",
       "4             5          5   Mestrado  Biológicas     Designer  \n",
       "5             5          4  Doutorado  Biológicas  Pesquisador  "
      ]
     },
     "execution_count": 4,
     "metadata": {},
     "output_type": "execute_result"
    }
   ],
   "source": [
    "df.head()"
   ]
  },
  {
   "cell_type": "code",
   "execution_count": 5,
   "metadata": {
    "colab": {
     "base_uri": "https://localhost:8080/",
     "height": 300
    },
    "id": "KDitJnDrWEgq",
    "outputId": "6506adb1-ff92-4b21-bee5-a638fe853dcb"
   },
   "outputs": [
    {
     "data": {
      "text/html": [
       "<div>\n",
       "<style scoped>\n",
       "    .dataframe tbody tr th:only-of-type {\n",
       "        vertical-align: middle;\n",
       "    }\n",
       "\n",
       "    .dataframe tbody tr th {\n",
       "        vertical-align: top;\n",
       "    }\n",
       "\n",
       "    .dataframe thead th {\n",
       "        text-align: right;\n",
       "    }\n",
       "</style>\n",
       "<table border=\"1\" class=\"dataframe\">\n",
       "  <thead>\n",
       "    <tr style=\"text-align: right;\">\n",
       "      <th></th>\n",
       "      <th>Dintinguíveis</th>\n",
       "      <th>Proeminentes</th>\n",
       "      <th>Eficiente</th>\n",
       "      <th>Útil</th>\n",
       "      <th>Estética</th>\n",
       "      <th>Compreensão</th>\n",
       "      <th>Interesse</th>\n",
       "    </tr>\n",
       "  </thead>\n",
       "  <tbody>\n",
       "    <tr>\n",
       "      <th>count</th>\n",
       "      <td>472.000000</td>\n",
       "      <td>472.000000</td>\n",
       "      <td>472.000000</td>\n",
       "      <td>472.000000</td>\n",
       "      <td>472.000000</td>\n",
       "      <td>472.000000</td>\n",
       "      <td>472.000000</td>\n",
       "    </tr>\n",
       "    <tr>\n",
       "      <th>mean</th>\n",
       "      <td>3.786017</td>\n",
       "      <td>3.576271</td>\n",
       "      <td>3.552966</td>\n",
       "      <td>4.614407</td>\n",
       "      <td>3.567797</td>\n",
       "      <td>3.599576</td>\n",
       "      <td>3.489407</td>\n",
       "    </tr>\n",
       "    <tr>\n",
       "      <th>std</th>\n",
       "      <td>1.227245</td>\n",
       "      <td>1.274654</td>\n",
       "      <td>1.247227</td>\n",
       "      <td>0.909751</td>\n",
       "      <td>1.340082</td>\n",
       "      <td>1.314075</td>\n",
       "      <td>1.376129</td>\n",
       "    </tr>\n",
       "    <tr>\n",
       "      <th>min</th>\n",
       "      <td>1.000000</td>\n",
       "      <td>1.000000</td>\n",
       "      <td>1.000000</td>\n",
       "      <td>1.000000</td>\n",
       "      <td>1.000000</td>\n",
       "      <td>1.000000</td>\n",
       "      <td>1.000000</td>\n",
       "    </tr>\n",
       "    <tr>\n",
       "      <th>25%</th>\n",
       "      <td>3.000000</td>\n",
       "      <td>3.000000</td>\n",
       "      <td>3.000000</td>\n",
       "      <td>5.000000</td>\n",
       "      <td>3.000000</td>\n",
       "      <td>3.000000</td>\n",
       "      <td>2.000000</td>\n",
       "    </tr>\n",
       "    <tr>\n",
       "      <th>50%</th>\n",
       "      <td>4.000000</td>\n",
       "      <td>4.000000</td>\n",
       "      <td>4.000000</td>\n",
       "      <td>5.000000</td>\n",
       "      <td>4.000000</td>\n",
       "      <td>4.000000</td>\n",
       "      <td>4.000000</td>\n",
       "    </tr>\n",
       "    <tr>\n",
       "      <th>75%</th>\n",
       "      <td>5.000000</td>\n",
       "      <td>5.000000</td>\n",
       "      <td>5.000000</td>\n",
       "      <td>5.000000</td>\n",
       "      <td>5.000000</td>\n",
       "      <td>5.000000</td>\n",
       "      <td>5.000000</td>\n",
       "    </tr>\n",
       "    <tr>\n",
       "      <th>max</th>\n",
       "      <td>5.000000</td>\n",
       "      <td>5.000000</td>\n",
       "      <td>5.000000</td>\n",
       "      <td>5.000000</td>\n",
       "      <td>5.000000</td>\n",
       "      <td>5.000000</td>\n",
       "      <td>5.000000</td>\n",
       "    </tr>\n",
       "  </tbody>\n",
       "</table>\n",
       "</div>"
      ],
      "text/plain": [
       "       Dintinguíveis  Proeminentes   Eficiente        Útil    Estética  \\\n",
       "count     472.000000    472.000000  472.000000  472.000000  472.000000   \n",
       "mean        3.786017      3.576271    3.552966    4.614407    3.567797   \n",
       "std         1.227245      1.274654    1.247227    0.909751    1.340082   \n",
       "min         1.000000      1.000000    1.000000    1.000000    1.000000   \n",
       "25%         3.000000      3.000000    3.000000    5.000000    3.000000   \n",
       "50%         4.000000      4.000000    4.000000    5.000000    4.000000   \n",
       "75%         5.000000      5.000000    5.000000    5.000000    5.000000   \n",
       "max         5.000000      5.000000    5.000000    5.000000    5.000000   \n",
       "\n",
       "       Compreensão   Interesse  \n",
       "count   472.000000  472.000000  \n",
       "mean      3.599576    3.489407  \n",
       "std       1.314075    1.376129  \n",
       "min       1.000000    1.000000  \n",
       "25%       3.000000    2.000000  \n",
       "50%       4.000000    4.000000  \n",
       "75%       5.000000    5.000000  \n",
       "max       5.000000    5.000000  "
      ]
     },
     "execution_count": 5,
     "metadata": {},
     "output_type": "execute_result"
    }
   ],
   "source": [
    "df.describe()"
   ]
  },
  {
   "cell_type": "code",
   "execution_count": 6,
   "metadata": {
    "colab": {
     "base_uri": "https://localhost:8080/"
    },
    "id": "T5c2_cMkWGGv",
    "outputId": "91ab93ab-fc40-4858-98b0-360d927065ba"
   },
   "outputs": [
    {
     "name": "stdout",
     "output_type": "stream",
     "text": [
      "<class 'pandas.core.frame.DataFrame'>\n",
      "Int64Index: 472 entries, 1 to 472\n",
      "Data columns (total 17 columns):\n",
      " #   Column         Non-Null Count  Dtype \n",
      "---  ------         --------------  ----- \n",
      " 0   Data           472 non-null    object\n",
      " 1   IP             472 non-null    object\n",
      " 2   TCLE           472 non-null    object\n",
      " 3   Língua         472 non-null    object\n",
      " 4   Figura         472 non-null    object\n",
      " 5   Dintinguíveis  472 non-null    int64 \n",
      " 6   Proeminentes   472 non-null    int64 \n",
      " 7   Descrição      472 non-null    object\n",
      " 8   Eficiente      472 non-null    int64 \n",
      " 9   Útil           472 non-null    int64 \n",
      " 10  Estética       472 non-null    int64 \n",
      " 11  Fonte          472 non-null    object\n",
      " 12  Compreensão    472 non-null    int64 \n",
      " 13  Interesse      472 non-null    int64 \n",
      " 14  Grau           472 non-null    object\n",
      " 15  Área           472 non-null    object\n",
      " 16  Origem         472 non-null    object\n",
      "dtypes: int64(7), object(10)\n",
      "memory usage: 66.4+ KB\n"
     ]
    }
   ],
   "source": [
    "df.info()"
   ]
  },
  {
   "cell_type": "markdown",
   "metadata": {
    "id": "krcR78kdf8dG"
   },
   "source": [
    "# Agrupando"
   ]
  },
  {
   "cell_type": "markdown",
   "metadata": {
    "id": "QS1AnGJifwc9"
   },
   "source": [
    "## Analisando a pergunta Descrição"
   ]
  },
  {
   "cell_type": "markdown",
   "metadata": {
    "id": "JBlcsJnoZfMi"
   },
   "source": [
    "### Geral"
   ]
  },
  {
   "cell_type": "code",
   "execution_count": 7,
   "metadata": {
    "colab": {
     "base_uri": "https://localhost:8080/",
     "height": 238
    },
    "id": "1vEKE5VYWHeu",
    "outputId": "8003bc18-1836-452f-e657-e0bf66fe6aec"
   },
   "outputs": [
    {
     "data": {
      "text/html": [
       "<div>\n",
       "<style scoped>\n",
       "    .dataframe tbody tr th:only-of-type {\n",
       "        vertical-align: middle;\n",
       "    }\n",
       "\n",
       "    .dataframe tbody tr th {\n",
       "        vertical-align: top;\n",
       "    }\n",
       "\n",
       "    .dataframe thead th {\n",
       "        text-align: right;\n",
       "    }\n",
       "</style>\n",
       "<table border=\"1\" class=\"dataframe\">\n",
       "  <thead>\n",
       "    <tr style=\"text-align: right;\">\n",
       "      <th></th>\n",
       "      <th>Descrição</th>\n",
       "      <th>Fonte</th>\n",
       "      <th>Grau</th>\n",
       "      <th>Área</th>\n",
       "      <th>Origem</th>\n",
       "    </tr>\n",
       "    <tr>\n",
       "      <th>id</th>\n",
       "      <th></th>\n",
       "      <th></th>\n",
       "      <th></th>\n",
       "      <th></th>\n",
       "      <th></th>\n",
       "    </tr>\n",
       "  </thead>\n",
       "  <tbody>\n",
       "    <tr>\n",
       "      <th>1</th>\n",
       "      <td>Sim</td>\n",
       "      <td>Sim</td>\n",
       "      <td>Doutorado</td>\n",
       "      <td>Exatas</td>\n",
       "      <td>Pesquisador</td>\n",
       "    </tr>\n",
       "    <tr>\n",
       "      <th>2</th>\n",
       "      <td>Sim</td>\n",
       "      <td>Não</td>\n",
       "      <td>Doutorado</td>\n",
       "      <td>Biológicas</td>\n",
       "      <td>Designer</td>\n",
       "    </tr>\n",
       "    <tr>\n",
       "      <th>3</th>\n",
       "      <td>Sim</td>\n",
       "      <td>Não</td>\n",
       "      <td>Doutorado</td>\n",
       "      <td>Exatas</td>\n",
       "      <td>Pesquisador</td>\n",
       "    </tr>\n",
       "    <tr>\n",
       "      <th>4</th>\n",
       "      <td>Sim</td>\n",
       "      <td>Sim</td>\n",
       "      <td>Mestrado</td>\n",
       "      <td>Biológicas</td>\n",
       "      <td>Designer</td>\n",
       "    </tr>\n",
       "    <tr>\n",
       "      <th>5</th>\n",
       "      <td>Sim</td>\n",
       "      <td>Sim</td>\n",
       "      <td>Doutorado</td>\n",
       "      <td>Biológicas</td>\n",
       "      <td>Pesquisador</td>\n",
       "    </tr>\n",
       "  </tbody>\n",
       "</table>\n",
       "</div>"
      ],
      "text/plain": [
       "   Descrição Fonte       Grau        Área       Origem\n",
       "id                                                    \n",
       "1        Sim   Sim  Doutorado      Exatas  Pesquisador\n",
       "2        Sim   Não  Doutorado  Biológicas     Designer\n",
       "3        Sim   Não  Doutorado      Exatas  Pesquisador\n",
       "4        Sim   Sim   Mestrado  Biológicas     Designer\n",
       "5        Sim   Sim  Doutorado  Biológicas  Pesquisador"
      ]
     },
     "execution_count": 7,
     "metadata": {},
     "output_type": "execute_result"
    }
   ],
   "source": [
    "colunas_perguntas = df.columns[[7,11,14,15,16]]\n",
    "df_quantitativo = df[colunas_perguntas]\n",
    "df_quantitativo.head()"
   ]
  },
  {
   "cell_type": "code",
   "execution_count": 8,
   "metadata": {
    "colab": {
     "base_uri": "https://localhost:8080/"
    },
    "id": "vYhcSu01dObV",
    "outputId": "32db22cc-ba67-4726-a151-8c2bfb776811"
   },
   "outputs": [
    {
     "data": {
      "text/plain": [
       "Descrição  Origem     \n",
       "Sim        Pesquisador    206\n",
       "           Designer       168\n",
       "Não        Designer        68\n",
       "           Pesquisador     30\n",
       "dtype: int64"
      ]
     },
     "execution_count": 8,
     "metadata": {},
     "output_type": "execute_result"
    }
   ],
   "source": [
    "df_descricao = df_quantitativo[colunas_perguntas[[0,4]]].value_counts(normalize=False)\n",
    "df_descricao"
   ]
  },
  {
   "cell_type": "code",
   "execution_count": 9,
   "metadata": {
    "colab": {
     "base_uri": "https://localhost:8080/"
    },
    "id": "7i4Yuw4c4IaB",
    "outputId": "5eafdb55-787c-4105-93f1-09fc008be7c7"
   },
   "outputs": [
    {
     "data": {
      "text/plain": [
       "{'Designer': [168, 68], 'Pesquisador': [206, 30]}"
      ]
     },
     "execution_count": 9,
     "metadata": {},
     "output_type": "execute_result"
    }
   ],
   "source": [
    "dic_descricao = {\n",
    "    'Designer': [\n",
    "                    df_descricao.loc['Sim',:].loc['Designer'],\n",
    "                    df_descricao.loc['Não',:].loc['Designer'],\n",
    "                 ],\n",
    "    'Pesquisador': [\n",
    "                      df_descricao.loc['Sim',:].loc['Pesquisador'],\n",
    "                      df_descricao.loc['Não',:].loc['Pesquisador'],\n",
    "                    ],\n",
    "}\n",
    "dic_descricao"
   ]
  },
  {
   "cell_type": "code",
   "execution_count": 10,
   "metadata": {
    "colab": {
     "base_uri": "https://localhost:8080/",
     "height": 112
    },
    "id": "zMNxvSRofA-O",
    "outputId": "36105c06-2e77-4f0e-d8d2-64ded2f1ef26"
   },
   "outputs": [
    {
     "data": {
      "text/html": [
       "<div>\n",
       "<style scoped>\n",
       "    .dataframe tbody tr th:only-of-type {\n",
       "        vertical-align: middle;\n",
       "    }\n",
       "\n",
       "    .dataframe tbody tr th {\n",
       "        vertical-align: top;\n",
       "    }\n",
       "\n",
       "    .dataframe thead th {\n",
       "        text-align: right;\n",
       "    }\n",
       "</style>\n",
       "<table border=\"1\" class=\"dataframe\">\n",
       "  <thead>\n",
       "    <tr style=\"text-align: right;\">\n",
       "      <th></th>\n",
       "      <th>Designer</th>\n",
       "      <th>Pesquisador</th>\n",
       "    </tr>\n",
       "  </thead>\n",
       "  <tbody>\n",
       "    <tr>\n",
       "      <th>Sim</th>\n",
       "      <td>168</td>\n",
       "      <td>206</td>\n",
       "    </tr>\n",
       "    <tr>\n",
       "      <th>Não</th>\n",
       "      <td>68</td>\n",
       "      <td>30</td>\n",
       "    </tr>\n",
       "  </tbody>\n",
       "</table>\n",
       "</div>"
      ],
      "text/plain": [
       "     Designer  Pesquisador\n",
       "Sim       168          206\n",
       "Não        68           30"
      ]
     },
     "execution_count": 10,
     "metadata": {},
     "output_type": "execute_result"
    }
   ],
   "source": [
    "index=['Sim','Não']\n",
    "df_descricao_compila = pd.DataFrame(data=np.nan, index=index, columns=dic_descricao.keys())\n",
    "df_descricao_compila['Pesquisador'] = dic_descricao['Pesquisador']\n",
    "df_descricao_compila['Designer'] = dic_descricao['Designer']\n",
    "df_descricao_compila"
   ]
  },
  {
   "cell_type": "code",
   "execution_count": 11,
   "metadata": {
    "colab": {
     "base_uri": "https://localhost:8080/"
    },
    "id": "eNH8kIg5-ZKb",
    "outputId": "7c216d82-0717-4904-d8bd-36cc72dbab0a"
   },
   "outputs": [
    {
     "data": {
      "text/plain": [
       "[[206, 30], [168, 68]]"
      ]
     },
     "execution_count": 11,
     "metadata": {},
     "output_type": "execute_result"
    }
   ],
   "source": [
    "frequencias = [[df_descricao_compila.loc['Sim','Pesquisador'],df_descricao_compila.loc['Não','Pesquisador']],\n",
    "              [df_descricao_compila.loc['Sim','Designer'],df_descricao_compila.loc['Não','Designer']]]\n",
    "frequencias"
   ]
  },
  {
   "cell_type": "code",
   "execution_count": 12,
   "metadata": {
    "colab": {
     "base_uri": "https://localhost:8080/",
     "height": 112
    },
    "id": "9NohFwh0BYMD",
    "outputId": "f9bc4679-b023-4779-bc31-9265e443ad01"
   },
   "outputs": [
    {
     "data": {
      "text/html": [
       "<div>\n",
       "<style scoped>\n",
       "    .dataframe tbody tr th:only-of-type {\n",
       "        vertical-align: middle;\n",
       "    }\n",
       "\n",
       "    .dataframe tbody tr th {\n",
       "        vertical-align: top;\n",
       "    }\n",
       "\n",
       "    .dataframe thead th {\n",
       "        text-align: right;\n",
       "    }\n",
       "</style>\n",
       "<table border=\"1\" class=\"dataframe\">\n",
       "  <thead>\n",
       "    <tr style=\"text-align: right;\">\n",
       "      <th></th>\n",
       "      <th>Designer</th>\n",
       "      <th>Pesquisador</th>\n",
       "      <th>p-valor</th>\n",
       "    </tr>\n",
       "  </thead>\n",
       "  <tbody>\n",
       "    <tr>\n",
       "      <th>Sim</th>\n",
       "      <td>168</td>\n",
       "      <td>206</td>\n",
       "      <td>&lt;0.001</td>\n",
       "    </tr>\n",
       "    <tr>\n",
       "      <th>Não</th>\n",
       "      <td>68</td>\n",
       "      <td>30</td>\n",
       "      <td>NaN</td>\n",
       "    </tr>\n",
       "  </tbody>\n",
       "</table>\n",
       "</div>"
      ],
      "text/plain": [
       "     Designer  Pesquisador p-valor\n",
       "Sim       168          206  <0.001\n",
       "Não        68           30     NaN"
      ]
     },
     "execution_count": 12,
     "metadata": {},
     "output_type": "execute_result"
    }
   ],
   "source": [
    "_, p_valor = chisquare(f_exp=df_descricao_compila['Pesquisador'], f_obs=df_descricao_compila['Designer'])\n",
    "if p_valor < .001:\n",
    "    p_valor = '<0.001'\n",
    "\n",
    "df_descricao_compila['p-valor'] = (p_valor, np.nan)\n",
    "# df_descricao_compila.to_csv('df_descricao_compila.csv')\n",
    "df_descricao_compila"
   ]
  },
  {
   "cell_type": "markdown",
   "metadata": {
    "id": "5602DgEeZtLl"
   },
   "source": [
    "### Área"
   ]
  },
  {
   "cell_type": "markdown",
   "metadata": {
    "id": "tr6e38we3Tn1"
   },
   "source": [
    "#### Biológicas"
   ]
  },
  {
   "cell_type": "code",
   "execution_count": 13,
   "metadata": {},
   "outputs": [],
   "source": [
    "def teste_estatistico(frequencias):\n",
    "    diff = sum(frequencias[1]) - sum(frequencias[0])\n",
    "    \n",
    "    if diff != 0 :\n",
    "        frequencias[1][0] = frequencias[1][0]-diff\n",
    "\n",
    "    try:\n",
    "        f_exp = frequencias[1]\n",
    "        f_obs = frequencias[0]\n",
    "        _, p_valor = chisquare(f_exp=f_exp, f_obs=f_obs)\n",
    "    except:\n",
    "        p_valor = 0.1\n",
    "        \n",
    "    if p_valor < .001:\n",
    "        p_valor = '<0.001'\n",
    "    else:\n",
    "        p_valor = str(round(p_valor, 3))\n",
    "    return p_valor"
   ]
  },
  {
   "cell_type": "code",
   "execution_count": 14,
   "metadata": {
    "id": "CSMMzG9Fy47Z"
   },
   "outputs": [],
   "source": [
    "def tabela_freq_qualitattivo(df_teste):\n",
    "    df_fonte = df_teste.value_counts(normalize=False)\n",
    "    dic_fonte = {\n",
    "      'Designer': [\n",
    "                      df_fonte.loc['Sim',:].loc['Designer'],\n",
    "                      df_fonte.loc['Não',:].loc['Designer'],\n",
    "                  ],\n",
    "      'Pesquisador': [\n",
    "                        df_fonte.loc['Sim',:].loc['Pesquisador'],\n",
    "                        df_fonte.loc['Não',:].loc['Pesquisador'],\n",
    "                      ],\n",
    "    }\n",
    "    index=['Sim','Não']\n",
    "    df_fonte_compila = pd.DataFrame(data=np.nan, index=index, columns=dic_fonte.keys())\n",
    "    df_fonte_compila['Pesquisador'] = dic_fonte['Pesquisador']\n",
    "    df_fonte_compila['Designer'] = dic_fonte['Designer']\n",
    "    df_fonte_compila = df_fonte_compila[df_fonte_compila.columns[[1,0]]]\n",
    "    frequencias = [[df_fonte_compila.loc['Sim','Pesquisador'],df_fonte_compila.loc['Não','Pesquisador']],\n",
    "                [df_fonte_compila.loc['Sim','Designer'],df_fonte_compila.loc['Não','Designer']]]\n",
    "    \n",
    "    p_valor = teste_estatistico(frequencias)\n",
    "    \n",
    "    df_fonte_compila['p-valor'] = (p_valor, np.nan)\n",
    "    return df_fonte_compila"
   ]
  },
  {
   "cell_type": "code",
   "execution_count": 15,
   "metadata": {
    "colab": {
     "base_uri": "https://localhost:8080/"
    },
    "id": "Xjd2axSd1KYP",
    "outputId": "5e9ab003-a3cd-41c8-9f5f-f7fe6970e7c0"
   },
   "outputs": [
    {
     "data": {
      "text/plain": [
       "Descrição  Origem     \n",
       "Sim        Pesquisador    161\n",
       "           Designer       130\n",
       "Não        Designer        48\n",
       "           Pesquisador     18\n",
       "dtype: int64"
      ]
     },
     "execution_count": 15,
     "metadata": {},
     "output_type": "execute_result"
    }
   ],
   "source": [
    "df_descricao_compila_bio = df_quantitativo[df_quantitativo[\"Área\"] == \"Biológicas\"][colunas_perguntas[[0,4]]]\n",
    "df_descricao_compila_bio.value_counts()"
   ]
  },
  {
   "cell_type": "code",
   "execution_count": 16,
   "metadata": {
    "colab": {
     "base_uri": "https://localhost:8080/",
     "height": 112
    },
    "id": "lr1-naq6aBdt",
    "outputId": "9dac419e-a3ec-4127-8595-7e997e4014c4"
   },
   "outputs": [
    {
     "data": {
      "text/html": [
       "<div>\n",
       "<style scoped>\n",
       "    .dataframe tbody tr th:only-of-type {\n",
       "        vertical-align: middle;\n",
       "    }\n",
       "\n",
       "    .dataframe tbody tr th {\n",
       "        vertical-align: top;\n",
       "    }\n",
       "\n",
       "    .dataframe thead th {\n",
       "        text-align: right;\n",
       "    }\n",
       "</style>\n",
       "<table border=\"1\" class=\"dataframe\">\n",
       "  <thead>\n",
       "    <tr style=\"text-align: right;\">\n",
       "      <th></th>\n",
       "      <th>Pesquisador</th>\n",
       "      <th>Designer</th>\n",
       "      <th>p-valor</th>\n",
       "    </tr>\n",
       "  </thead>\n",
       "  <tbody>\n",
       "    <tr>\n",
       "      <th>Sim</th>\n",
       "      <td>161</td>\n",
       "      <td>130</td>\n",
       "      <td>&lt;0.001</td>\n",
       "    </tr>\n",
       "    <tr>\n",
       "      <th>Não</th>\n",
       "      <td>18</td>\n",
       "      <td>48</td>\n",
       "      <td>NaN</td>\n",
       "    </tr>\n",
       "  </tbody>\n",
       "</table>\n",
       "</div>"
      ],
      "text/plain": [
       "     Pesquisador  Designer p-valor\n",
       "Sim          161       130  <0.001\n",
       "Não           18        48     NaN"
      ]
     },
     "execution_count": 16,
     "metadata": {},
     "output_type": "execute_result"
    }
   ],
   "source": [
    "df_descricao_compila_bio = tabela_freq_qualitattivo(df_descricao_compila_bio)\n",
    "# df_descricao_compila_bio.to_csv(\"df_descricao_compila_bio.csv\")\n",
    "df_descricao_compila_bio"
   ]
  },
  {
   "cell_type": "markdown",
   "metadata": {
    "id": "sWQYduCg3Ll2"
   },
   "source": [
    "#### Exatas"
   ]
  },
  {
   "cell_type": "code",
   "execution_count": 17,
   "metadata": {
    "colab": {
     "base_uri": "https://localhost:8080/"
    },
    "id": "VFihjKXr3jG2",
    "outputId": "2c0d91eb-cc58-4f93-fe9f-83578963fc4c"
   },
   "outputs": [
    {
     "data": {
      "text/plain": [
       "Descrição  Origem     \n",
       "Sim        Designer       23\n",
       "           Pesquisador    20\n",
       "Não        Designer       11\n",
       "           Pesquisador     3\n",
       "dtype: int64"
      ]
     },
     "execution_count": 17,
     "metadata": {},
     "output_type": "execute_result"
    }
   ],
   "source": [
    "df_descricao_compila_exatas = df_quantitativo[df_quantitativo[\"Área\"] == \"Exatas\"][colunas_perguntas[[0,4]]]\n",
    "df_descricao_compila_exatas.value_counts()"
   ]
  },
  {
   "cell_type": "code",
   "execution_count": 18,
   "metadata": {
    "colab": {
     "base_uri": "https://localhost:8080/",
     "height": 112
    },
    "id": "X49C14CB3lRH",
    "outputId": "33f64660-de62-424c-e8dc-0ceb7ddffc6a"
   },
   "outputs": [
    {
     "data": {
      "text/html": [
       "<div>\n",
       "<style scoped>\n",
       "    .dataframe tbody tr th:only-of-type {\n",
       "        vertical-align: middle;\n",
       "    }\n",
       "\n",
       "    .dataframe tbody tr th {\n",
       "        vertical-align: top;\n",
       "    }\n",
       "\n",
       "    .dataframe thead th {\n",
       "        text-align: right;\n",
       "    }\n",
       "</style>\n",
       "<table border=\"1\" class=\"dataframe\">\n",
       "  <thead>\n",
       "    <tr style=\"text-align: right;\">\n",
       "      <th></th>\n",
       "      <th>Pesquisador</th>\n",
       "      <th>Designer</th>\n",
       "      <th>p-valor</th>\n",
       "    </tr>\n",
       "  </thead>\n",
       "  <tbody>\n",
       "    <tr>\n",
       "      <th>Sim</th>\n",
       "      <td>20</td>\n",
       "      <td>23</td>\n",
       "      <td>&lt;0.001</td>\n",
       "    </tr>\n",
       "    <tr>\n",
       "      <th>Não</th>\n",
       "      <td>3</td>\n",
       "      <td>11</td>\n",
       "      <td>NaN</td>\n",
       "    </tr>\n",
       "  </tbody>\n",
       "</table>\n",
       "</div>"
      ],
      "text/plain": [
       "     Pesquisador  Designer p-valor\n",
       "Sim           20        23  <0.001\n",
       "Não            3        11     NaN"
      ]
     },
     "execution_count": 18,
     "metadata": {},
     "output_type": "execute_result"
    }
   ],
   "source": [
    "df_descricao_compila_exatas = tabela_freq_qualitattivo(df_descricao_compila_exatas)\n",
    "# df_descricao_compila_exatas.to_csv(\"df_descricao_compila_exatas.csv\")\n",
    "df_descricao_compila_exatas"
   ]
  },
  {
   "cell_type": "markdown",
   "metadata": {
    "id": "rJMkYaOK37bf"
   },
   "source": [
    "#### Humanas"
   ]
  },
  {
   "cell_type": "code",
   "execution_count": 19,
   "metadata": {
    "colab": {
     "base_uri": "https://localhost:8080/"
    },
    "id": "TbSXsAOl3-Zt",
    "outputId": "5ea56d71-2bd6-4306-bec6-67fe53320991"
   },
   "outputs": [
    {
     "data": {
      "text/plain": [
       "Descrição  Origem     \n",
       "Sim        Pesquisador    25\n",
       "           Designer       15\n",
       "Não        Designer        9\n",
       "           Pesquisador     9\n",
       "dtype: int64"
      ]
     },
     "execution_count": 19,
     "metadata": {},
     "output_type": "execute_result"
    }
   ],
   "source": [
    "df_descricao_compila_humanas = df_quantitativo[df_quantitativo[\"Área\"] == \"Humanas\"][colunas_perguntas[[0,4]]]\n",
    "df_descricao_compila_humanas.value_counts()"
   ]
  },
  {
   "cell_type": "code",
   "execution_count": 20,
   "metadata": {
    "colab": {
     "base_uri": "https://localhost:8080/",
     "height": 112
    },
    "id": "6gOWIn7e4H1q",
    "outputId": "e7a73226-811b-4574-8134-af61ad2ce46f"
   },
   "outputs": [
    {
     "data": {
      "text/html": [
       "<div>\n",
       "<style scoped>\n",
       "    .dataframe tbody tr th:only-of-type {\n",
       "        vertical-align: middle;\n",
       "    }\n",
       "\n",
       "    .dataframe tbody tr th {\n",
       "        vertical-align: top;\n",
       "    }\n",
       "\n",
       "    .dataframe thead th {\n",
       "        text-align: right;\n",
       "    }\n",
       "</style>\n",
       "<table border=\"1\" class=\"dataframe\">\n",
       "  <thead>\n",
       "    <tr style=\"text-align: right;\">\n",
       "      <th></th>\n",
       "      <th>Pesquisador</th>\n",
       "      <th>Designer</th>\n",
       "      <th>p-valor</th>\n",
       "    </tr>\n",
       "  </thead>\n",
       "  <tbody>\n",
       "    <tr>\n",
       "      <th>Sim</th>\n",
       "      <td>25</td>\n",
       "      <td>15</td>\n",
       "      <td>1.0</td>\n",
       "    </tr>\n",
       "    <tr>\n",
       "      <th>Não</th>\n",
       "      <td>9</td>\n",
       "      <td>9</td>\n",
       "      <td>NaN</td>\n",
       "    </tr>\n",
       "  </tbody>\n",
       "</table>\n",
       "</div>"
      ],
      "text/plain": [
       "     Pesquisador  Designer p-valor\n",
       "Sim           25        15     1.0\n",
       "Não            9         9     NaN"
      ]
     },
     "execution_count": 20,
     "metadata": {},
     "output_type": "execute_result"
    }
   ],
   "source": [
    "df_descricao_compila_humanas = tabela_freq_qualitattivo(df_descricao_compila_humanas)\n",
    "# df_descricao_compila_humanas.to_csv(\"df_descricao_compila_humanas.csv\")\n",
    "df_descricao_compila_humanas"
   ]
  },
  {
   "cell_type": "markdown",
   "metadata": {
    "id": "M2NNDKMGCNzL"
   },
   "source": [
    "### Grau"
   ]
  },
  {
   "cell_type": "markdown",
   "metadata": {
    "id": "-RgbaSHHDMTK"
   },
   "source": [
    "#### Graduação"
   ]
  },
  {
   "cell_type": "code",
   "execution_count": 21,
   "metadata": {
    "colab": {
     "base_uri": "https://localhost:8080/"
    },
    "id": "Av8gBPb7DQAw",
    "outputId": "42111530-ce0c-49c8-8107-6ce53ec9d2ae"
   },
   "outputs": [
    {
     "data": {
      "text/plain": [
       "Descrição  Origem     \n",
       "Sim        Designer       18\n",
       "           Pesquisador    17\n",
       "Não        Designer        8\n",
       "           Pesquisador     2\n",
       "dtype: int64"
      ]
     },
     "execution_count": 21,
     "metadata": {},
     "output_type": "execute_result"
    }
   ],
   "source": [
    "df_descricao_compila_gradu = df_quantitativo[df_quantitativo[\"Grau\"] == \"Graduação\"][colunas_perguntas[[0,4]]]\n",
    "df_descricao_compila_gradu.value_counts()"
   ]
  },
  {
   "cell_type": "code",
   "execution_count": 22,
   "metadata": {
    "colab": {
     "base_uri": "https://localhost:8080/",
     "height": 112
    },
    "id": "YDMv5-IlDpcG",
    "outputId": "7f91d938-6d49-44b1-dbb6-ff7e6023a63a"
   },
   "outputs": [
    {
     "data": {
      "text/html": [
       "<div>\n",
       "<style scoped>\n",
       "    .dataframe tbody tr th:only-of-type {\n",
       "        vertical-align: middle;\n",
       "    }\n",
       "\n",
       "    .dataframe tbody tr th {\n",
       "        vertical-align: top;\n",
       "    }\n",
       "\n",
       "    .dataframe thead th {\n",
       "        text-align: right;\n",
       "    }\n",
       "</style>\n",
       "<table border=\"1\" class=\"dataframe\">\n",
       "  <thead>\n",
       "    <tr style=\"text-align: right;\">\n",
       "      <th></th>\n",
       "      <th>Pesquisador</th>\n",
       "      <th>Designer</th>\n",
       "      <th>p-valor</th>\n",
       "    </tr>\n",
       "  </thead>\n",
       "  <tbody>\n",
       "    <tr>\n",
       "      <th>Sim</th>\n",
       "      <td>17</td>\n",
       "      <td>18</td>\n",
       "      <td>0.005</td>\n",
       "    </tr>\n",
       "    <tr>\n",
       "      <th>Não</th>\n",
       "      <td>2</td>\n",
       "      <td>8</td>\n",
       "      <td>NaN</td>\n",
       "    </tr>\n",
       "  </tbody>\n",
       "</table>\n",
       "</div>"
      ],
      "text/plain": [
       "     Pesquisador  Designer p-valor\n",
       "Sim           17        18   0.005\n",
       "Não            2         8     NaN"
      ]
     },
     "execution_count": 22,
     "metadata": {},
     "output_type": "execute_result"
    }
   ],
   "source": [
    "df_descricao_compila_gradu = tabela_freq_qualitattivo(df_descricao_compila_gradu)\n",
    "# df_descricao_compila_gradu.to_csv(\"df_descricao_compila_gradu.csv\")\n",
    "df_descricao_compila_gradu"
   ]
  },
  {
   "cell_type": "markdown",
   "metadata": {
    "id": "C1E8WDe5v6G9"
   },
   "source": [
    "#### Pós-Graduação"
   ]
  },
  {
   "cell_type": "code",
   "execution_count": 23,
   "metadata": {
    "colab": {
     "base_uri": "https://localhost:8080/"
    },
    "id": "Bs6wUoAXv-oX",
    "outputId": "6a1b8d74-3ffb-4702-aa04-808bad8262fa"
   },
   "outputs": [
    {
     "data": {
      "text/plain": [
       "Descrição  Origem     \n",
       "Sim        Designer       33\n",
       "           Pesquisador    31\n",
       "Não        Designer       14\n",
       "           Pesquisador     7\n",
       "dtype: int64"
      ]
     },
     "execution_count": 23,
     "metadata": {},
     "output_type": "execute_result"
    }
   ],
   "source": [
    "df_descricao_compila_posGradu = df_quantitativo[df_quantitativo[\"Grau\"] == \"Pós-Graduação\"][colunas_perguntas[[0,4]]]\n",
    "df_descricao_compila_posGradu.value_counts()"
   ]
  },
  {
   "cell_type": "code",
   "execution_count": 24,
   "metadata": {
    "colab": {
     "base_uri": "https://localhost:8080/",
     "height": 112
    },
    "id": "OJWOYuikwCZW",
    "outputId": "02573374-100b-42f2-f321-345ab9c3d9d7"
   },
   "outputs": [
    {
     "data": {
      "text/html": [
       "<div>\n",
       "<style scoped>\n",
       "    .dataframe tbody tr th:only-of-type {\n",
       "        vertical-align: middle;\n",
       "    }\n",
       "\n",
       "    .dataframe tbody tr th {\n",
       "        vertical-align: top;\n",
       "    }\n",
       "\n",
       "    .dataframe thead th {\n",
       "        text-align: right;\n",
       "    }\n",
       "</style>\n",
       "<table border=\"1\" class=\"dataframe\">\n",
       "  <thead>\n",
       "    <tr style=\"text-align: right;\">\n",
       "      <th></th>\n",
       "      <th>Pesquisador</th>\n",
       "      <th>Designer</th>\n",
       "      <th>p-valor</th>\n",
       "    </tr>\n",
       "  </thead>\n",
       "  <tbody>\n",
       "    <tr>\n",
       "      <th>Sim</th>\n",
       "      <td>31</td>\n",
       "      <td>33</td>\n",
       "      <td>0.019</td>\n",
       "    </tr>\n",
       "    <tr>\n",
       "      <th>Não</th>\n",
       "      <td>7</td>\n",
       "      <td>14</td>\n",
       "      <td>NaN</td>\n",
       "    </tr>\n",
       "  </tbody>\n",
       "</table>\n",
       "</div>"
      ],
      "text/plain": [
       "     Pesquisador  Designer p-valor\n",
       "Sim           31        33   0.019\n",
       "Não            7        14     NaN"
      ]
     },
     "execution_count": 24,
     "metadata": {},
     "output_type": "execute_result"
    }
   ],
   "source": [
    "df_descricao_compila_posGradu = tabela_freq_qualitattivo(df_descricao_compila_posGradu)\n",
    "# df_descricao_compila_posGradu.to_csv(\"df_descricao_compila_posGradu.csv\")\n",
    "df_descricao_compila_posGradu"
   ]
  },
  {
   "cell_type": "markdown",
   "metadata": {
    "id": "LuIgqGe7wOGw"
   },
   "source": [
    "#### Mestrado"
   ]
  },
  {
   "cell_type": "code",
   "execution_count": 25,
   "metadata": {
    "colab": {
     "base_uri": "https://localhost:8080/"
    },
    "id": "S5vIXyPmwVdN",
    "outputId": "4840c81e-114c-49ea-83e2-873d0bfd3b4d"
   },
   "outputs": [
    {
     "data": {
      "text/plain": [
       "Descrição  Origem     \n",
       "Sim        Pesquisador    89\n",
       "           Designer       62\n",
       "Não        Designer       23\n",
       "           Pesquisador    13\n",
       "dtype: int64"
      ]
     },
     "execution_count": 25,
     "metadata": {},
     "output_type": "execute_result"
    }
   ],
   "source": [
    "df_descricao_compila_mestrado = df_quantitativo[df_quantitativo[\"Grau\"] == \"Mestrado\"][colunas_perguntas[[0,4]]]\n",
    "df_descricao_compila_mestrado.value_counts()"
   ]
  },
  {
   "cell_type": "code",
   "execution_count": 26,
   "metadata": {
    "colab": {
     "base_uri": "https://localhost:8080/",
     "height": 112
    },
    "id": "wXUvc_PXwWZt",
    "outputId": "9fc7ef1d-a677-4ab8-b846-81d7dc7f7f21"
   },
   "outputs": [
    {
     "data": {
      "text/html": [
       "<div>\n",
       "<style scoped>\n",
       "    .dataframe tbody tr th:only-of-type {\n",
       "        vertical-align: middle;\n",
       "    }\n",
       "\n",
       "    .dataframe tbody tr th {\n",
       "        vertical-align: top;\n",
       "    }\n",
       "\n",
       "    .dataframe thead th {\n",
       "        text-align: right;\n",
       "    }\n",
       "</style>\n",
       "<table border=\"1\" class=\"dataframe\">\n",
       "  <thead>\n",
       "    <tr style=\"text-align: right;\">\n",
       "      <th></th>\n",
       "      <th>Pesquisador</th>\n",
       "      <th>Designer</th>\n",
       "      <th>p-valor</th>\n",
       "    </tr>\n",
       "  </thead>\n",
       "  <tbody>\n",
       "    <tr>\n",
       "      <th>Sim</th>\n",
       "      <td>89</td>\n",
       "      <td>62</td>\n",
       "      <td>0.018</td>\n",
       "    </tr>\n",
       "    <tr>\n",
       "      <th>Não</th>\n",
       "      <td>13</td>\n",
       "      <td>23</td>\n",
       "      <td>NaN</td>\n",
       "    </tr>\n",
       "  </tbody>\n",
       "</table>\n",
       "</div>"
      ],
      "text/plain": [
       "     Pesquisador  Designer p-valor\n",
       "Sim           89        62   0.018\n",
       "Não           13        23     NaN"
      ]
     },
     "execution_count": 26,
     "metadata": {},
     "output_type": "execute_result"
    }
   ],
   "source": [
    "df_descricao_compila_mestrado = tabela_freq_qualitattivo(df_descricao_compila_mestrado)\n",
    "# df_descricao_compila_mestrado.to_csv(\"df_descricao_compila_mestrado.csv\")\n",
    "df_descricao_compila_mestrado"
   ]
  },
  {
   "cell_type": "markdown",
   "metadata": {
    "id": "0AtE9Ns-wRTv"
   },
   "source": [
    "#### Doutorado"
   ]
  },
  {
   "cell_type": "code",
   "execution_count": 27,
   "metadata": {
    "colab": {
     "base_uri": "https://localhost:8080/"
    },
    "id": "iHpLyCg9wgw2",
    "outputId": "c29e3b8a-fc14-49a2-d580-2db4c20e9201"
   },
   "outputs": [
    {
     "data": {
      "text/plain": [
       "Descrição  Origem     \n",
       "Sim        Pesquisador    69\n",
       "           Designer       55\n",
       "Não        Designer       23\n",
       "           Pesquisador     8\n",
       "dtype: int64"
      ]
     },
     "execution_count": 27,
     "metadata": {},
     "output_type": "execute_result"
    }
   ],
   "source": [
    "df_descricao_compila_doc = df_quantitativo[df_quantitativo[\"Grau\"] == \"Doutorado\"][colunas_perguntas[[0,4]]]\n",
    "df_descricao_compila_doc.value_counts()"
   ]
  },
  {
   "cell_type": "code",
   "execution_count": 28,
   "metadata": {
    "colab": {
     "base_uri": "https://localhost:8080/",
     "height": 112
    },
    "id": "LraQAXbLwh-9",
    "outputId": "e998033b-a2b6-4dcc-d054-c2f3d229a42b"
   },
   "outputs": [
    {
     "data": {
      "text/html": [
       "<div>\n",
       "<style scoped>\n",
       "    .dataframe tbody tr th:only-of-type {\n",
       "        vertical-align: middle;\n",
       "    }\n",
       "\n",
       "    .dataframe tbody tr th {\n",
       "        vertical-align: top;\n",
       "    }\n",
       "\n",
       "    .dataframe thead th {\n",
       "        text-align: right;\n",
       "    }\n",
       "</style>\n",
       "<table border=\"1\" class=\"dataframe\">\n",
       "  <thead>\n",
       "    <tr style=\"text-align: right;\">\n",
       "      <th></th>\n",
       "      <th>Pesquisador</th>\n",
       "      <th>Designer</th>\n",
       "      <th>p-valor</th>\n",
       "    </tr>\n",
       "  </thead>\n",
       "  <tbody>\n",
       "    <tr>\n",
       "      <th>Sim</th>\n",
       "      <td>69</td>\n",
       "      <td>55</td>\n",
       "      <td>&lt;0.001</td>\n",
       "    </tr>\n",
       "    <tr>\n",
       "      <th>Não</th>\n",
       "      <td>8</td>\n",
       "      <td>23</td>\n",
       "      <td>NaN</td>\n",
       "    </tr>\n",
       "  </tbody>\n",
       "</table>\n",
       "</div>"
      ],
      "text/plain": [
       "     Pesquisador  Designer p-valor\n",
       "Sim           69        55  <0.001\n",
       "Não            8        23     NaN"
      ]
     },
     "execution_count": 28,
     "metadata": {},
     "output_type": "execute_result"
    }
   ],
   "source": [
    "df_descricao_compila_doc = tabela_freq_qualitattivo(df_descricao_compila_doc)\n",
    "# df_descricao_compila_doc.to_csv(\"df_descricao_compila_doc.csv\")\n",
    "df_descricao_compila_doc"
   ]
  },
  {
   "cell_type": "markdown",
   "metadata": {
    "id": "dm-GWBK5f02P"
   },
   "source": [
    "## Analisando a pergunta Fonte"
   ]
  },
  {
   "cell_type": "markdown",
   "metadata": {
    "id": "g9wP-zwXZmb7"
   },
   "source": [
    "### Geral"
   ]
  },
  {
   "cell_type": "code",
   "execution_count": 29,
   "metadata": {
    "colab": {
     "base_uri": "https://localhost:8080/"
    },
    "id": "5FV3ixpOulda",
    "outputId": "62881929-685d-4ee7-cff7-402b8bb333e6"
   },
   "outputs": [
    {
     "data": {
      "text/plain": [
       "Fonte  Origem     \n",
       "Sim    Designer       191\n",
       "       Pesquisador    146\n",
       "Não    Pesquisador     90\n",
       "       Designer        45\n",
       "dtype: int64"
      ]
     },
     "execution_count": 29,
     "metadata": {},
     "output_type": "execute_result"
    }
   ],
   "source": [
    "df_fonte_compila = df_quantitativo[colunas_perguntas[[1,4]]]\n",
    "df_fonte_compila.value_counts()"
   ]
  },
  {
   "cell_type": "code",
   "execution_count": 30,
   "metadata": {
    "colab": {
     "base_uri": "https://localhost:8080/",
     "height": 112
    },
    "id": "1FqYfgWi5quN",
    "outputId": "1c104c34-9f9c-4ba1-c5be-17b155334560"
   },
   "outputs": [
    {
     "data": {
      "text/html": [
       "<div>\n",
       "<style scoped>\n",
       "    .dataframe tbody tr th:only-of-type {\n",
       "        vertical-align: middle;\n",
       "    }\n",
       "\n",
       "    .dataframe tbody tr th {\n",
       "        vertical-align: top;\n",
       "    }\n",
       "\n",
       "    .dataframe thead th {\n",
       "        text-align: right;\n",
       "    }\n",
       "</style>\n",
       "<table border=\"1\" class=\"dataframe\">\n",
       "  <thead>\n",
       "    <tr style=\"text-align: right;\">\n",
       "      <th></th>\n",
       "      <th>Pesquisador</th>\n",
       "      <th>Designer</th>\n",
       "      <th>p-valor</th>\n",
       "    </tr>\n",
       "  </thead>\n",
       "  <tbody>\n",
       "    <tr>\n",
       "      <th>Sim</th>\n",
       "      <td>146</td>\n",
       "      <td>191</td>\n",
       "      <td>&lt;0.001</td>\n",
       "    </tr>\n",
       "    <tr>\n",
       "      <th>Não</th>\n",
       "      <td>90</td>\n",
       "      <td>45</td>\n",
       "      <td>NaN</td>\n",
       "    </tr>\n",
       "  </tbody>\n",
       "</table>\n",
       "</div>"
      ],
      "text/plain": [
       "     Pesquisador  Designer p-valor\n",
       "Sim          146       191  <0.001\n",
       "Não           90        45     NaN"
      ]
     },
     "execution_count": 30,
     "metadata": {},
     "output_type": "execute_result"
    }
   ],
   "source": [
    "df_fonte_compila = tabela_freq_qualitattivo(df_fonte_compila)\n",
    "# df_fonte_compila.to_csv(\"df_fonte_compila.csv\")\n",
    "df_fonte_compila"
   ]
  },
  {
   "cell_type": "markdown",
   "metadata": {
    "id": "GIzVTxcQ4SnV"
   },
   "source": [
    "### Área"
   ]
  },
  {
   "cell_type": "markdown",
   "metadata": {
    "id": "WFV-TgB74b20"
   },
   "source": [
    "#### Bilógicas"
   ]
  },
  {
   "cell_type": "code",
   "execution_count": 31,
   "metadata": {
    "colab": {
     "base_uri": "https://localhost:8080/"
    },
    "id": "bSqxwZ7F4UK8",
    "outputId": "c4df5154-466e-4c88-e907-eb468ff9b94b"
   },
   "outputs": [
    {
     "data": {
      "text/plain": [
       "Fonte  Origem     \n",
       "Sim    Designer       140\n",
       "       Pesquisador    104\n",
       "Não    Pesquisador     75\n",
       "       Designer        38\n",
       "dtype: int64"
      ]
     },
     "execution_count": 31,
     "metadata": {},
     "output_type": "execute_result"
    }
   ],
   "source": [
    "df_fonte_compila_bio = df_quantitativo[df_quantitativo[\"Área\"] == \"Biológicas\"][colunas_perguntas[[1,4]]]\n",
    "df_fonte_compila_bio.value_counts()"
   ]
  },
  {
   "cell_type": "code",
   "execution_count": 32,
   "metadata": {
    "colab": {
     "base_uri": "https://localhost:8080/",
     "height": 112
    },
    "id": "qHETO6Wn48GE",
    "outputId": "9c4681e6-ebb5-487b-a280-cb45b4a00e8f"
   },
   "outputs": [
    {
     "data": {
      "text/html": [
       "<div>\n",
       "<style scoped>\n",
       "    .dataframe tbody tr th:only-of-type {\n",
       "        vertical-align: middle;\n",
       "    }\n",
       "\n",
       "    .dataframe tbody tr th {\n",
       "        vertical-align: top;\n",
       "    }\n",
       "\n",
       "    .dataframe thead th {\n",
       "        text-align: right;\n",
       "    }\n",
       "</style>\n",
       "<table border=\"1\" class=\"dataframe\">\n",
       "  <thead>\n",
       "    <tr style=\"text-align: right;\">\n",
       "      <th></th>\n",
       "      <th>Pesquisador</th>\n",
       "      <th>Designer</th>\n",
       "      <th>p-valor</th>\n",
       "    </tr>\n",
       "  </thead>\n",
       "  <tbody>\n",
       "    <tr>\n",
       "      <th>Sim</th>\n",
       "      <td>104</td>\n",
       "      <td>140</td>\n",
       "      <td>&lt;0.001</td>\n",
       "    </tr>\n",
       "    <tr>\n",
       "      <th>Não</th>\n",
       "      <td>75</td>\n",
       "      <td>38</td>\n",
       "      <td>NaN</td>\n",
       "    </tr>\n",
       "  </tbody>\n",
       "</table>\n",
       "</div>"
      ],
      "text/plain": [
       "     Pesquisador  Designer p-valor\n",
       "Sim          104       140  <0.001\n",
       "Não           75        38     NaN"
      ]
     },
     "execution_count": 32,
     "metadata": {},
     "output_type": "execute_result"
    }
   ],
   "source": [
    "df_fonte_compila_bio = tabela_freq_qualitattivo(df_fonte_compila_bio)\n",
    "# df_fonte_compila_bio.to_csv(\"df_fonte_compila_bio.csv\")\n",
    "df_fonte_compila_bio"
   ]
  },
  {
   "cell_type": "markdown",
   "metadata": {
    "id": "iVHp2wmW4fnt"
   },
   "source": [
    "#### Exatas"
   ]
  },
  {
   "cell_type": "code",
   "execution_count": 33,
   "metadata": {
    "colab": {
     "base_uri": "https://localhost:8080/"
    },
    "id": "eIDwZGGW4gqU",
    "outputId": "7cafcf73-fa33-430b-a0e5-858b372d3670"
   },
   "outputs": [
    {
     "data": {
      "text/plain": [
       "Fonte  Origem     \n",
       "Sim    Designer       30\n",
       "       Pesquisador    14\n",
       "Não    Pesquisador     9\n",
       "       Designer        4\n",
       "dtype: int64"
      ]
     },
     "execution_count": 33,
     "metadata": {},
     "output_type": "execute_result"
    }
   ],
   "source": [
    "df_fonte_compila_exatas = df_quantitativo[df_quantitativo[\"Área\"] == \"Exatas\"][colunas_perguntas[[1,4]]]\n",
    "df_fonte_compila_exatas.value_counts()"
   ]
  },
  {
   "cell_type": "code",
   "execution_count": 34,
   "metadata": {
    "colab": {
     "base_uri": "https://localhost:8080/",
     "height": 112
    },
    "id": "L4EzMB8r5Jy4",
    "outputId": "fbc30788-5c53-4abb-90d9-f8d60bc1cba6"
   },
   "outputs": [
    {
     "data": {
      "text/html": [
       "<div>\n",
       "<style scoped>\n",
       "    .dataframe tbody tr th:only-of-type {\n",
       "        vertical-align: middle;\n",
       "    }\n",
       "\n",
       "    .dataframe tbody tr th {\n",
       "        vertical-align: top;\n",
       "    }\n",
       "\n",
       "    .dataframe thead th {\n",
       "        text-align: right;\n",
       "    }\n",
       "</style>\n",
       "<table border=\"1\" class=\"dataframe\">\n",
       "  <thead>\n",
       "    <tr style=\"text-align: right;\">\n",
       "      <th></th>\n",
       "      <th>Pesquisador</th>\n",
       "      <th>Designer</th>\n",
       "      <th>p-valor</th>\n",
       "    </tr>\n",
       "  </thead>\n",
       "  <tbody>\n",
       "    <tr>\n",
       "      <th>Sim</th>\n",
       "      <td>14</td>\n",
       "      <td>30</td>\n",
       "      <td>0.006</td>\n",
       "    </tr>\n",
       "    <tr>\n",
       "      <th>Não</th>\n",
       "      <td>9</td>\n",
       "      <td>4</td>\n",
       "      <td>NaN</td>\n",
       "    </tr>\n",
       "  </tbody>\n",
       "</table>\n",
       "</div>"
      ],
      "text/plain": [
       "     Pesquisador  Designer p-valor\n",
       "Sim           14        30   0.006\n",
       "Não            9         4     NaN"
      ]
     },
     "execution_count": 34,
     "metadata": {},
     "output_type": "execute_result"
    }
   ],
   "source": [
    "df_fonte_compila_exatas = tabela_freq_qualitattivo(df_fonte_compila_exatas)\n",
    "# df_fonte_compila_exatas.to_csv(\"df_fonte_compila_exatas.csv\")\n",
    "df_fonte_compila_exatas"
   ]
  },
  {
   "cell_type": "markdown",
   "metadata": {
    "id": "4YGEYNlX4hGf"
   },
   "source": [
    "#### Humanas"
   ]
  },
  {
   "cell_type": "code",
   "execution_count": 35,
   "metadata": {
    "colab": {
     "base_uri": "https://localhost:8080/"
    },
    "id": "iruafRFl5UqF",
    "outputId": "f06be5df-7e43-4af8-9a10-ebbda256ae2e"
   },
   "outputs": [
    {
     "data": {
      "text/plain": [
       "Fonte  Origem     \n",
       "Sim    Pesquisador    28\n",
       "       Designer       21\n",
       "Não    Pesquisador     6\n",
       "       Designer        3\n",
       "dtype: int64"
      ]
     },
     "execution_count": 35,
     "metadata": {},
     "output_type": "execute_result"
    }
   ],
   "source": [
    "df_fonte_compila_humanas = df_quantitativo[df_quantitativo[\"Área\"] == \"Humanas\"][colunas_perguntas[[1,4]]]\n",
    "df_fonte_compila_humanas.value_counts()"
   ]
  },
  {
   "cell_type": "code",
   "execution_count": 36,
   "metadata": {
    "colab": {
     "base_uri": "https://localhost:8080/",
     "height": 112
    },
    "id": "bZeCJWQ_4iNE",
    "outputId": "5dd1db9c-b558-4efb-b5ed-a46fcef5dd50"
   },
   "outputs": [
    {
     "data": {
      "text/html": [
       "<div>\n",
       "<style scoped>\n",
       "    .dataframe tbody tr th:only-of-type {\n",
       "        vertical-align: middle;\n",
       "    }\n",
       "\n",
       "    .dataframe tbody tr th {\n",
       "        vertical-align: top;\n",
       "    }\n",
       "\n",
       "    .dataframe thead th {\n",
       "        text-align: right;\n",
       "    }\n",
       "</style>\n",
       "<table border=\"1\" class=\"dataframe\">\n",
       "  <thead>\n",
       "    <tr style=\"text-align: right;\">\n",
       "      <th></th>\n",
       "      <th>Pesquisador</th>\n",
       "      <th>Designer</th>\n",
       "      <th>p-valor</th>\n",
       "    </tr>\n",
       "  </thead>\n",
       "  <tbody>\n",
       "    <tr>\n",
       "      <th>Sim</th>\n",
       "      <td>28</td>\n",
       "      <td>21</td>\n",
       "      <td>0.07</td>\n",
       "    </tr>\n",
       "    <tr>\n",
       "      <th>Não</th>\n",
       "      <td>6</td>\n",
       "      <td>3</td>\n",
       "      <td>NaN</td>\n",
       "    </tr>\n",
       "  </tbody>\n",
       "</table>\n",
       "</div>"
      ],
      "text/plain": [
       "     Pesquisador  Designer p-valor\n",
       "Sim           28        21    0.07\n",
       "Não            6         3     NaN"
      ]
     },
     "execution_count": 36,
     "metadata": {},
     "output_type": "execute_result"
    }
   ],
   "source": [
    "df_fonte_compila_humanas = tabela_freq_qualitattivo(df_fonte_compila_humanas)\n",
    "# df_fonte_compila_humanas.to_csv(\"df_fonte_compila_humanas.csv\")\n",
    "df_fonte_compila_humanas"
   ]
  },
  {
   "cell_type": "markdown",
   "metadata": {
    "id": "rSrVFYk4w2dF"
   },
   "source": [
    "### Grau"
   ]
  },
  {
   "cell_type": "markdown",
   "metadata": {
    "id": "CAupQchQw57t"
   },
   "source": [
    "#### Graduação"
   ]
  },
  {
   "cell_type": "code",
   "execution_count": 37,
   "metadata": {
    "colab": {
     "base_uri": "https://localhost:8080/"
    },
    "id": "qdoOjdjsxGts",
    "outputId": "bb514967-ac45-43c4-95ab-f3b6b304ae56"
   },
   "outputs": [
    {
     "data": {
      "text/plain": [
       "Fonte  Origem     \n",
       "Sim    Designer       22\n",
       "       Pesquisador    10\n",
       "Não    Pesquisador     9\n",
       "       Designer        4\n",
       "dtype: int64"
      ]
     },
     "execution_count": 37,
     "metadata": {},
     "output_type": "execute_result"
    }
   ],
   "source": [
    "df_fonte_compila_gradua = df_quantitativo[df_quantitativo[\"Grau\"] == \"Graduação\"][colunas_perguntas[[1,4]]]\n",
    "df_fonte_compila_gradua.value_counts()"
   ]
  },
  {
   "cell_type": "code",
   "execution_count": 38,
   "metadata": {
    "colab": {
     "base_uri": "https://localhost:8080/",
     "height": 112
    },
    "id": "S3KpLF6VxGp4",
    "outputId": "f6717a1b-ac6c-4c40-8b3a-3b1ed774ac26"
   },
   "outputs": [
    {
     "data": {
      "text/html": [
       "<div>\n",
       "<style scoped>\n",
       "    .dataframe tbody tr th:only-of-type {\n",
       "        vertical-align: middle;\n",
       "    }\n",
       "\n",
       "    .dataframe tbody tr th {\n",
       "        vertical-align: top;\n",
       "    }\n",
       "\n",
       "    .dataframe thead th {\n",
       "        text-align: right;\n",
       "    }\n",
       "</style>\n",
       "<table border=\"1\" class=\"dataframe\">\n",
       "  <thead>\n",
       "    <tr style=\"text-align: right;\">\n",
       "      <th></th>\n",
       "      <th>Pesquisador</th>\n",
       "      <th>Designer</th>\n",
       "      <th>p-valor</th>\n",
       "    </tr>\n",
       "  </thead>\n",
       "  <tbody>\n",
       "    <tr>\n",
       "      <th>Sim</th>\n",
       "      <td>10</td>\n",
       "      <td>22</td>\n",
       "      <td>0.005</td>\n",
       "    </tr>\n",
       "    <tr>\n",
       "      <th>Não</th>\n",
       "      <td>9</td>\n",
       "      <td>4</td>\n",
       "      <td>NaN</td>\n",
       "    </tr>\n",
       "  </tbody>\n",
       "</table>\n",
       "</div>"
      ],
      "text/plain": [
       "     Pesquisador  Designer p-valor\n",
       "Sim           10        22   0.005\n",
       "Não            9         4     NaN"
      ]
     },
     "execution_count": 38,
     "metadata": {},
     "output_type": "execute_result"
    }
   ],
   "source": [
    "df_fonte_compila_gradua = tabela_freq_qualitattivo(df_fonte_compila_gradua)\n",
    "# df_fonte_compila_gradua.to_csv(\"df_fonte_compila_gradua.csv\")\n",
    "df_fonte_compila_gradua"
   ]
  },
  {
   "cell_type": "markdown",
   "metadata": {
    "id": "edXEjRWkw9J8"
   },
   "source": [
    "#### Pós-Graduação"
   ]
  },
  {
   "cell_type": "code",
   "execution_count": 39,
   "metadata": {
    "colab": {
     "base_uri": "https://localhost:8080/"
    },
    "id": "0TSxv_u7xGKM",
    "outputId": "328eb02f-090a-46a1-8327-a0a49bb7a278"
   },
   "outputs": [
    {
     "data": {
      "text/plain": [
       "Fonte  Origem     \n",
       "Sim    Designer       37\n",
       "       Pesquisador    27\n",
       "Não    Pesquisador    11\n",
       "       Designer       10\n",
       "dtype: int64"
      ]
     },
     "execution_count": 39,
     "metadata": {},
     "output_type": "execute_result"
    }
   ],
   "source": [
    "df_fonte_compila_posGradua = df_quantitativo[df_quantitativo[\"Grau\"] == \"Pós-Graduação\"][colunas_perguntas[[1,4]]]\n",
    "df_fonte_compila_posGradua.value_counts()"
   ]
  },
  {
   "cell_type": "code",
   "execution_count": 40,
   "metadata": {
    "colab": {
     "base_uri": "https://localhost:8080/",
     "height": 112
    },
    "id": "DX66n4z6xGFD",
    "outputId": "690730b6-124c-4150-d070-c9f01b2ea2d3"
   },
   "outputs": [
    {
     "data": {
      "text/html": [
       "<div>\n",
       "<style scoped>\n",
       "    .dataframe tbody tr th:only-of-type {\n",
       "        vertical-align: middle;\n",
       "    }\n",
       "\n",
       "    .dataframe tbody tr th {\n",
       "        vertical-align: top;\n",
       "    }\n",
       "\n",
       "    .dataframe thead th {\n",
       "        text-align: right;\n",
       "    }\n",
       "</style>\n",
       "<table border=\"1\" class=\"dataframe\">\n",
       "  <thead>\n",
       "    <tr style=\"text-align: right;\">\n",
       "      <th></th>\n",
       "      <th>Pesquisador</th>\n",
       "      <th>Designer</th>\n",
       "      <th>p-valor</th>\n",
       "    </tr>\n",
       "  </thead>\n",
       "  <tbody>\n",
       "    <tr>\n",
       "      <th>Sim</th>\n",
       "      <td>27</td>\n",
       "      <td>37</td>\n",
       "      <td>0.713</td>\n",
       "    </tr>\n",
       "    <tr>\n",
       "      <th>Não</th>\n",
       "      <td>11</td>\n",
       "      <td>10</td>\n",
       "      <td>NaN</td>\n",
       "    </tr>\n",
       "  </tbody>\n",
       "</table>\n",
       "</div>"
      ],
      "text/plain": [
       "     Pesquisador  Designer p-valor\n",
       "Sim           27        37   0.713\n",
       "Não           11        10     NaN"
      ]
     },
     "execution_count": 40,
     "metadata": {},
     "output_type": "execute_result"
    }
   ],
   "source": [
    "df_fonte_compila_posGradua = tabela_freq_qualitattivo(df_fonte_compila_posGradua)\n",
    "# df_fonte_compila_posGradua.to_csv(\"df_fonte_compila_posGradua.csv\")\n",
    "df_fonte_compila_posGradua"
   ]
  },
  {
   "cell_type": "markdown",
   "metadata": {
    "id": "dRIJ3uqSw_Th"
   },
   "source": [
    "#### Mestrado"
   ]
  },
  {
   "cell_type": "code",
   "execution_count": 41,
   "metadata": {
    "colab": {
     "base_uri": "https://localhost:8080/"
    },
    "id": "Urz3PwDgxFhd",
    "outputId": "664a3006-ff02-4918-d4ff-d9fb01b13616"
   },
   "outputs": [
    {
     "data": {
      "text/plain": [
       "Fonte  Origem     \n",
       "Sim    Designer       73\n",
       "       Pesquisador    59\n",
       "Não    Pesquisador    43\n",
       "       Designer       12\n",
       "dtype: int64"
      ]
     },
     "execution_count": 41,
     "metadata": {},
     "output_type": "execute_result"
    }
   ],
   "source": [
    "df_fonte_compila_mestrado = df_quantitativo[df_quantitativo[\"Grau\"] == \"Mestrado\"][colunas_perguntas[[1,4]]]\n",
    "df_fonte_compila_mestrado.value_counts()"
   ]
  },
  {
   "cell_type": "code",
   "execution_count": 42,
   "metadata": {
    "colab": {
     "base_uri": "https://localhost:8080/",
     "height": 112
    },
    "id": "7UBHPjKvxFV3",
    "outputId": "23cdf6aa-39a2-4545-e2fe-472cfe8896e2"
   },
   "outputs": [
    {
     "data": {
      "text/html": [
       "<div>\n",
       "<style scoped>\n",
       "    .dataframe tbody tr th:only-of-type {\n",
       "        vertical-align: middle;\n",
       "    }\n",
       "\n",
       "    .dataframe tbody tr th {\n",
       "        vertical-align: top;\n",
       "    }\n",
       "\n",
       "    .dataframe thead th {\n",
       "        text-align: right;\n",
       "    }\n",
       "</style>\n",
       "<table border=\"1\" class=\"dataframe\">\n",
       "  <thead>\n",
       "    <tr style=\"text-align: right;\">\n",
       "      <th></th>\n",
       "      <th>Pesquisador</th>\n",
       "      <th>Designer</th>\n",
       "      <th>p-valor</th>\n",
       "    </tr>\n",
       "  </thead>\n",
       "  <tbody>\n",
       "    <tr>\n",
       "      <th>Sim</th>\n",
       "      <td>59</td>\n",
       "      <td>73</td>\n",
       "      <td>&lt;0.001</td>\n",
       "    </tr>\n",
       "    <tr>\n",
       "      <th>Não</th>\n",
       "      <td>43</td>\n",
       "      <td>12</td>\n",
       "      <td>NaN</td>\n",
       "    </tr>\n",
       "  </tbody>\n",
       "</table>\n",
       "</div>"
      ],
      "text/plain": [
       "     Pesquisador  Designer p-valor\n",
       "Sim           59        73  <0.001\n",
       "Não           43        12     NaN"
      ]
     },
     "execution_count": 42,
     "metadata": {},
     "output_type": "execute_result"
    }
   ],
   "source": [
    "df_fonte_compila_mestrado = tabela_freq_qualitattivo(df_fonte_compila_mestrado)\n",
    "# df_fonte_compila_mestrado.to_csv(\"df_fonte_compila_mestrado.csv\")\n",
    "df_fonte_compila_mestrado"
   ]
  },
  {
   "cell_type": "markdown",
   "metadata": {
    "id": "1F4JO268xBfc"
   },
   "source": [
    "#### Doutorado"
   ]
  },
  {
   "cell_type": "code",
   "execution_count": 43,
   "metadata": {
    "colab": {
     "base_uri": "https://localhost:8080/"
    },
    "id": "cKElpRs6xDor",
    "outputId": "13ab5a85-7001-433b-cb1e-268e9a88d793"
   },
   "outputs": [
    {
     "data": {
      "text/plain": [
       "Fonte  Origem     \n",
       "Sim    Designer       59\n",
       "       Pesquisador    50\n",
       "Não    Pesquisador    27\n",
       "       Designer       19\n",
       "dtype: int64"
      ]
     },
     "execution_count": 43,
     "metadata": {},
     "output_type": "execute_result"
    }
   ],
   "source": [
    "df_fonte_compila_doc = df_quantitativo[df_quantitativo[\"Grau\"] == \"Doutorado\"][colunas_perguntas[[1,4]]]\n",
    "df_fonte_compila_doc.value_counts()"
   ]
  },
  {
   "cell_type": "code",
   "execution_count": 44,
   "metadata": {
    "colab": {
     "base_uri": "https://localhost:8080/",
     "height": 112
    },
    "id": "uzhhvOF-xDXb",
    "outputId": "7856f1d2-bdae-4972-f6c8-ef774879e330"
   },
   "outputs": [
    {
     "data": {
      "text/html": [
       "<div>\n",
       "<style scoped>\n",
       "    .dataframe tbody tr th:only-of-type {\n",
       "        vertical-align: middle;\n",
       "    }\n",
       "\n",
       "    .dataframe tbody tr th {\n",
       "        vertical-align: top;\n",
       "    }\n",
       "\n",
       "    .dataframe thead th {\n",
       "        text-align: right;\n",
       "    }\n",
       "</style>\n",
       "<table border=\"1\" class=\"dataframe\">\n",
       "  <thead>\n",
       "    <tr style=\"text-align: right;\">\n",
       "      <th></th>\n",
       "      <th>Pesquisador</th>\n",
       "      <th>Designer</th>\n",
       "      <th>p-valor</th>\n",
       "    </tr>\n",
       "  </thead>\n",
       "  <tbody>\n",
       "    <tr>\n",
       "      <th>Sim</th>\n",
       "      <td>50</td>\n",
       "      <td>59</td>\n",
       "      <td>0.034</td>\n",
       "    </tr>\n",
       "    <tr>\n",
       "      <th>Não</th>\n",
       "      <td>27</td>\n",
       "      <td>19</td>\n",
       "      <td>NaN</td>\n",
       "    </tr>\n",
       "  </tbody>\n",
       "</table>\n",
       "</div>"
      ],
      "text/plain": [
       "     Pesquisador  Designer p-valor\n",
       "Sim           50        59   0.034\n",
       "Não           27        19     NaN"
      ]
     },
     "execution_count": 44,
     "metadata": {},
     "output_type": "execute_result"
    }
   ],
   "source": [
    "df_fonte_compila_doc = tabela_freq_qualitattivo(df_fonte_compila_doc)\n",
    "# df_fonte_compila_doc.to_csv(\"df_fonte_compila_doc.csv\")\n",
    "df_fonte_compila_doc"
   ]
  },
  {
   "cell_type": "code",
   "execution_count": null,
   "metadata": {
    "id": "TRfd75nj5YK_"
   },
   "outputs": [],
   "source": []
  }
 ],
 "metadata": {
  "colab": {
   "name": "03_analysis_estatística_Qualitativa_2022_02_22.ipynb",
   "provenance": [],
   "toc_visible": true
  },
  "kernelspec": {
   "display_name": "Python 3 (ipykernel)",
   "language": "python",
   "name": "python3"
  },
  "language_info": {
   "codemirror_mode": {
    "name": "ipython",
    "version": 3
   },
   "file_extension": ".py",
   "mimetype": "text/x-python",
   "name": "python",
   "nbconvert_exporter": "python",
   "pygments_lexer": "ipython3",
   "version": "3.7.9"
  }
 },
 "nbformat": 4,
 "nbformat_minor": 4
}
