{
 "cells": [
  {
   "cell_type": "markdown",
   "metadata": {
    "id": "NZ2h1fddQy--"
   },
   "source": [
    "# Importações de dados brutos"
   ]
  },
  {
   "cell_type": "code",
   "execution_count": 1,
   "metadata": {
    "colab": {
     "base_uri": "https://localhost:8080/"
    },
    "id": "ZUfRu9XmIXQR",
    "outputId": "3c061612-e1e2-4a2c-b223-c1646d2eda56"
   },
   "outputs": [
    {
     "name": "stdout",
     "output_type": "stream",
     "text": [
      "-------------\n",
      "-=< Lista >=-\n",
      "-------------\n",
      "0 -> printLinha()\n",
      "1 -> printLis()\n",
      "2 -> printDic()\n",
      "3 -> timeProcess()\n",
      "4 -> import_started()\n",
      "5 -> img_save()\n",
      "6 -> setup_img_save()\n",
      "7 -> mask_corr_graphic()\n",
      "8 -> structured_confusion()\n"
     ]
    }
   ],
   "source": [
    "from util import *\n",
    "meus_uteis()\n",
    "\n",
    "import os\n",
    "\n",
    "import joblib\n",
    "\n",
    "import pandas as pd\n",
    "import numpy as np\n",
    "\n",
    "import seaborn as sns\n",
    "import matplotlib.pyplot as plt\n",
    "\n",
    "# from scipy import stats\n",
    "from scipy.stats import mannwhitneyu, normaltest, ranksums, chisquare\n",
    "from statsmodels.stats.weightstats import zconfint, DescrStatsW, ztest"
   ]
  },
  {
   "cell_type": "code",
   "execution_count": 2,
   "metadata": {
    "colab": {
     "base_uri": "https://localhost:8080/"
    },
    "id": "3N9gAg1yLwEz",
    "outputId": "148a519a-7d14-4182-a089-780778a26684"
   },
   "outputs": [
    {
     "data": {
      "text/html": [
       "<div>\n",
       "<style scoped>\n",
       "    .dataframe tbody tr th:only-of-type {\n",
       "        vertical-align: middle;\n",
       "    }\n",
       "\n",
       "    .dataframe tbody tr th {\n",
       "        vertical-align: top;\n",
       "    }\n",
       "\n",
       "    .dataframe thead th {\n",
       "        text-align: right;\n",
       "    }\n",
       "</style>\n",
       "<table border=\"1\" class=\"dataframe\">\n",
       "  <thead>\n",
       "    <tr style=\"text-align: right;\">\n",
       "      <th></th>\n",
       "      <th>Data</th>\n",
       "      <th>IP</th>\n",
       "      <th>TCLE</th>\n",
       "      <th>Língua</th>\n",
       "      <th>Figura</th>\n",
       "      <th>Dintinguíveis</th>\n",
       "      <th>Proeminentes</th>\n",
       "      <th>Descrição</th>\n",
       "      <th>Eficiente</th>\n",
       "      <th>Útil</th>\n",
       "      <th>Estética</th>\n",
       "      <th>Fonte</th>\n",
       "      <th>Compreensão</th>\n",
       "      <th>Interesse</th>\n",
       "      <th>Grau</th>\n",
       "      <th>Área</th>\n",
       "      <th>Origem</th>\n",
       "    </tr>\n",
       "    <tr>\n",
       "      <th>id</th>\n",
       "      <th></th>\n",
       "      <th></th>\n",
       "      <th></th>\n",
       "      <th></th>\n",
       "      <th></th>\n",
       "      <th></th>\n",
       "      <th></th>\n",
       "      <th></th>\n",
       "      <th></th>\n",
       "      <th></th>\n",
       "      <th></th>\n",
       "      <th></th>\n",
       "      <th></th>\n",
       "      <th></th>\n",
       "      <th></th>\n",
       "      <th></th>\n",
       "      <th></th>\n",
       "    </tr>\n",
       "  </thead>\n",
       "  <tbody>\n",
       "    <tr>\n",
       "      <th>1</th>\n",
       "      <td>2020-03-02 13:31:20</td>\n",
       "      <td>200.134.9.2</td>\n",
       "      <td>s</td>\n",
       "      <td>pt</td>\n",
       "      <td>Reovírus Aviário</td>\n",
       "      <td>2</td>\n",
       "      <td>1</td>\n",
       "      <td>Sim</td>\n",
       "      <td>1</td>\n",
       "      <td>5</td>\n",
       "      <td>2</td>\n",
       "      <td>Sim</td>\n",
       "      <td>1</td>\n",
       "      <td>1</td>\n",
       "      <td>Doutorado</td>\n",
       "      <td>Exatas</td>\n",
       "      <td>Pesquisador</td>\n",
       "    </tr>\n",
       "    <tr>\n",
       "      <th>2</th>\n",
       "      <td>2020-03-02 17:45:41</td>\n",
       "      <td>191.52.71.228</td>\n",
       "      <td>s</td>\n",
       "      <td>pt</td>\n",
       "      <td>Reovírus Aviário</td>\n",
       "      <td>3</td>\n",
       "      <td>3</td>\n",
       "      <td>Sim</td>\n",
       "      <td>2</td>\n",
       "      <td>2</td>\n",
       "      <td>4</td>\n",
       "      <td>Não</td>\n",
       "      <td>4</td>\n",
       "      <td>2</td>\n",
       "      <td>Doutorado</td>\n",
       "      <td>Biológicas</td>\n",
       "      <td>Designer</td>\n",
       "    </tr>\n",
       "    <tr>\n",
       "      <th>3</th>\n",
       "      <td>2020-03-02 18:32:50</td>\n",
       "      <td>189.14.35.136</td>\n",
       "      <td>s</td>\n",
       "      <td>pt</td>\n",
       "      <td>Células Tronco</td>\n",
       "      <td>4</td>\n",
       "      <td>3</td>\n",
       "      <td>Sim</td>\n",
       "      <td>3</td>\n",
       "      <td>5</td>\n",
       "      <td>4</td>\n",
       "      <td>Não</td>\n",
       "      <td>3</td>\n",
       "      <td>3</td>\n",
       "      <td>Doutorado</td>\n",
       "      <td>Exatas</td>\n",
       "      <td>Pesquisador</td>\n",
       "    </tr>\n",
       "    <tr>\n",
       "      <th>4</th>\n",
       "      <td>2020-03-02 19:33:38</td>\n",
       "      <td>170.239.53.11</td>\n",
       "      <td>s</td>\n",
       "      <td>pt</td>\n",
       "      <td>Células Tronco</td>\n",
       "      <td>4</td>\n",
       "      <td>4</td>\n",
       "      <td>Sim</td>\n",
       "      <td>5</td>\n",
       "      <td>5</td>\n",
       "      <td>5</td>\n",
       "      <td>Sim</td>\n",
       "      <td>5</td>\n",
       "      <td>5</td>\n",
       "      <td>Mestrado</td>\n",
       "      <td>Biológicas</td>\n",
       "      <td>Designer</td>\n",
       "    </tr>\n",
       "    <tr>\n",
       "      <th>5</th>\n",
       "      <td>2020-03-03 11:50:20</td>\n",
       "      <td>189.103.158.150</td>\n",
       "      <td>s</td>\n",
       "      <td>pt</td>\n",
       "      <td>T. gondii</td>\n",
       "      <td>5</td>\n",
       "      <td>1</td>\n",
       "      <td>Sim</td>\n",
       "      <td>5</td>\n",
       "      <td>5</td>\n",
       "      <td>2</td>\n",
       "      <td>Sim</td>\n",
       "      <td>5</td>\n",
       "      <td>4</td>\n",
       "      <td>Doutorado</td>\n",
       "      <td>Biológicas</td>\n",
       "      <td>Pesquisador</td>\n",
       "    </tr>\n",
       "  </tbody>\n",
       "</table>\n",
       "</div>"
      ],
      "text/plain": [
       "                   Data               IP TCLE Língua            Figura  \\\n",
       "id                                                                       \n",
       "1   2020-03-02 13:31:20      200.134.9.2    s     pt  Reovírus Aviário   \n",
       "2   2020-03-02 17:45:41    191.52.71.228    s     pt  Reovírus Aviário   \n",
       "3   2020-03-02 18:32:50    189.14.35.136    s     pt    Células Tronco   \n",
       "4   2020-03-02 19:33:38    170.239.53.11    s     pt    Células Tronco   \n",
       "5   2020-03-03 11:50:20  189.103.158.150    s     pt         T. gondii   \n",
       "\n",
       "    Dintinguíveis  Proeminentes Descrição  Eficiente  Útil  Estética Fonte  \\\n",
       "id                                                                           \n",
       "1               2             1       Sim          1     5         2   Sim   \n",
       "2               3             3       Sim          2     2         4   Não   \n",
       "3               4             3       Sim          3     5         4   Não   \n",
       "4               4             4       Sim          5     5         5   Sim   \n",
       "5               5             1       Sim          5     5         2   Sim   \n",
       "\n",
       "    Compreensão  Interesse       Grau        Área       Origem  \n",
       "id                                                              \n",
       "1             1          1  Doutorado      Exatas  Pesquisador  \n",
       "2             4          2  Doutorado  Biológicas     Designer  \n",
       "3             3          3  Doutorado      Exatas  Pesquisador  \n",
       "4             5          5   Mestrado  Biológicas     Designer  \n",
       "5             5          4  Doutorado  Biológicas  Pesquisador  "
      ]
     },
     "execution_count": 2,
     "metadata": {},
     "output_type": "execute_result"
    }
   ],
   "source": [
    "df = pd.read_csv('./data/dados_completos.csv')\n",
    "df.set_index(df.id, inplace=True)\n",
    "del df[\"id\"]\n",
    "df.head()"
   ]
  },
  {
   "cell_type": "code",
   "execution_count": 3,
   "metadata": {
    "id": "xYJhWmWmMU2k"
   },
   "outputs": [
    {
     "data": {
      "text/plain": [
       "{'Dintinguíveis': '1) Na imagem, o quão claramente os elementos são distinguíveis?',\n",
       " 'Proeminentes': '2) O quão visualmente proeminentes são os elementos da imagem?',\n",
       " 'Descrição': '8) Existem elementos da imagem que requerem descrição adicional?',\n",
       " 'Eficiente': '3) O quão eficiente são os elementos da imagem na representação dos dados?',\n",
       " 'Útil': '4) O quão útil é a aplicação de uma imagem esquemática – desenho científico ou graphic abstract para representar os dados?',\n",
       " 'Estética': '5) O quanto a imagem é esteticamente bem elaborada?',\n",
       " 'Fonte': '9) A imagem apresentada faz você experimentar uma nova fonte de dados?',\n",
       " 'Compreensão': '6) Classifique o quanto a imagem facilitou a compreensão do conteúdo da informação.',\n",
       " 'Interesse': '7) Classifique o quanto a imagem despertou o seu interesse pelo conteúdo.',\n",
       " 'Grau': 'Qual o seu grau de formação acadêmica?',\n",
       " 'Área': 'Área de formação?'}"
      ]
     },
     "execution_count": 3,
     "metadata": {},
     "output_type": "execute_result"
    }
   ],
   "source": [
    "colunas = df.columns\n",
    "perguntas = {\n",
    "    colunas[4 + 1]: '1) Na imagem, o quão claramente os elementos são distinguíveis?',\n",
    "    colunas[4 + 2]: '2) O quão visualmente proeminentes são os elementos da imagem?',\n",
    "    colunas[4 + 3]: '8) Existem elementos da imagem que requerem descrição adicional?',\n",
    "    colunas[4 + 4]: '3) O quão eficiente são os elementos da imagem na representação dos dados?',\n",
    "    colunas[4 + 5]: '4) O quão útil é a aplicação de uma imagem esquemática – desenho científico ou graphic abstract para representar os dados?',\n",
    "    colunas[4 + 6]: '5) O quanto a imagem é esteticamente bem elaborada?',\n",
    "    colunas[4 + 7]: '9) A imagem apresentada faz você experimentar uma nova fonte de dados?',\n",
    "    colunas[4 + 8]: '6) Classifique o quanto a imagem facilitou a compreensão do conteúdo da informação.',\n",
    "    colunas[4 + 9]: '7) Classifique o quanto a imagem despertou o seu interesse pelo conteúdo.',\n",
    "    colunas[4 + 10]: 'Qual o seu grau de formação acadêmica?',\n",
    "    colunas[4 + 11]: 'Área de formação?',\n",
    "}\n",
    "perguntas"
   ]
  },
  {
   "cell_type": "markdown",
   "metadata": {
    "id": "e52cEnxdhNrP"
   },
   "source": [
    "# Geral"
   ]
  },
  {
   "cell_type": "code",
   "execution_count": 4,
   "metadata": {
    "colab": {
     "base_uri": "https://localhost:8080/",
     "height": 368
    },
    "id": "f6rSZKAnRA88",
    "outputId": "f10e3832-6f3d-4a2f-9c64-e70dfdbe0dbb"
   },
   "outputs": [
    {
     "data": {
      "text/html": [
       "<div>\n",
       "<style scoped>\n",
       "    .dataframe tbody tr th:only-of-type {\n",
       "        vertical-align: middle;\n",
       "    }\n",
       "\n",
       "    .dataframe tbody tr th {\n",
       "        vertical-align: top;\n",
       "    }\n",
       "\n",
       "    .dataframe thead th {\n",
       "        text-align: right;\n",
       "    }\n",
       "</style>\n",
       "<table border=\"1\" class=\"dataframe\">\n",
       "  <thead>\n",
       "    <tr style=\"text-align: right;\">\n",
       "      <th></th>\n",
       "      <th>Data</th>\n",
       "      <th>IP</th>\n",
       "      <th>TCLE</th>\n",
       "      <th>Língua</th>\n",
       "      <th>Figura</th>\n",
       "      <th>Dintinguíveis</th>\n",
       "      <th>Proeminentes</th>\n",
       "      <th>Descrição</th>\n",
       "      <th>Eficiente</th>\n",
       "      <th>Útil</th>\n",
       "      <th>Estética</th>\n",
       "      <th>Fonte</th>\n",
       "      <th>Compreensão</th>\n",
       "      <th>Interesse</th>\n",
       "      <th>Grau</th>\n",
       "      <th>Área</th>\n",
       "      <th>Origem</th>\n",
       "    </tr>\n",
       "    <tr>\n",
       "      <th>id</th>\n",
       "      <th></th>\n",
       "      <th></th>\n",
       "      <th></th>\n",
       "      <th></th>\n",
       "      <th></th>\n",
       "      <th></th>\n",
       "      <th></th>\n",
       "      <th></th>\n",
       "      <th></th>\n",
       "      <th></th>\n",
       "      <th></th>\n",
       "      <th></th>\n",
       "      <th></th>\n",
       "      <th></th>\n",
       "      <th></th>\n",
       "      <th></th>\n",
       "      <th></th>\n",
       "    </tr>\n",
       "  </thead>\n",
       "  <tbody>\n",
       "    <tr>\n",
       "      <th>1</th>\n",
       "      <td>2020-03-02 13:31:20</td>\n",
       "      <td>200.134.9.2</td>\n",
       "      <td>s</td>\n",
       "      <td>pt</td>\n",
       "      <td>Reovírus Aviário</td>\n",
       "      <td>2</td>\n",
       "      <td>1</td>\n",
       "      <td>Sim</td>\n",
       "      <td>1</td>\n",
       "      <td>5</td>\n",
       "      <td>2</td>\n",
       "      <td>Sim</td>\n",
       "      <td>1</td>\n",
       "      <td>1</td>\n",
       "      <td>Doutorado</td>\n",
       "      <td>Exatas</td>\n",
       "      <td>Pesquisador</td>\n",
       "    </tr>\n",
       "    <tr>\n",
       "      <th>2</th>\n",
       "      <td>2020-03-02 17:45:41</td>\n",
       "      <td>191.52.71.228</td>\n",
       "      <td>s</td>\n",
       "      <td>pt</td>\n",
       "      <td>Reovírus Aviário</td>\n",
       "      <td>3</td>\n",
       "      <td>3</td>\n",
       "      <td>Sim</td>\n",
       "      <td>2</td>\n",
       "      <td>2</td>\n",
       "      <td>4</td>\n",
       "      <td>Não</td>\n",
       "      <td>4</td>\n",
       "      <td>2</td>\n",
       "      <td>Doutorado</td>\n",
       "      <td>Biológicas</td>\n",
       "      <td>Designer</td>\n",
       "    </tr>\n",
       "    <tr>\n",
       "      <th>3</th>\n",
       "      <td>2020-03-02 18:32:50</td>\n",
       "      <td>189.14.35.136</td>\n",
       "      <td>s</td>\n",
       "      <td>pt</td>\n",
       "      <td>Células Tronco</td>\n",
       "      <td>4</td>\n",
       "      <td>3</td>\n",
       "      <td>Sim</td>\n",
       "      <td>3</td>\n",
       "      <td>5</td>\n",
       "      <td>4</td>\n",
       "      <td>Não</td>\n",
       "      <td>3</td>\n",
       "      <td>3</td>\n",
       "      <td>Doutorado</td>\n",
       "      <td>Exatas</td>\n",
       "      <td>Pesquisador</td>\n",
       "    </tr>\n",
       "    <tr>\n",
       "      <th>4</th>\n",
       "      <td>2020-03-02 19:33:38</td>\n",
       "      <td>170.239.53.11</td>\n",
       "      <td>s</td>\n",
       "      <td>pt</td>\n",
       "      <td>Células Tronco</td>\n",
       "      <td>4</td>\n",
       "      <td>4</td>\n",
       "      <td>Sim</td>\n",
       "      <td>5</td>\n",
       "      <td>5</td>\n",
       "      <td>5</td>\n",
       "      <td>Sim</td>\n",
       "      <td>5</td>\n",
       "      <td>5</td>\n",
       "      <td>Mestrado</td>\n",
       "      <td>Biológicas</td>\n",
       "      <td>Designer</td>\n",
       "    </tr>\n",
       "    <tr>\n",
       "      <th>5</th>\n",
       "      <td>2020-03-03 11:50:20</td>\n",
       "      <td>189.103.158.150</td>\n",
       "      <td>s</td>\n",
       "      <td>pt</td>\n",
       "      <td>T. gondii</td>\n",
       "      <td>5</td>\n",
       "      <td>1</td>\n",
       "      <td>Sim</td>\n",
       "      <td>5</td>\n",
       "      <td>5</td>\n",
       "      <td>2</td>\n",
       "      <td>Sim</td>\n",
       "      <td>5</td>\n",
       "      <td>4</td>\n",
       "      <td>Doutorado</td>\n",
       "      <td>Biológicas</td>\n",
       "      <td>Pesquisador</td>\n",
       "    </tr>\n",
       "  </tbody>\n",
       "</table>\n",
       "</div>"
      ],
      "text/plain": [
       "                   Data               IP TCLE Língua            Figura  \\\n",
       "id                                                                       \n",
       "1   2020-03-02 13:31:20      200.134.9.2    s     pt  Reovírus Aviário   \n",
       "2   2020-03-02 17:45:41    191.52.71.228    s     pt  Reovírus Aviário   \n",
       "3   2020-03-02 18:32:50    189.14.35.136    s     pt    Células Tronco   \n",
       "4   2020-03-02 19:33:38    170.239.53.11    s     pt    Células Tronco   \n",
       "5   2020-03-03 11:50:20  189.103.158.150    s     pt         T. gondii   \n",
       "\n",
       "    Dintinguíveis  Proeminentes Descrição  Eficiente  Útil  Estética Fonte  \\\n",
       "id                                                                           \n",
       "1               2             1       Sim          1     5         2   Sim   \n",
       "2               3             3       Sim          2     2         4   Não   \n",
       "3               4             3       Sim          3     5         4   Não   \n",
       "4               4             4       Sim          5     5         5   Sim   \n",
       "5               5             1       Sim          5     5         2   Sim   \n",
       "\n",
       "    Compreensão  Interesse       Grau        Área       Origem  \n",
       "id                                                              \n",
       "1             1          1  Doutorado      Exatas  Pesquisador  \n",
       "2             4          2  Doutorado  Biológicas     Designer  \n",
       "3             3          3  Doutorado      Exatas  Pesquisador  \n",
       "4             5          5   Mestrado  Biológicas     Designer  \n",
       "5             5          4  Doutorado  Biológicas  Pesquisador  "
      ]
     },
     "execution_count": 4,
     "metadata": {},
     "output_type": "execute_result"
    }
   ],
   "source": [
    "df.head()"
   ]
  },
  {
   "cell_type": "code",
   "execution_count": 5,
   "metadata": {
    "colab": {
     "base_uri": "https://localhost:8080/"
    },
    "id": "ixyu8XEpSd6j",
    "outputId": "97a10bf9-857b-4675-f0db-8e89580ec7d3"
   },
   "outputs": [
    {
     "name": "stdout",
     "output_type": "stream",
     "text": [
      "<class 'pandas.core.frame.DataFrame'>\n",
      "Int64Index: 472 entries, 1 to 472\n",
      "Data columns (total 17 columns):\n",
      " #   Column         Non-Null Count  Dtype \n",
      "---  ------         --------------  ----- \n",
      " 0   Data           472 non-null    object\n",
      " 1   IP             472 non-null    object\n",
      " 2   TCLE           472 non-null    object\n",
      " 3   Língua         472 non-null    object\n",
      " 4   Figura         472 non-null    object\n",
      " 5   Dintinguíveis  472 non-null    int64 \n",
      " 6   Proeminentes   472 non-null    int64 \n",
      " 7   Descrição      472 non-null    object\n",
      " 8   Eficiente      472 non-null    int64 \n",
      " 9   Útil           472 non-null    int64 \n",
      " 10  Estética       472 non-null    int64 \n",
      " 11  Fonte          472 non-null    object\n",
      " 12  Compreensão    472 non-null    int64 \n",
      " 13  Interesse      472 non-null    int64 \n",
      " 14  Grau           472 non-null    object\n",
      " 15  Área           472 non-null    object\n",
      " 16  Origem         472 non-null    object\n",
      "dtypes: int64(7), object(10)\n",
      "memory usage: 66.4+ KB\n"
     ]
    }
   ],
   "source": [
    "df.info()"
   ]
  },
  {
   "cell_type": "code",
   "execution_count": 6,
   "metadata": {
    "colab": {
     "base_uri": "https://localhost:8080/",
     "height": 300
    },
    "id": "wK41TgK5Sf0T",
    "outputId": "9ff4340b-e0db-4f3c-b297-ef914e5ca29c"
   },
   "outputs": [
    {
     "data": {
      "text/html": [
       "<div>\n",
       "<style scoped>\n",
       "    .dataframe tbody tr th:only-of-type {\n",
       "        vertical-align: middle;\n",
       "    }\n",
       "\n",
       "    .dataframe tbody tr th {\n",
       "        vertical-align: top;\n",
       "    }\n",
       "\n",
       "    .dataframe thead th {\n",
       "        text-align: right;\n",
       "    }\n",
       "</style>\n",
       "<table border=\"1\" class=\"dataframe\">\n",
       "  <thead>\n",
       "    <tr style=\"text-align: right;\">\n",
       "      <th></th>\n",
       "      <th>Dintinguíveis</th>\n",
       "      <th>Proeminentes</th>\n",
       "      <th>Eficiente</th>\n",
       "      <th>Útil</th>\n",
       "      <th>Estética</th>\n",
       "      <th>Compreensão</th>\n",
       "      <th>Interesse</th>\n",
       "    </tr>\n",
       "  </thead>\n",
       "  <tbody>\n",
       "    <tr>\n",
       "      <th>count</th>\n",
       "      <td>472.000000</td>\n",
       "      <td>472.000000</td>\n",
       "      <td>472.000000</td>\n",
       "      <td>472.000000</td>\n",
       "      <td>472.000000</td>\n",
       "      <td>472.000000</td>\n",
       "      <td>472.000000</td>\n",
       "    </tr>\n",
       "    <tr>\n",
       "      <th>mean</th>\n",
       "      <td>3.786017</td>\n",
       "      <td>3.576271</td>\n",
       "      <td>3.552966</td>\n",
       "      <td>4.614407</td>\n",
       "      <td>3.567797</td>\n",
       "      <td>3.599576</td>\n",
       "      <td>3.489407</td>\n",
       "    </tr>\n",
       "    <tr>\n",
       "      <th>std</th>\n",
       "      <td>1.227245</td>\n",
       "      <td>1.274654</td>\n",
       "      <td>1.247227</td>\n",
       "      <td>0.909751</td>\n",
       "      <td>1.340082</td>\n",
       "      <td>1.314075</td>\n",
       "      <td>1.376129</td>\n",
       "    </tr>\n",
       "    <tr>\n",
       "      <th>min</th>\n",
       "      <td>1.000000</td>\n",
       "      <td>1.000000</td>\n",
       "      <td>1.000000</td>\n",
       "      <td>1.000000</td>\n",
       "      <td>1.000000</td>\n",
       "      <td>1.000000</td>\n",
       "      <td>1.000000</td>\n",
       "    </tr>\n",
       "    <tr>\n",
       "      <th>25%</th>\n",
       "      <td>3.000000</td>\n",
       "      <td>3.000000</td>\n",
       "      <td>3.000000</td>\n",
       "      <td>5.000000</td>\n",
       "      <td>3.000000</td>\n",
       "      <td>3.000000</td>\n",
       "      <td>2.000000</td>\n",
       "    </tr>\n",
       "    <tr>\n",
       "      <th>50%</th>\n",
       "      <td>4.000000</td>\n",
       "      <td>4.000000</td>\n",
       "      <td>4.000000</td>\n",
       "      <td>5.000000</td>\n",
       "      <td>4.000000</td>\n",
       "      <td>4.000000</td>\n",
       "      <td>4.000000</td>\n",
       "    </tr>\n",
       "    <tr>\n",
       "      <th>75%</th>\n",
       "      <td>5.000000</td>\n",
       "      <td>5.000000</td>\n",
       "      <td>5.000000</td>\n",
       "      <td>5.000000</td>\n",
       "      <td>5.000000</td>\n",
       "      <td>5.000000</td>\n",
       "      <td>5.000000</td>\n",
       "    </tr>\n",
       "    <tr>\n",
       "      <th>max</th>\n",
       "      <td>5.000000</td>\n",
       "      <td>5.000000</td>\n",
       "      <td>5.000000</td>\n",
       "      <td>5.000000</td>\n",
       "      <td>5.000000</td>\n",
       "      <td>5.000000</td>\n",
       "      <td>5.000000</td>\n",
       "    </tr>\n",
       "  </tbody>\n",
       "</table>\n",
       "</div>"
      ],
      "text/plain": [
       "       Dintinguíveis  Proeminentes   Eficiente        Útil    Estética  \\\n",
       "count     472.000000    472.000000  472.000000  472.000000  472.000000   \n",
       "mean        3.786017      3.576271    3.552966    4.614407    3.567797   \n",
       "std         1.227245      1.274654    1.247227    0.909751    1.340082   \n",
       "min         1.000000      1.000000    1.000000    1.000000    1.000000   \n",
       "25%         3.000000      3.000000    3.000000    5.000000    3.000000   \n",
       "50%         4.000000      4.000000    4.000000    5.000000    4.000000   \n",
       "75%         5.000000      5.000000    5.000000    5.000000    5.000000   \n",
       "max         5.000000      5.000000    5.000000    5.000000    5.000000   \n",
       "\n",
       "       Compreensão   Interesse  \n",
       "count   472.000000  472.000000  \n",
       "mean      3.599576    3.489407  \n",
       "std       1.314075    1.376129  \n",
       "min       1.000000    1.000000  \n",
       "25%       3.000000    2.000000  \n",
       "50%       4.000000    4.000000  \n",
       "75%       5.000000    5.000000  \n",
       "max       5.000000    5.000000  "
      ]
     },
     "execution_count": 6,
     "metadata": {},
     "output_type": "execute_result"
    }
   ],
   "source": [
    "df.describe()"
   ]
  },
  {
   "cell_type": "markdown",
   "metadata": {
    "id": "WC9j8CVrTKfH"
   },
   "source": [
    "# Tabelas de Frequência"
   ]
  },
  {
   "cell_type": "code",
   "execution_count": 7,
   "metadata": {},
   "outputs": [
    {
     "data": {
      "text/plain": [
       "Index(['Dintinguíveis', 'Proeminentes', 'Eficiente', 'Útil', 'Estética',\n",
       "       'Compreensão', 'Interesse'],\n",
       "      dtype='object')"
      ]
     },
     "execution_count": 7,
     "metadata": {},
     "output_type": "execute_result"
    }
   ],
   "source": [
    "col = [5,6,8,9,10,12,13]\n",
    "df.columns[col]"
   ]
  },
  {
   "cell_type": "code",
   "execution_count": 8,
   "metadata": {
    "colab": {
     "base_uri": "https://localhost:8080/",
     "height": 238
    },
    "id": "Fd3inhd0IXQl",
    "outputId": "367003ea-a5cf-44f6-cbde-32d4c321192a"
   },
   "outputs": [
    {
     "data": {
      "text/html": [
       "<div>\n",
       "<style scoped>\n",
       "    .dataframe tbody tr th:only-of-type {\n",
       "        vertical-align: middle;\n",
       "    }\n",
       "\n",
       "    .dataframe tbody tr th {\n",
       "        vertical-align: top;\n",
       "    }\n",
       "\n",
       "    .dataframe thead th {\n",
       "        text-align: right;\n",
       "    }\n",
       "</style>\n",
       "<table border=\"1\" class=\"dataframe\">\n",
       "  <thead>\n",
       "    <tr style=\"text-align: right;\">\n",
       "      <th></th>\n",
       "      <th>Dintinguíveis</th>\n",
       "      <th>Proeminentes</th>\n",
       "      <th>Eficiente</th>\n",
       "      <th>Útil</th>\n",
       "      <th>Estética</th>\n",
       "      <th>Compreensão</th>\n",
       "      <th>Interesse</th>\n",
       "    </tr>\n",
       "  </thead>\n",
       "  <tbody>\n",
       "    <tr>\n",
       "      <th>1</th>\n",
       "      <td>NaN</td>\n",
       "      <td>NaN</td>\n",
       "      <td>NaN</td>\n",
       "      <td>NaN</td>\n",
       "      <td>NaN</td>\n",
       "      <td>NaN</td>\n",
       "      <td>NaN</td>\n",
       "    </tr>\n",
       "    <tr>\n",
       "      <th>2</th>\n",
       "      <td>NaN</td>\n",
       "      <td>NaN</td>\n",
       "      <td>NaN</td>\n",
       "      <td>NaN</td>\n",
       "      <td>NaN</td>\n",
       "      <td>NaN</td>\n",
       "      <td>NaN</td>\n",
       "    </tr>\n",
       "    <tr>\n",
       "      <th>3</th>\n",
       "      <td>NaN</td>\n",
       "      <td>NaN</td>\n",
       "      <td>NaN</td>\n",
       "      <td>NaN</td>\n",
       "      <td>NaN</td>\n",
       "      <td>NaN</td>\n",
       "      <td>NaN</td>\n",
       "    </tr>\n",
       "    <tr>\n",
       "      <th>4</th>\n",
       "      <td>NaN</td>\n",
       "      <td>NaN</td>\n",
       "      <td>NaN</td>\n",
       "      <td>NaN</td>\n",
       "      <td>NaN</td>\n",
       "      <td>NaN</td>\n",
       "      <td>NaN</td>\n",
       "    </tr>\n",
       "    <tr>\n",
       "      <th>5</th>\n",
       "      <td>NaN</td>\n",
       "      <td>NaN</td>\n",
       "      <td>NaN</td>\n",
       "      <td>NaN</td>\n",
       "      <td>NaN</td>\n",
       "      <td>NaN</td>\n",
       "      <td>NaN</td>\n",
       "    </tr>\n",
       "    <tr>\n",
       "      <th>Total</th>\n",
       "      <td>NaN</td>\n",
       "      <td>NaN</td>\n",
       "      <td>NaN</td>\n",
       "      <td>NaN</td>\n",
       "      <td>NaN</td>\n",
       "      <td>NaN</td>\n",
       "      <td>NaN</td>\n",
       "    </tr>\n",
       "  </tbody>\n",
       "</table>\n",
       "</div>"
      ],
      "text/plain": [
       "       Dintinguíveis  Proeminentes  Eficiente  Útil  Estética  Compreensão  \\\n",
       "1                NaN           NaN        NaN   NaN       NaN          NaN   \n",
       "2                NaN           NaN        NaN   NaN       NaN          NaN   \n",
       "3                NaN           NaN        NaN   NaN       NaN          NaN   \n",
       "4                NaN           NaN        NaN   NaN       NaN          NaN   \n",
       "5                NaN           NaN        NaN   NaN       NaN          NaN   \n",
       "Total            NaN           NaN        NaN   NaN       NaN          NaN   \n",
       "\n",
       "       Interesse  \n",
       "1            NaN  \n",
       "2            NaN  \n",
       "3            NaN  \n",
       "4            NaN  \n",
       "5            NaN  \n",
       "Total        NaN  "
      ]
     },
     "execution_count": 8,
     "metadata": {},
     "output_type": "execute_result"
    }
   ],
   "source": [
    "index=[n for n in range(1,6)]\n",
    "index.append('Total')\n",
    "columns=df.columns[col]\n",
    "freq = pd.DataFrame(data=np.nan, index=index, columns=columns)\n",
    "freq"
   ]
  },
  {
   "cell_type": "code",
   "execution_count": 9,
   "metadata": {},
   "outputs": [],
   "source": [
    "def organize_values(a):\n",
    "    base = {1:0,2:0,3:0,4:0,5:0}\n",
    "    for k in base.keys():\n",
    "        try:\n",
    "            base[k] = a.value_counts()[k]\n",
    "        except:\n",
    "            pass\n",
    "    return base"
   ]
  },
  {
   "cell_type": "code",
   "execution_count": 10,
   "metadata": {
    "colab": {
     "base_uri": "https://localhost:8080/",
     "height": 238
    },
    "id": "NwuAl8K2IXQm",
    "outputId": "b9d25ceb-6522-4cdc-8856-bca9f7d0500e"
   },
   "outputs": [
    {
     "data": {
      "text/html": [
       "<div>\n",
       "<style scoped>\n",
       "    .dataframe tbody tr th:only-of-type {\n",
       "        vertical-align: middle;\n",
       "    }\n",
       "\n",
       "    .dataframe tbody tr th {\n",
       "        vertical-align: top;\n",
       "    }\n",
       "\n",
       "    .dataframe thead th {\n",
       "        text-align: right;\n",
       "    }\n",
       "</style>\n",
       "<table border=\"1\" class=\"dataframe\">\n",
       "  <thead>\n",
       "    <tr style=\"text-align: right;\">\n",
       "      <th></th>\n",
       "      <th>Dintinguíveis</th>\n",
       "      <th>Proeminentes</th>\n",
       "      <th>Eficiente</th>\n",
       "      <th>Útil</th>\n",
       "      <th>Estética</th>\n",
       "      <th>Compreensão</th>\n",
       "      <th>Interesse</th>\n",
       "    </tr>\n",
       "  </thead>\n",
       "  <tbody>\n",
       "    <tr>\n",
       "      <th>1</th>\n",
       "      <td>19</td>\n",
       "      <td>32</td>\n",
       "      <td>28</td>\n",
       "      <td>11</td>\n",
       "      <td>47</td>\n",
       "      <td>37</td>\n",
       "      <td>53</td>\n",
       "    </tr>\n",
       "    <tr>\n",
       "      <th>2</th>\n",
       "      <td>35</td>\n",
       "      <td>44</td>\n",
       "      <td>36</td>\n",
       "      <td>8</td>\n",
       "      <td>44</td>\n",
       "      <td>34</td>\n",
       "      <td>44</td>\n",
       "    </tr>\n",
       "    <tr>\n",
       "      <th>3</th>\n",
       "      <td>56</td>\n",
       "      <td>65</td>\n",
       "      <td>68</td>\n",
       "      <td>9</td>\n",
       "      <td>72</td>\n",
       "      <td>52</td>\n",
       "      <td>45</td>\n",
       "    </tr>\n",
       "    <tr>\n",
       "      <th>4</th>\n",
       "      <td>64</td>\n",
       "      <td>57</td>\n",
       "      <td>59</td>\n",
       "      <td>28</td>\n",
       "      <td>50</td>\n",
       "      <td>61</td>\n",
       "      <td>55</td>\n",
       "    </tr>\n",
       "    <tr>\n",
       "      <th>5</th>\n",
       "      <td>62</td>\n",
       "      <td>38</td>\n",
       "      <td>45</td>\n",
       "      <td>180</td>\n",
       "      <td>23</td>\n",
       "      <td>52</td>\n",
       "      <td>39</td>\n",
       "    </tr>\n",
       "    <tr>\n",
       "      <th>Total</th>\n",
       "      <td>236</td>\n",
       "      <td>236</td>\n",
       "      <td>236</td>\n",
       "      <td>236</td>\n",
       "      <td>236</td>\n",
       "      <td>236</td>\n",
       "      <td>236</td>\n",
       "    </tr>\n",
       "  </tbody>\n",
       "</table>\n",
       "</div>"
      ],
      "text/plain": [
       "       Dintinguíveis  Proeminentes  Eficiente  Útil  Estética  Compreensão  \\\n",
       "1                 19            32         28    11        47           37   \n",
       "2                 35            44         36     8        44           34   \n",
       "3                 56            65         68     9        72           52   \n",
       "4                 64            57         59    28        50           61   \n",
       "5                 62            38         45   180        23           52   \n",
       "Total            236           236        236   236       236          236   \n",
       "\n",
       "       Interesse  \n",
       "1             53  \n",
       "2             44  \n",
       "3             45  \n",
       "4             55  \n",
       "5             39  \n",
       "Total        236  "
      ]
     },
     "execution_count": 10,
     "metadata": {},
     "output_type": "execute_result"
    }
   ],
   "source": [
    "df_pesq = df.copy()\n",
    "freq_ab_pesq = freq.copy()\n",
    "df_pesq = df_pesq[df_pesq.iloc[:, -1] == 'Pesquisador']\n",
    "for n, v in enumerate(col):\n",
    "    dict_data = organize_values(df_pesq[df_pesq.columns[col[n]]])\n",
    "    dict_data['Total'] = sum(dict_data.values())\n",
    "    freq_ab_pesq[df_pesq.columns[col[n]]] = dict_data.values()\n",
    "freq_ab_pesq.to_csv(\"figure/freq_ab_pesq.csv\")\n",
    "freq_ab_pesq"
   ]
  },
  {
   "cell_type": "code",
   "execution_count": 11,
   "metadata": {
    "colab": {
     "base_uri": "https://localhost:8080/",
     "height": 238
    },
    "id": "g6z2yG5yIXQm",
    "outputId": "5edc2cfa-8964-487d-ea23-10bff40964ce"
   },
   "outputs": [
    {
     "data": {
      "text/html": [
       "<div>\n",
       "<style scoped>\n",
       "    .dataframe tbody tr th:only-of-type {\n",
       "        vertical-align: middle;\n",
       "    }\n",
       "\n",
       "    .dataframe tbody tr th {\n",
       "        vertical-align: top;\n",
       "    }\n",
       "\n",
       "    .dataframe thead th {\n",
       "        text-align: right;\n",
       "    }\n",
       "</style>\n",
       "<table border=\"1\" class=\"dataframe\">\n",
       "  <thead>\n",
       "    <tr style=\"text-align: right;\">\n",
       "      <th></th>\n",
       "      <th>Dintinguíveis</th>\n",
       "      <th>Proeminentes</th>\n",
       "      <th>Eficiente</th>\n",
       "      <th>Útil</th>\n",
       "      <th>Estética</th>\n",
       "      <th>Compreensão</th>\n",
       "      <th>Interesse</th>\n",
       "    </tr>\n",
       "  </thead>\n",
       "  <tbody>\n",
       "    <tr>\n",
       "      <th>1</th>\n",
       "      <td>8</td>\n",
       "      <td>4</td>\n",
       "      <td>10</td>\n",
       "      <td>2</td>\n",
       "      <td>3</td>\n",
       "      <td>9</td>\n",
       "      <td>7</td>\n",
       "    </tr>\n",
       "    <tr>\n",
       "      <th>2</th>\n",
       "      <td>21</td>\n",
       "      <td>26</td>\n",
       "      <td>26</td>\n",
       "      <td>8</td>\n",
       "      <td>14</td>\n",
       "      <td>26</td>\n",
       "      <td>19</td>\n",
       "    </tr>\n",
       "    <tr>\n",
       "      <th>3</th>\n",
       "      <td>30</td>\n",
       "      <td>34</td>\n",
       "      <td>37</td>\n",
       "      <td>4</td>\n",
       "      <td>23</td>\n",
       "      <td>31</td>\n",
       "      <td>34</td>\n",
       "    </tr>\n",
       "    <tr>\n",
       "      <th>4</th>\n",
       "      <td>61</td>\n",
       "      <td>63</td>\n",
       "      <td>76</td>\n",
       "      <td>28</td>\n",
       "      <td>62</td>\n",
       "      <td>70</td>\n",
       "      <td>71</td>\n",
       "    </tr>\n",
       "    <tr>\n",
       "      <th>5</th>\n",
       "      <td>116</td>\n",
       "      <td>109</td>\n",
       "      <td>87</td>\n",
       "      <td>194</td>\n",
       "      <td>134</td>\n",
       "      <td>100</td>\n",
       "      <td>105</td>\n",
       "    </tr>\n",
       "    <tr>\n",
       "      <th>Total</th>\n",
       "      <td>236</td>\n",
       "      <td>236</td>\n",
       "      <td>236</td>\n",
       "      <td>236</td>\n",
       "      <td>236</td>\n",
       "      <td>236</td>\n",
       "      <td>236</td>\n",
       "    </tr>\n",
       "  </tbody>\n",
       "</table>\n",
       "</div>"
      ],
      "text/plain": [
       "       Dintinguíveis  Proeminentes  Eficiente  Útil  Estética  Compreensão  \\\n",
       "1                  8             4         10     2         3            9   \n",
       "2                 21            26         26     8        14           26   \n",
       "3                 30            34         37     4        23           31   \n",
       "4                 61            63         76    28        62           70   \n",
       "5                116           109         87   194       134          100   \n",
       "Total            236           236        236   236       236          236   \n",
       "\n",
       "       Interesse  \n",
       "1              7  \n",
       "2             19  \n",
       "3             34  \n",
       "4             71  \n",
       "5            105  \n",
       "Total        236  "
      ]
     },
     "execution_count": 11,
     "metadata": {},
     "output_type": "execute_result"
    }
   ],
   "source": [
    "df_pesq = df.copy()\n",
    "freq_ab_des = freq.copy()\n",
    "df_pesq = df_pesq[df_pesq.iloc[:, -1] != 'Pesquisador']\n",
    "for n, v in enumerate(col):\n",
    "    dict_data = organize_values(df_pesq[df_pesq.columns[col[n]]])\n",
    "    dict_data['Total'] = sum(dict_data.values())\n",
    "    freq_ab_des[df_pesq.columns[col[n]]] = dict_data.values()\n",
    "freq_ab_des.to_csv(\"figure/freq_ab_des.csv\")\n",
    "freq_ab_des"
   ]
  },
  {
   "cell_type": "code",
   "execution_count": 12,
   "metadata": {
    "colab": {
     "base_uri": "https://localhost:8080/",
     "height": 238
    },
    "id": "vw8Q8ATMIXQm",
    "outputId": "3d3b4522-f3c1-4e62-e702-34650e719364"
   },
   "outputs": [
    {
     "data": {
      "text/html": [
       "<div>\n",
       "<style scoped>\n",
       "    .dataframe tbody tr th:only-of-type {\n",
       "        vertical-align: middle;\n",
       "    }\n",
       "\n",
       "    .dataframe tbody tr th {\n",
       "        vertical-align: top;\n",
       "    }\n",
       "\n",
       "    .dataframe thead th {\n",
       "        text-align: right;\n",
       "    }\n",
       "</style>\n",
       "<table border=\"1\" class=\"dataframe\">\n",
       "  <thead>\n",
       "    <tr style=\"text-align: right;\">\n",
       "      <th></th>\n",
       "      <th>Dintinguíveis</th>\n",
       "      <th>Proeminentes</th>\n",
       "      <th>Eficiente</th>\n",
       "      <th>Útil</th>\n",
       "      <th>Estética</th>\n",
       "      <th>Compreensão</th>\n",
       "      <th>Interesse</th>\n",
       "    </tr>\n",
       "  </thead>\n",
       "  <tbody>\n",
       "    <tr>\n",
       "      <th>1</th>\n",
       "      <td>0.08</td>\n",
       "      <td>0.14</td>\n",
       "      <td>0.12</td>\n",
       "      <td>0.05</td>\n",
       "      <td>0.20</td>\n",
       "      <td>0.16</td>\n",
       "      <td>0.22</td>\n",
       "    </tr>\n",
       "    <tr>\n",
       "      <th>2</th>\n",
       "      <td>0.15</td>\n",
       "      <td>0.19</td>\n",
       "      <td>0.15</td>\n",
       "      <td>0.03</td>\n",
       "      <td>0.19</td>\n",
       "      <td>0.14</td>\n",
       "      <td>0.19</td>\n",
       "    </tr>\n",
       "    <tr>\n",
       "      <th>3</th>\n",
       "      <td>0.24</td>\n",
       "      <td>0.28</td>\n",
       "      <td>0.29</td>\n",
       "      <td>0.04</td>\n",
       "      <td>0.31</td>\n",
       "      <td>0.22</td>\n",
       "      <td>0.19</td>\n",
       "    </tr>\n",
       "    <tr>\n",
       "      <th>4</th>\n",
       "      <td>0.27</td>\n",
       "      <td>0.24</td>\n",
       "      <td>0.25</td>\n",
       "      <td>0.12</td>\n",
       "      <td>0.21</td>\n",
       "      <td>0.26</td>\n",
       "      <td>0.23</td>\n",
       "    </tr>\n",
       "    <tr>\n",
       "      <th>5</th>\n",
       "      <td>0.26</td>\n",
       "      <td>0.16</td>\n",
       "      <td>0.19</td>\n",
       "      <td>0.76</td>\n",
       "      <td>0.10</td>\n",
       "      <td>0.22</td>\n",
       "      <td>0.17</td>\n",
       "    </tr>\n",
       "    <tr>\n",
       "      <th>Total</th>\n",
       "      <td>1.00</td>\n",
       "      <td>1.00</td>\n",
       "      <td>1.00</td>\n",
       "      <td>1.00</td>\n",
       "      <td>1.00</td>\n",
       "      <td>1.00</td>\n",
       "      <td>1.00</td>\n",
       "    </tr>\n",
       "  </tbody>\n",
       "</table>\n",
       "</div>"
      ],
      "text/plain": [
       "       Dintinguíveis  Proeminentes  Eficiente  Útil  Estética  Compreensão  \\\n",
       "1               0.08          0.14       0.12  0.05      0.20         0.16   \n",
       "2               0.15          0.19       0.15  0.03      0.19         0.14   \n",
       "3               0.24          0.28       0.29  0.04      0.31         0.22   \n",
       "4               0.27          0.24       0.25  0.12      0.21         0.26   \n",
       "5               0.26          0.16       0.19  0.76      0.10         0.22   \n",
       "Total           1.00          1.00       1.00  1.00      1.00         1.00   \n",
       "\n",
       "       Interesse  \n",
       "1           0.22  \n",
       "2           0.19  \n",
       "3           0.19  \n",
       "4           0.23  \n",
       "5           0.17  \n",
       "Total       1.00  "
      ]
     },
     "execution_count": 12,
     "metadata": {},
     "output_type": "execute_result"
    }
   ],
   "source": [
    "freq_rel_pesq = freq.copy()\n",
    "for n in range(7):\n",
    "    coluna = freq_ab_pesq.columns[n]\n",
    "    freq_rel_pesq[coluna] = round(freq_ab_pesq[coluna]/freq_ab_pesq.loc['Total', coluna], 2)\n",
    "freq_rel_pesq.to_csv(\"figure/freq_rel_pesq.csv\")\n",
    "freq_rel_pesq"
   ]
  },
  {
   "cell_type": "code",
   "execution_count": 13,
   "metadata": {
    "colab": {
     "base_uri": "https://localhost:8080/",
     "height": 238
    },
    "id": "LovDwR_sIXQn",
    "outputId": "643b9fca-11af-4716-b559-44d578d6e20d"
   },
   "outputs": [
    {
     "data": {
      "text/html": [
       "<div>\n",
       "<style scoped>\n",
       "    .dataframe tbody tr th:only-of-type {\n",
       "        vertical-align: middle;\n",
       "    }\n",
       "\n",
       "    .dataframe tbody tr th {\n",
       "        vertical-align: top;\n",
       "    }\n",
       "\n",
       "    .dataframe thead th {\n",
       "        text-align: right;\n",
       "    }\n",
       "</style>\n",
       "<table border=\"1\" class=\"dataframe\">\n",
       "  <thead>\n",
       "    <tr style=\"text-align: right;\">\n",
       "      <th></th>\n",
       "      <th>Dintinguíveis</th>\n",
       "      <th>Proeminentes</th>\n",
       "      <th>Eficiente</th>\n",
       "      <th>Útil</th>\n",
       "      <th>Estética</th>\n",
       "      <th>Compreensão</th>\n",
       "      <th>Interesse</th>\n",
       "    </tr>\n",
       "  </thead>\n",
       "  <tbody>\n",
       "    <tr>\n",
       "      <th>1</th>\n",
       "      <td>0.03</td>\n",
       "      <td>0.02</td>\n",
       "      <td>0.04</td>\n",
       "      <td>0.01</td>\n",
       "      <td>0.01</td>\n",
       "      <td>0.04</td>\n",
       "      <td>0.03</td>\n",
       "    </tr>\n",
       "    <tr>\n",
       "      <th>2</th>\n",
       "      <td>0.09</td>\n",
       "      <td>0.11</td>\n",
       "      <td>0.11</td>\n",
       "      <td>0.03</td>\n",
       "      <td>0.06</td>\n",
       "      <td>0.11</td>\n",
       "      <td>0.08</td>\n",
       "    </tr>\n",
       "    <tr>\n",
       "      <th>3</th>\n",
       "      <td>0.13</td>\n",
       "      <td>0.14</td>\n",
       "      <td>0.16</td>\n",
       "      <td>0.02</td>\n",
       "      <td>0.10</td>\n",
       "      <td>0.13</td>\n",
       "      <td>0.14</td>\n",
       "    </tr>\n",
       "    <tr>\n",
       "      <th>4</th>\n",
       "      <td>0.26</td>\n",
       "      <td>0.27</td>\n",
       "      <td>0.32</td>\n",
       "      <td>0.12</td>\n",
       "      <td>0.26</td>\n",
       "      <td>0.30</td>\n",
       "      <td>0.30</td>\n",
       "    </tr>\n",
       "    <tr>\n",
       "      <th>5</th>\n",
       "      <td>0.49</td>\n",
       "      <td>0.46</td>\n",
       "      <td>0.37</td>\n",
       "      <td>0.82</td>\n",
       "      <td>0.57</td>\n",
       "      <td>0.42</td>\n",
       "      <td>0.44</td>\n",
       "    </tr>\n",
       "    <tr>\n",
       "      <th>Total</th>\n",
       "      <td>1.00</td>\n",
       "      <td>1.00</td>\n",
       "      <td>1.00</td>\n",
       "      <td>1.00</td>\n",
       "      <td>1.00</td>\n",
       "      <td>1.00</td>\n",
       "      <td>1.00</td>\n",
       "    </tr>\n",
       "  </tbody>\n",
       "</table>\n",
       "</div>"
      ],
      "text/plain": [
       "       Dintinguíveis  Proeminentes  Eficiente  Útil  Estética  Compreensão  \\\n",
       "1               0.03          0.02       0.04  0.01      0.01         0.04   \n",
       "2               0.09          0.11       0.11  0.03      0.06         0.11   \n",
       "3               0.13          0.14       0.16  0.02      0.10         0.13   \n",
       "4               0.26          0.27       0.32  0.12      0.26         0.30   \n",
       "5               0.49          0.46       0.37  0.82      0.57         0.42   \n",
       "Total           1.00          1.00       1.00  1.00      1.00         1.00   \n",
       "\n",
       "       Interesse  \n",
       "1           0.03  \n",
       "2           0.08  \n",
       "3           0.14  \n",
       "4           0.30  \n",
       "5           0.44  \n",
       "Total       1.00  "
      ]
     },
     "execution_count": 13,
     "metadata": {},
     "output_type": "execute_result"
    }
   ],
   "source": [
    "freq_rel_des = freq.copy()\n",
    "for n in range(7):\n",
    "    coluna = freq_ab_des.columns[n]\n",
    "    freq_rel_des[coluna] = round(freq_ab_des[coluna]/freq_ab_des.loc['Total', coluna], 2)\n",
    "freq_rel_des.to_csv(\"figure/freq_rel_des.csv\")\n",
    "freq_rel_des"
   ]
  },
  {
   "cell_type": "code",
   "execution_count": 14,
   "metadata": {
    "colab": {
     "base_uri": "https://localhost:8080/",
     "height": 143
    },
    "id": "gUp96m32IXQn",
    "outputId": "ea46d0e7-f93c-4762-95d7-1e10ce92723d"
   },
   "outputs": [
    {
     "data": {
      "text/html": [
       "<div>\n",
       "<style scoped>\n",
       "    .dataframe tbody tr th:only-of-type {\n",
       "        vertical-align: middle;\n",
       "    }\n",
       "\n",
       "    .dataframe tbody tr th {\n",
       "        vertical-align: top;\n",
       "    }\n",
       "\n",
       "    .dataframe thead th {\n",
       "        text-align: right;\n",
       "    }\n",
       "</style>\n",
       "<table border=\"1\" class=\"dataframe\">\n",
       "  <thead>\n",
       "    <tr style=\"text-align: right;\">\n",
       "      <th></th>\n",
       "      <th>Descrição</th>\n",
       "      <th>Fonte</th>\n",
       "    </tr>\n",
       "  </thead>\n",
       "  <tbody>\n",
       "    <tr>\n",
       "      <th>Sim</th>\n",
       "      <td>NaN</td>\n",
       "      <td>NaN</td>\n",
       "    </tr>\n",
       "    <tr>\n",
       "      <th>Não</th>\n",
       "      <td>NaN</td>\n",
       "      <td>NaN</td>\n",
       "    </tr>\n",
       "    <tr>\n",
       "      <th>Total</th>\n",
       "      <td>NaN</td>\n",
       "      <td>NaN</td>\n",
       "    </tr>\n",
       "  </tbody>\n",
       "</table>\n",
       "</div>"
      ],
      "text/plain": [
       "       Descrição  Fonte\n",
       "Sim          NaN    NaN\n",
       "Não          NaN    NaN\n",
       "Total        NaN    NaN"
      ]
     },
     "execution_count": 14,
     "metadata": {},
     "output_type": "execute_result"
    }
   ],
   "source": [
    "index=['Sim','Não']\n",
    "index.append('Total')\n",
    "columns=df.columns[[7,11]]\n",
    "freq = pd.DataFrame(data=np.nan, index=index, columns=columns)\n",
    "freq"
   ]
  },
  {
   "cell_type": "code",
   "execution_count": 15,
   "metadata": {
    "colab": {
     "base_uri": "https://localhost:8080/",
     "height": 143
    },
    "id": "qhd857m_IXQn",
    "outputId": "55d9a6ec-bf15-4844-d150-fdfda1875d3e"
   },
   "outputs": [
    {
     "data": {
      "text/html": [
       "<div>\n",
       "<style scoped>\n",
       "    .dataframe tbody tr th:only-of-type {\n",
       "        vertical-align: middle;\n",
       "    }\n",
       "\n",
       "    .dataframe tbody tr th {\n",
       "        vertical-align: top;\n",
       "    }\n",
       "\n",
       "    .dataframe thead th {\n",
       "        text-align: right;\n",
       "    }\n",
       "</style>\n",
       "<table border=\"1\" class=\"dataframe\">\n",
       "  <thead>\n",
       "    <tr style=\"text-align: right;\">\n",
       "      <th></th>\n",
       "      <th>Descrição</th>\n",
       "      <th>Fonte</th>\n",
       "    </tr>\n",
       "  </thead>\n",
       "  <tbody>\n",
       "    <tr>\n",
       "      <th>Sim</th>\n",
       "      <td>206.0</td>\n",
       "      <td>146.0</td>\n",
       "    </tr>\n",
       "    <tr>\n",
       "      <th>Não</th>\n",
       "      <td>30.0</td>\n",
       "      <td>90.0</td>\n",
       "    </tr>\n",
       "    <tr>\n",
       "      <th>Total</th>\n",
       "      <td>236.0</td>\n",
       "      <td>236.0</td>\n",
       "    </tr>\n",
       "  </tbody>\n",
       "</table>\n",
       "</div>"
      ],
      "text/plain": [
       "       Descrição  Fonte\n",
       "Sim        206.0  146.0\n",
       "Não         30.0   90.0\n",
       "Total      236.0  236.0"
      ]
     },
     "execution_count": 15,
     "metadata": {},
     "output_type": "execute_result"
    }
   ],
   "source": [
    "coluna = [df.columns[7], df.columns[11]]\n",
    "df_pesq = df.copy()\n",
    "freq_ab_pesq = freq.copy()\n",
    "df_pesq = df_pesq[df_pesq.iloc[:, -1] == 'Pesquisador'][coluna]\n",
    "freq_ab_pesq.loc[['Sim','Não'],coluna[0]] = df_pesq[coluna[0]].value_counts()\n",
    "freq_ab_pesq.loc[['Total'],coluna[0]] = df_pesq[coluna[0]].value_counts().sum()\n",
    "freq_ab_pesq.loc[['Sim','Não'],coluna[1]] = df_pesq[coluna[1]].value_counts()\n",
    "freq_ab_pesq.loc[['Total'],coluna[1]] = df_pesq[coluna[1]].value_counts().sum()\n",
    "freq_ab_pesq.to_csv(\"figure/freq_ab_pesq_qnt.csv\")\n",
    "\n",
    "freq_rel_pesq = freq.copy()\n",
    "freq_rel_pesq.iloc[:, 0] = round(freq_ab_pesq.iloc[:, 0]/freq_ab_pesq.iloc[-1, 0], 2)\n",
    "freq_rel_pesq.iloc[:, 1] = round(freq_ab_pesq.iloc[:, 1]/freq_ab_pesq.iloc[-1, 1], 2)\n",
    "freq_rel_pesq.to_csv(\"figure/freq_rel_pesq_qnt.csv\")\n",
    "\n",
    "freq_ab_pesq"
   ]
  },
  {
   "cell_type": "code",
   "execution_count": 16,
   "metadata": {
    "colab": {
     "base_uri": "https://localhost:8080/",
     "height": 143
    },
    "id": "iEz7Sa0jIXQo",
    "outputId": "f8340ae8-9b69-4fb6-8528-a153451c181f"
   },
   "outputs": [
    {
     "data": {
      "text/html": [
       "<div>\n",
       "<style scoped>\n",
       "    .dataframe tbody tr th:only-of-type {\n",
       "        vertical-align: middle;\n",
       "    }\n",
       "\n",
       "    .dataframe tbody tr th {\n",
       "        vertical-align: top;\n",
       "    }\n",
       "\n",
       "    .dataframe thead th {\n",
       "        text-align: right;\n",
       "    }\n",
       "</style>\n",
       "<table border=\"1\" class=\"dataframe\">\n",
       "  <thead>\n",
       "    <tr style=\"text-align: right;\">\n",
       "      <th></th>\n",
       "      <th>Descrição</th>\n",
       "      <th>Fonte</th>\n",
       "    </tr>\n",
       "  </thead>\n",
       "  <tbody>\n",
       "    <tr>\n",
       "      <th>Sim</th>\n",
       "      <td>0.87</td>\n",
       "      <td>0.62</td>\n",
       "    </tr>\n",
       "    <tr>\n",
       "      <th>Não</th>\n",
       "      <td>0.13</td>\n",
       "      <td>0.38</td>\n",
       "    </tr>\n",
       "    <tr>\n",
       "      <th>Total</th>\n",
       "      <td>1.00</td>\n",
       "      <td>1.00</td>\n",
       "    </tr>\n",
       "  </tbody>\n",
       "</table>\n",
       "</div>"
      ],
      "text/plain": [
       "       Descrição  Fonte\n",
       "Sim         0.87   0.62\n",
       "Não         0.13   0.38\n",
       "Total       1.00   1.00"
      ]
     },
     "execution_count": 16,
     "metadata": {},
     "output_type": "execute_result"
    }
   ],
   "source": [
    "freq_rel_pesq"
   ]
  },
  {
   "cell_type": "code",
   "execution_count": 17,
   "metadata": {
    "colab": {
     "base_uri": "https://localhost:8080/",
     "height": 143
    },
    "id": "0oIyGr18IXQo",
    "outputId": "1b08c713-145a-4570-e7b7-fcdd27e21689"
   },
   "outputs": [
    {
     "data": {
      "text/html": [
       "<div>\n",
       "<style scoped>\n",
       "    .dataframe tbody tr th:only-of-type {\n",
       "        vertical-align: middle;\n",
       "    }\n",
       "\n",
       "    .dataframe tbody tr th {\n",
       "        vertical-align: top;\n",
       "    }\n",
       "\n",
       "    .dataframe thead th {\n",
       "        text-align: right;\n",
       "    }\n",
       "</style>\n",
       "<table border=\"1\" class=\"dataframe\">\n",
       "  <thead>\n",
       "    <tr style=\"text-align: right;\">\n",
       "      <th></th>\n",
       "      <th>Descrição</th>\n",
       "      <th>Fonte</th>\n",
       "    </tr>\n",
       "  </thead>\n",
       "  <tbody>\n",
       "    <tr>\n",
       "      <th>Sim</th>\n",
       "      <td>168.0</td>\n",
       "      <td>191.0</td>\n",
       "    </tr>\n",
       "    <tr>\n",
       "      <th>Não</th>\n",
       "      <td>68.0</td>\n",
       "      <td>45.0</td>\n",
       "    </tr>\n",
       "    <tr>\n",
       "      <th>Total</th>\n",
       "      <td>236.0</td>\n",
       "      <td>236.0</td>\n",
       "    </tr>\n",
       "  </tbody>\n",
       "</table>\n",
       "</div>"
      ],
      "text/plain": [
       "       Descrição  Fonte\n",
       "Sim        168.0  191.0\n",
       "Não         68.0   45.0\n",
       "Total      236.0  236.0"
      ]
     },
     "execution_count": 17,
     "metadata": {},
     "output_type": "execute_result"
    }
   ],
   "source": [
    "df_pesq = df.copy()\n",
    "freq_ab_pesq = freq.copy()\n",
    "df_pesq = df_pesq[df_pesq.iloc[:, -1] != 'Pesquisador'][coluna]\n",
    "freq_ab_pesq.loc[['Sim','Não'],coluna[0]] = df_pesq[coluna[0]].value_counts()\n",
    "freq_ab_pesq.loc[['Total'],coluna[0]] = df_pesq[coluna[0]].value_counts().sum()\n",
    "freq_ab_pesq.loc[['Sim','Não'],coluna[1]] = df_pesq[coluna[1]].value_counts()\n",
    "freq_ab_pesq.loc[['Total'],coluna[1]] = df_pesq[coluna[1]].value_counts().sum()\n",
    "freq_ab_pesq.to_csv(\"figure/freq_ab_des_qnt.csv\")\n",
    "\n",
    "freq_rel_pesq = freq.copy()\n",
    "freq_rel_pesq.iloc[:, 0] = round(freq_ab_pesq.iloc[:, 0]/freq_ab_pesq.iloc[-1, 0], 2)\n",
    "freq_rel_pesq.iloc[:, 1] = round(freq_ab_pesq.iloc[:, 1]/freq_ab_pesq.iloc[-1, 1], 2)\n",
    "freq_rel_pesq.to_csv(\"figure/freq_rel_des_qnt.csv\")\n",
    "\n",
    "freq_ab_pesq"
   ]
  },
  {
   "cell_type": "code",
   "execution_count": 18,
   "metadata": {
    "colab": {
     "base_uri": "https://localhost:8080/",
     "height": 143
    },
    "id": "sGGfYMOcIXQo",
    "outputId": "8bd6975f-a85b-4db8-efb8-1b96de2206f2"
   },
   "outputs": [
    {
     "data": {
      "text/html": [
       "<div>\n",
       "<style scoped>\n",
       "    .dataframe tbody tr th:only-of-type {\n",
       "        vertical-align: middle;\n",
       "    }\n",
       "\n",
       "    .dataframe tbody tr th {\n",
       "        vertical-align: top;\n",
       "    }\n",
       "\n",
       "    .dataframe thead th {\n",
       "        text-align: right;\n",
       "    }\n",
       "</style>\n",
       "<table border=\"1\" class=\"dataframe\">\n",
       "  <thead>\n",
       "    <tr style=\"text-align: right;\">\n",
       "      <th></th>\n",
       "      <th>Descrição</th>\n",
       "      <th>Fonte</th>\n",
       "    </tr>\n",
       "  </thead>\n",
       "  <tbody>\n",
       "    <tr>\n",
       "      <th>Sim</th>\n",
       "      <td>0.71</td>\n",
       "      <td>0.81</td>\n",
       "    </tr>\n",
       "    <tr>\n",
       "      <th>Não</th>\n",
       "      <td>0.29</td>\n",
       "      <td>0.19</td>\n",
       "    </tr>\n",
       "    <tr>\n",
       "      <th>Total</th>\n",
       "      <td>1.00</td>\n",
       "      <td>1.00</td>\n",
       "    </tr>\n",
       "  </tbody>\n",
       "</table>\n",
       "</div>"
      ],
      "text/plain": [
       "       Descrição  Fonte\n",
       "Sim         0.71   0.81\n",
       "Não         0.29   0.19\n",
       "Total       1.00   1.00"
      ]
     },
     "execution_count": 18,
     "metadata": {},
     "output_type": "execute_result"
    }
   ],
   "source": [
    "freq_rel_pesq"
   ]
  },
  {
   "cell_type": "markdown",
   "metadata": {
    "id": "bgxeUAtrV6h7"
   },
   "source": [
    "# Estruturação dos dados, de acordo com as perguntas e origens das imagens."
   ]
  },
  {
   "cell_type": "code",
   "execution_count": 19,
   "metadata": {
    "colab": {
     "base_uri": "https://localhost:8080/",
     "height": 368
    },
    "id": "siE2_W6jW9V2",
    "outputId": "2475ab3f-bda5-4a53-90ba-003c69b05a80"
   },
   "outputs": [
    {
     "data": {
      "text/html": [
       "<div>\n",
       "<style scoped>\n",
       "    .dataframe tbody tr th:only-of-type {\n",
       "        vertical-align: middle;\n",
       "    }\n",
       "\n",
       "    .dataframe tbody tr th {\n",
       "        vertical-align: top;\n",
       "    }\n",
       "\n",
       "    .dataframe thead th {\n",
       "        text-align: right;\n",
       "    }\n",
       "</style>\n",
       "<table border=\"1\" class=\"dataframe\">\n",
       "  <thead>\n",
       "    <tr style=\"text-align: right;\">\n",
       "      <th></th>\n",
       "      <th>Data</th>\n",
       "      <th>IP</th>\n",
       "      <th>TCLE</th>\n",
       "      <th>Língua</th>\n",
       "      <th>Figura</th>\n",
       "      <th>Dintinguíveis</th>\n",
       "      <th>Proeminentes</th>\n",
       "      <th>Descrição</th>\n",
       "      <th>Eficiente</th>\n",
       "      <th>Útil</th>\n",
       "      <th>Estética</th>\n",
       "      <th>Fonte</th>\n",
       "      <th>Compreensão</th>\n",
       "      <th>Interesse</th>\n",
       "      <th>Grau</th>\n",
       "      <th>Área</th>\n",
       "      <th>Origem</th>\n",
       "    </tr>\n",
       "    <tr>\n",
       "      <th>id</th>\n",
       "      <th></th>\n",
       "      <th></th>\n",
       "      <th></th>\n",
       "      <th></th>\n",
       "      <th></th>\n",
       "      <th></th>\n",
       "      <th></th>\n",
       "      <th></th>\n",
       "      <th></th>\n",
       "      <th></th>\n",
       "      <th></th>\n",
       "      <th></th>\n",
       "      <th></th>\n",
       "      <th></th>\n",
       "      <th></th>\n",
       "      <th></th>\n",
       "      <th></th>\n",
       "    </tr>\n",
       "  </thead>\n",
       "  <tbody>\n",
       "    <tr>\n",
       "      <th>1</th>\n",
       "      <td>2020-03-02 13:31:20</td>\n",
       "      <td>200.134.9.2</td>\n",
       "      <td>s</td>\n",
       "      <td>pt</td>\n",
       "      <td>Reovírus Aviário</td>\n",
       "      <td>2</td>\n",
       "      <td>1</td>\n",
       "      <td>Sim</td>\n",
       "      <td>1</td>\n",
       "      <td>5</td>\n",
       "      <td>2</td>\n",
       "      <td>Sim</td>\n",
       "      <td>1</td>\n",
       "      <td>1</td>\n",
       "      <td>Doutorado</td>\n",
       "      <td>Exatas</td>\n",
       "      <td>Pesquisador</td>\n",
       "    </tr>\n",
       "    <tr>\n",
       "      <th>2</th>\n",
       "      <td>2020-03-02 17:45:41</td>\n",
       "      <td>191.52.71.228</td>\n",
       "      <td>s</td>\n",
       "      <td>pt</td>\n",
       "      <td>Reovírus Aviário</td>\n",
       "      <td>3</td>\n",
       "      <td>3</td>\n",
       "      <td>Sim</td>\n",
       "      <td>2</td>\n",
       "      <td>2</td>\n",
       "      <td>4</td>\n",
       "      <td>Não</td>\n",
       "      <td>4</td>\n",
       "      <td>2</td>\n",
       "      <td>Doutorado</td>\n",
       "      <td>Biológicas</td>\n",
       "      <td>Designer</td>\n",
       "    </tr>\n",
       "    <tr>\n",
       "      <th>3</th>\n",
       "      <td>2020-03-02 18:32:50</td>\n",
       "      <td>189.14.35.136</td>\n",
       "      <td>s</td>\n",
       "      <td>pt</td>\n",
       "      <td>Células Tronco</td>\n",
       "      <td>4</td>\n",
       "      <td>3</td>\n",
       "      <td>Sim</td>\n",
       "      <td>3</td>\n",
       "      <td>5</td>\n",
       "      <td>4</td>\n",
       "      <td>Não</td>\n",
       "      <td>3</td>\n",
       "      <td>3</td>\n",
       "      <td>Doutorado</td>\n",
       "      <td>Exatas</td>\n",
       "      <td>Pesquisador</td>\n",
       "    </tr>\n",
       "    <tr>\n",
       "      <th>4</th>\n",
       "      <td>2020-03-02 19:33:38</td>\n",
       "      <td>170.239.53.11</td>\n",
       "      <td>s</td>\n",
       "      <td>pt</td>\n",
       "      <td>Células Tronco</td>\n",
       "      <td>4</td>\n",
       "      <td>4</td>\n",
       "      <td>Sim</td>\n",
       "      <td>5</td>\n",
       "      <td>5</td>\n",
       "      <td>5</td>\n",
       "      <td>Sim</td>\n",
       "      <td>5</td>\n",
       "      <td>5</td>\n",
       "      <td>Mestrado</td>\n",
       "      <td>Biológicas</td>\n",
       "      <td>Designer</td>\n",
       "    </tr>\n",
       "    <tr>\n",
       "      <th>5</th>\n",
       "      <td>2020-03-03 11:50:20</td>\n",
       "      <td>189.103.158.150</td>\n",
       "      <td>s</td>\n",
       "      <td>pt</td>\n",
       "      <td>T. gondii</td>\n",
       "      <td>5</td>\n",
       "      <td>1</td>\n",
       "      <td>Sim</td>\n",
       "      <td>5</td>\n",
       "      <td>5</td>\n",
       "      <td>2</td>\n",
       "      <td>Sim</td>\n",
       "      <td>5</td>\n",
       "      <td>4</td>\n",
       "      <td>Doutorado</td>\n",
       "      <td>Biológicas</td>\n",
       "      <td>Pesquisador</td>\n",
       "    </tr>\n",
       "  </tbody>\n",
       "</table>\n",
       "</div>"
      ],
      "text/plain": [
       "                   Data               IP TCLE Língua            Figura  \\\n",
       "id                                                                       \n",
       "1   2020-03-02 13:31:20      200.134.9.2    s     pt  Reovírus Aviário   \n",
       "2   2020-03-02 17:45:41    191.52.71.228    s     pt  Reovírus Aviário   \n",
       "3   2020-03-02 18:32:50    189.14.35.136    s     pt    Células Tronco   \n",
       "4   2020-03-02 19:33:38    170.239.53.11    s     pt    Células Tronco   \n",
       "5   2020-03-03 11:50:20  189.103.158.150    s     pt         T. gondii   \n",
       "\n",
       "    Dintinguíveis  Proeminentes Descrição  Eficiente  Útil  Estética Fonte  \\\n",
       "id                                                                           \n",
       "1               2             1       Sim          1     5         2   Sim   \n",
       "2               3             3       Sim          2     2         4   Não   \n",
       "3               4             3       Sim          3     5         4   Não   \n",
       "4               4             4       Sim          5     5         5   Sim   \n",
       "5               5             1       Sim          5     5         2   Sim   \n",
       "\n",
       "    Compreensão  Interesse       Grau        Área       Origem  \n",
       "id                                                              \n",
       "1             1          1  Doutorado      Exatas  Pesquisador  \n",
       "2             4          2  Doutorado  Biológicas     Designer  \n",
       "3             3          3  Doutorado      Exatas  Pesquisador  \n",
       "4             5          5   Mestrado  Biológicas     Designer  \n",
       "5             5          4  Doutorado  Biológicas  Pesquisador  "
      ]
     },
     "execution_count": 19,
     "metadata": {},
     "output_type": "execute_result"
    }
   ],
   "source": [
    "df.head()"
   ]
  },
  {
   "cell_type": "code",
   "execution_count": 20,
   "metadata": {
    "colab": {
     "base_uri": "https://localhost:8080/",
     "height": 457
    },
    "id": "5j_2uXAA_Awx",
    "outputId": "2f1c4fe9-e11d-46e1-852c-ddd299b3d2d6"
   },
   "outputs": [
    {
     "data": {
      "text/html": [
       "<div>\n",
       "<style scoped>\n",
       "    .dataframe tbody tr th:only-of-type {\n",
       "        vertical-align: middle;\n",
       "    }\n",
       "\n",
       "    .dataframe tbody tr th {\n",
       "        vertical-align: top;\n",
       "    }\n",
       "\n",
       "    .dataframe thead th {\n",
       "        text-align: right;\n",
       "    }\n",
       "</style>\n",
       "<table border=\"1\" class=\"dataframe\">\n",
       "  <thead>\n",
       "    <tr style=\"text-align: right;\">\n",
       "      <th></th>\n",
       "      <th></th>\n",
       "      <th>Data</th>\n",
       "      <th>IP</th>\n",
       "      <th>TCLE</th>\n",
       "      <th>Língua</th>\n",
       "      <th>Dintinguíveis</th>\n",
       "      <th>Proeminentes</th>\n",
       "      <th>Descrição</th>\n",
       "      <th>Eficiente</th>\n",
       "      <th>Útil</th>\n",
       "      <th>Estética</th>\n",
       "      <th>Fonte</th>\n",
       "      <th>Compreensão</th>\n",
       "      <th>Interesse</th>\n",
       "      <th>Grau</th>\n",
       "      <th>Área</th>\n",
       "    </tr>\n",
       "    <tr>\n",
       "      <th>Figura</th>\n",
       "      <th>Origem</th>\n",
       "      <th></th>\n",
       "      <th></th>\n",
       "      <th></th>\n",
       "      <th></th>\n",
       "      <th></th>\n",
       "      <th></th>\n",
       "      <th></th>\n",
       "      <th></th>\n",
       "      <th></th>\n",
       "      <th></th>\n",
       "      <th></th>\n",
       "      <th></th>\n",
       "      <th></th>\n",
       "      <th></th>\n",
       "      <th></th>\n",
       "    </tr>\n",
       "  </thead>\n",
       "  <tbody>\n",
       "    <tr>\n",
       "      <th rowspan=\"2\" valign=\"top\">Citocinas</th>\n",
       "      <th>Designer</th>\n",
       "      <td>39</td>\n",
       "      <td>39</td>\n",
       "      <td>39</td>\n",
       "      <td>39</td>\n",
       "      <td>39</td>\n",
       "      <td>39</td>\n",
       "      <td>39</td>\n",
       "      <td>39</td>\n",
       "      <td>39</td>\n",
       "      <td>39</td>\n",
       "      <td>39</td>\n",
       "      <td>39</td>\n",
       "      <td>39</td>\n",
       "      <td>39</td>\n",
       "      <td>39</td>\n",
       "    </tr>\n",
       "    <tr>\n",
       "      <th>Pesquisador</th>\n",
       "      <td>39</td>\n",
       "      <td>39</td>\n",
       "      <td>39</td>\n",
       "      <td>39</td>\n",
       "      <td>39</td>\n",
       "      <td>39</td>\n",
       "      <td>39</td>\n",
       "      <td>39</td>\n",
       "      <td>39</td>\n",
       "      <td>39</td>\n",
       "      <td>39</td>\n",
       "      <td>39</td>\n",
       "      <td>39</td>\n",
       "      <td>39</td>\n",
       "      <td>39</td>\n",
       "    </tr>\n",
       "    <tr>\n",
       "      <th rowspan=\"2\" valign=\"top\">Células Tronco</th>\n",
       "      <th>Designer</th>\n",
       "      <td>40</td>\n",
       "      <td>40</td>\n",
       "      <td>40</td>\n",
       "      <td>40</td>\n",
       "      <td>40</td>\n",
       "      <td>40</td>\n",
       "      <td>40</td>\n",
       "      <td>40</td>\n",
       "      <td>40</td>\n",
       "      <td>40</td>\n",
       "      <td>40</td>\n",
       "      <td>40</td>\n",
       "      <td>40</td>\n",
       "      <td>40</td>\n",
       "      <td>40</td>\n",
       "    </tr>\n",
       "    <tr>\n",
       "      <th>Pesquisador</th>\n",
       "      <td>40</td>\n",
       "      <td>40</td>\n",
       "      <td>40</td>\n",
       "      <td>40</td>\n",
       "      <td>40</td>\n",
       "      <td>40</td>\n",
       "      <td>40</td>\n",
       "      <td>40</td>\n",
       "      <td>40</td>\n",
       "      <td>40</td>\n",
       "      <td>40</td>\n",
       "      <td>40</td>\n",
       "      <td>40</td>\n",
       "      <td>40</td>\n",
       "      <td>40</td>\n",
       "    </tr>\n",
       "    <tr>\n",
       "      <th rowspan=\"2\" valign=\"top\">Febre Amarela</th>\n",
       "      <th>Designer</th>\n",
       "      <td>39</td>\n",
       "      <td>39</td>\n",
       "      <td>39</td>\n",
       "      <td>39</td>\n",
       "      <td>39</td>\n",
       "      <td>39</td>\n",
       "      <td>39</td>\n",
       "      <td>39</td>\n",
       "      <td>39</td>\n",
       "      <td>39</td>\n",
       "      <td>39</td>\n",
       "      <td>39</td>\n",
       "      <td>39</td>\n",
       "      <td>39</td>\n",
       "      <td>39</td>\n",
       "    </tr>\n",
       "    <tr>\n",
       "      <th>Pesquisador</th>\n",
       "      <td>39</td>\n",
       "      <td>39</td>\n",
       "      <td>39</td>\n",
       "      <td>39</td>\n",
       "      <td>39</td>\n",
       "      <td>39</td>\n",
       "      <td>39</td>\n",
       "      <td>39</td>\n",
       "      <td>39</td>\n",
       "      <td>39</td>\n",
       "      <td>39</td>\n",
       "      <td>39</td>\n",
       "      <td>39</td>\n",
       "      <td>39</td>\n",
       "      <td>39</td>\n",
       "    </tr>\n",
       "    <tr>\n",
       "      <th rowspan=\"2\" valign=\"top\">Linfócitos</th>\n",
       "      <th>Designer</th>\n",
       "      <td>39</td>\n",
       "      <td>39</td>\n",
       "      <td>39</td>\n",
       "      <td>39</td>\n",
       "      <td>39</td>\n",
       "      <td>39</td>\n",
       "      <td>39</td>\n",
       "      <td>39</td>\n",
       "      <td>39</td>\n",
       "      <td>39</td>\n",
       "      <td>39</td>\n",
       "      <td>39</td>\n",
       "      <td>39</td>\n",
       "      <td>39</td>\n",
       "      <td>39</td>\n",
       "    </tr>\n",
       "    <tr>\n",
       "      <th>Pesquisador</th>\n",
       "      <td>39</td>\n",
       "      <td>39</td>\n",
       "      <td>39</td>\n",
       "      <td>39</td>\n",
       "      <td>39</td>\n",
       "      <td>39</td>\n",
       "      <td>39</td>\n",
       "      <td>39</td>\n",
       "      <td>39</td>\n",
       "      <td>39</td>\n",
       "      <td>39</td>\n",
       "      <td>39</td>\n",
       "      <td>39</td>\n",
       "      <td>39</td>\n",
       "      <td>39</td>\n",
       "    </tr>\n",
       "    <tr>\n",
       "      <th rowspan=\"2\" valign=\"top\">Reovírus Aviário</th>\n",
       "      <th>Designer</th>\n",
       "      <td>40</td>\n",
       "      <td>40</td>\n",
       "      <td>40</td>\n",
       "      <td>40</td>\n",
       "      <td>40</td>\n",
       "      <td>40</td>\n",
       "      <td>40</td>\n",
       "      <td>40</td>\n",
       "      <td>40</td>\n",
       "      <td>40</td>\n",
       "      <td>40</td>\n",
       "      <td>40</td>\n",
       "      <td>40</td>\n",
       "      <td>40</td>\n",
       "      <td>40</td>\n",
       "    </tr>\n",
       "    <tr>\n",
       "      <th>Pesquisador</th>\n",
       "      <td>40</td>\n",
       "      <td>40</td>\n",
       "      <td>40</td>\n",
       "      <td>40</td>\n",
       "      <td>40</td>\n",
       "      <td>40</td>\n",
       "      <td>40</td>\n",
       "      <td>40</td>\n",
       "      <td>40</td>\n",
       "      <td>40</td>\n",
       "      <td>40</td>\n",
       "      <td>40</td>\n",
       "      <td>40</td>\n",
       "      <td>40</td>\n",
       "      <td>40</td>\n",
       "    </tr>\n",
       "    <tr>\n",
       "      <th rowspan=\"2\" valign=\"top\">T. gondii</th>\n",
       "      <th>Designer</th>\n",
       "      <td>39</td>\n",
       "      <td>39</td>\n",
       "      <td>39</td>\n",
       "      <td>39</td>\n",
       "      <td>39</td>\n",
       "      <td>39</td>\n",
       "      <td>39</td>\n",
       "      <td>39</td>\n",
       "      <td>39</td>\n",
       "      <td>39</td>\n",
       "      <td>39</td>\n",
       "      <td>39</td>\n",
       "      <td>39</td>\n",
       "      <td>39</td>\n",
       "      <td>39</td>\n",
       "    </tr>\n",
       "    <tr>\n",
       "      <th>Pesquisador</th>\n",
       "      <td>39</td>\n",
       "      <td>39</td>\n",
       "      <td>39</td>\n",
       "      <td>39</td>\n",
       "      <td>39</td>\n",
       "      <td>39</td>\n",
       "      <td>39</td>\n",
       "      <td>39</td>\n",
       "      <td>39</td>\n",
       "      <td>39</td>\n",
       "      <td>39</td>\n",
       "      <td>39</td>\n",
       "      <td>39</td>\n",
       "      <td>39</td>\n",
       "      <td>39</td>\n",
       "    </tr>\n",
       "  </tbody>\n",
       "</table>\n",
       "</div>"
      ],
      "text/plain": [
       "                              Data  IP  TCLE  Língua  Dintinguíveis  \\\n",
       "Figura           Origem                                               \n",
       "Citocinas        Designer       39  39    39      39             39   \n",
       "                 Pesquisador    39  39    39      39             39   \n",
       "Células Tronco   Designer       40  40    40      40             40   \n",
       "                 Pesquisador    40  40    40      40             40   \n",
       "Febre Amarela    Designer       39  39    39      39             39   \n",
       "                 Pesquisador    39  39    39      39             39   \n",
       "Linfócitos       Designer       39  39    39      39             39   \n",
       "                 Pesquisador    39  39    39      39             39   \n",
       "Reovírus Aviário Designer       40  40    40      40             40   \n",
       "                 Pesquisador    40  40    40      40             40   \n",
       "T. gondii        Designer       39  39    39      39             39   \n",
       "                 Pesquisador    39  39    39      39             39   \n",
       "\n",
       "                              Proeminentes  Descrição  Eficiente  Útil  \\\n",
       "Figura           Origem                                                  \n",
       "Citocinas        Designer               39         39         39    39   \n",
       "                 Pesquisador            39         39         39    39   \n",
       "Células Tronco   Designer               40         40         40    40   \n",
       "                 Pesquisador            40         40         40    40   \n",
       "Febre Amarela    Designer               39         39         39    39   \n",
       "                 Pesquisador            39         39         39    39   \n",
       "Linfócitos       Designer               39         39         39    39   \n",
       "                 Pesquisador            39         39         39    39   \n",
       "Reovírus Aviário Designer               40         40         40    40   \n",
       "                 Pesquisador            40         40         40    40   \n",
       "T. gondii        Designer               39         39         39    39   \n",
       "                 Pesquisador            39         39         39    39   \n",
       "\n",
       "                              Estética  Fonte  Compreensão  Interesse  Grau  \\\n",
       "Figura           Origem                                                       \n",
       "Citocinas        Designer           39     39           39         39    39   \n",
       "                 Pesquisador        39     39           39         39    39   \n",
       "Células Tronco   Designer           40     40           40         40    40   \n",
       "                 Pesquisador        40     40           40         40    40   \n",
       "Febre Amarela    Designer           39     39           39         39    39   \n",
       "                 Pesquisador        39     39           39         39    39   \n",
       "Linfócitos       Designer           39     39           39         39    39   \n",
       "                 Pesquisador        39     39           39         39    39   \n",
       "Reovírus Aviário Designer           40     40           40         40    40   \n",
       "                 Pesquisador        40     40           40         40    40   \n",
       "T. gondii        Designer           39     39           39         39    39   \n",
       "                 Pesquisador        39     39           39         39    39   \n",
       "\n",
       "                              Área  \n",
       "Figura           Origem             \n",
       "Citocinas        Designer       39  \n",
       "                 Pesquisador    39  \n",
       "Células Tronco   Designer       40  \n",
       "                 Pesquisador    40  \n",
       "Febre Amarela    Designer       39  \n",
       "                 Pesquisador    39  \n",
       "Linfócitos       Designer       39  \n",
       "                 Pesquisador    39  \n",
       "Reovírus Aviário Designer       40  \n",
       "                 Pesquisador    40  \n",
       "T. gondii        Designer       39  \n",
       "                 Pesquisador    39  "
      ]
     },
     "execution_count": 20,
     "metadata": {},
     "output_type": "execute_result"
    }
   ],
   "source": [
    "# df.groupby(['Figura','Origem']).count().to_csv('n_de_participações.csv')\n",
    "df.groupby(['Figura','Origem']).count()"
   ]
  },
  {
   "cell_type": "code",
   "execution_count": 21,
   "metadata": {
    "colab": {
     "base_uri": "https://localhost:8080/",
     "height": 238
    },
    "id": "qJ-q7YSUWFK7",
    "outputId": "caf43ec1-cb2e-4bfb-990f-bb0797fb47d0"
   },
   "outputs": [
    {
     "data": {
      "text/html": [
       "<div>\n",
       "<style scoped>\n",
       "    .dataframe tbody tr th:only-of-type {\n",
       "        vertical-align: middle;\n",
       "    }\n",
       "\n",
       "    .dataframe tbody tr th {\n",
       "        vertical-align: top;\n",
       "    }\n",
       "\n",
       "    .dataframe thead th {\n",
       "        text-align: right;\n",
       "    }\n",
       "</style>\n",
       "<table border=\"1\" class=\"dataframe\">\n",
       "  <thead>\n",
       "    <tr style=\"text-align: right;\">\n",
       "      <th></th>\n",
       "      <th>Dintinguíveis</th>\n",
       "      <th>Proeminentes</th>\n",
       "      <th>Eficiente</th>\n",
       "      <th>Útil</th>\n",
       "      <th>Estética</th>\n",
       "      <th>Compreensão</th>\n",
       "      <th>Interesse</th>\n",
       "      <th>Origem</th>\n",
       "    </tr>\n",
       "    <tr>\n",
       "      <th>id</th>\n",
       "      <th></th>\n",
       "      <th></th>\n",
       "      <th></th>\n",
       "      <th></th>\n",
       "      <th></th>\n",
       "      <th></th>\n",
       "      <th></th>\n",
       "      <th></th>\n",
       "    </tr>\n",
       "  </thead>\n",
       "  <tbody>\n",
       "    <tr>\n",
       "      <th>1</th>\n",
       "      <td>2</td>\n",
       "      <td>1</td>\n",
       "      <td>1</td>\n",
       "      <td>5</td>\n",
       "      <td>2</td>\n",
       "      <td>1</td>\n",
       "      <td>1</td>\n",
       "      <td>Pesquisador</td>\n",
       "    </tr>\n",
       "    <tr>\n",
       "      <th>2</th>\n",
       "      <td>3</td>\n",
       "      <td>3</td>\n",
       "      <td>2</td>\n",
       "      <td>2</td>\n",
       "      <td>4</td>\n",
       "      <td>4</td>\n",
       "      <td>2</td>\n",
       "      <td>Designer</td>\n",
       "    </tr>\n",
       "    <tr>\n",
       "      <th>3</th>\n",
       "      <td>4</td>\n",
       "      <td>3</td>\n",
       "      <td>3</td>\n",
       "      <td>5</td>\n",
       "      <td>4</td>\n",
       "      <td>3</td>\n",
       "      <td>3</td>\n",
       "      <td>Pesquisador</td>\n",
       "    </tr>\n",
       "    <tr>\n",
       "      <th>4</th>\n",
       "      <td>4</td>\n",
       "      <td>4</td>\n",
       "      <td>5</td>\n",
       "      <td>5</td>\n",
       "      <td>5</td>\n",
       "      <td>5</td>\n",
       "      <td>5</td>\n",
       "      <td>Designer</td>\n",
       "    </tr>\n",
       "    <tr>\n",
       "      <th>5</th>\n",
       "      <td>5</td>\n",
       "      <td>1</td>\n",
       "      <td>5</td>\n",
       "      <td>5</td>\n",
       "      <td>2</td>\n",
       "      <td>5</td>\n",
       "      <td>4</td>\n",
       "      <td>Pesquisador</td>\n",
       "    </tr>\n",
       "  </tbody>\n",
       "</table>\n",
       "</div>"
      ],
      "text/plain": [
       "    Dintinguíveis  Proeminentes  Eficiente  Útil  Estética  Compreensão  \\\n",
       "id                                                                        \n",
       "1               2             1          1     5         2            1   \n",
       "2               3             3          2     2         4            4   \n",
       "3               4             3          3     5         4            3   \n",
       "4               4             4          5     5         5            5   \n",
       "5               5             1          5     5         2            5   \n",
       "\n",
       "    Interesse       Origem  \n",
       "id                          \n",
       "1           1  Pesquisador  \n",
       "2           2     Designer  \n",
       "3           3  Pesquisador  \n",
       "4           5     Designer  \n",
       "5           4  Pesquisador  "
      ]
     },
     "execution_count": 21,
     "metadata": {},
     "output_type": "execute_result"
    }
   ],
   "source": [
    "colunas_perguntas = df.columns[[5,6,8,9,10,12,13,16]]\n",
    "df_perguntas = df[colunas_perguntas].copy()\n",
    "df_perguntas.head()"
   ]
  },
  {
   "cell_type": "markdown",
   "metadata": {
    "id": "DSOfnsx8XXU5"
   },
   "source": [
    "# Estrutrando o dado com **todas** as observações, por Origem. Teste de Willcoxon baseado em ranquiamento (rank-sum)"
   ]
  },
  {
   "cell_type": "code",
   "execution_count": 22,
   "metadata": {
    "colab": {
     "base_uri": "https://localhost:8080/"
    },
    "id": "bSoqQUEd34Ir",
    "outputId": "baa4498e-60ac-46fb-9084-09c75f8c01df"
   },
   "outputs": [
    {
     "data": {
      "text/plain": [
       "4.147094430992736"
      ]
     },
     "execution_count": 22,
     "metadata": {},
     "output_type": "execute_result"
    }
   ],
   "source": [
    "array_pesquisador = np.array(df_perguntas.query(\"Origem == 'Pesquisador'\"))[:,:-1].reshape(-1,)\n",
    "array_designer = np.array(df_perguntas.query(\"Origem != 'Pesquisador'\"))[:,:-1].reshape(-1,)\n",
    "array_designer.mean()"
   ]
  },
  {
   "cell_type": "code",
   "execution_count": 23,
   "metadata": {
    "colab": {
     "base_uri": "https://localhost:8080/"
    },
    "id": "frCFJz8X6MCS",
    "outputId": "55f96f69-e0bd-4cb7-b0af-83d020a8d4ea"
   },
   "outputs": [
    {
     "data": {
      "text/plain": [
       "3.3347457627118646"
      ]
     },
     "execution_count": 23,
     "metadata": {},
     "output_type": "execute_result"
    }
   ],
   "source": [
    "array_pesquisador.mean()"
   ]
  },
  {
   "cell_type": "code",
   "execution_count": 24,
   "metadata": {
    "colab": {
     "base_uri": "https://localhost:8080/",
     "height": 300
    },
    "id": "moqTBqTA6g6T",
    "outputId": "13ae4a57-18c9-47a5-820e-12c4d6297417"
   },
   "outputs": [
    {
     "data": {
      "text/html": [
       "<div>\n",
       "<style scoped>\n",
       "    .dataframe tbody tr th:only-of-type {\n",
       "        vertical-align: middle;\n",
       "    }\n",
       "\n",
       "    .dataframe tbody tr th {\n",
       "        vertical-align: top;\n",
       "    }\n",
       "\n",
       "    .dataframe thead th {\n",
       "        text-align: right;\n",
       "    }\n",
       "</style>\n",
       "<table border=\"1\" class=\"dataframe\">\n",
       "  <thead>\n",
       "    <tr style=\"text-align: right;\">\n",
       "      <th></th>\n",
       "      <th>Designer</th>\n",
       "      <th>Pesquisador</th>\n",
       "    </tr>\n",
       "  </thead>\n",
       "  <tbody>\n",
       "    <tr>\n",
       "      <th>count</th>\n",
       "      <td>1652.000000</td>\n",
       "      <td>1652.000000</td>\n",
       "    </tr>\n",
       "    <tr>\n",
       "      <th>mean</th>\n",
       "      <td>4.147094</td>\n",
       "      <td>3.334746</td>\n",
       "    </tr>\n",
       "    <tr>\n",
       "      <th>std</th>\n",
       "      <td>1.086578</td>\n",
       "      <td>1.369806</td>\n",
       "    </tr>\n",
       "    <tr>\n",
       "      <th>min</th>\n",
       "      <td>1.000000</td>\n",
       "      <td>1.000000</td>\n",
       "    </tr>\n",
       "    <tr>\n",
       "      <th>25%</th>\n",
       "      <td>4.000000</td>\n",
       "      <td>2.000000</td>\n",
       "    </tr>\n",
       "    <tr>\n",
       "      <th>50%</th>\n",
       "      <td>5.000000</td>\n",
       "      <td>3.000000</td>\n",
       "    </tr>\n",
       "    <tr>\n",
       "      <th>75%</th>\n",
       "      <td>5.000000</td>\n",
       "      <td>5.000000</td>\n",
       "    </tr>\n",
       "    <tr>\n",
       "      <th>max</th>\n",
       "      <td>5.000000</td>\n",
       "      <td>5.000000</td>\n",
       "    </tr>\n",
       "  </tbody>\n",
       "</table>\n",
       "</div>"
      ],
      "text/plain": [
       "          Designer  Pesquisador\n",
       "count  1652.000000  1652.000000\n",
       "mean      4.147094     3.334746\n",
       "std       1.086578     1.369806\n",
       "min       1.000000     1.000000\n",
       "25%       4.000000     2.000000\n",
       "50%       5.000000     3.000000\n",
       "75%       5.000000     5.000000\n",
       "max       5.000000     5.000000"
      ]
     },
     "execution_count": 24,
     "metadata": {},
     "output_type": "execute_result"
    }
   ],
   "source": [
    "df_total = pd.DataFrame(data=[array_designer,array_pesquisador]).T\n",
    "df_total.columns = ['Designer','Pesquisador']\n",
    "df_total.describe()"
   ]
  },
  {
   "cell_type": "code",
   "execution_count": 25,
   "metadata": {
    "id": "q7xkgWRW-fyn"
   },
   "outputs": [],
   "source": [
    "g = 1\n",
    "campo = False"
   ]
  },
  {
   "cell_type": "code",
   "execution_count": 26,
   "metadata": {
    "colab": {
     "base_uri": "https://localhost:8080/",
     "height": 421
    },
    "id": "5vFGIadm6tfi",
    "outputId": "dec1f57d-32eb-4a0e-d5f9-f0c7949616e1"
   },
   "outputs": [
    {
     "name": "stdout",
     "output_type": "stream",
     "text": [
      "Not save\n"
     ]
    },
    {
     "data": {
      "image/png": "[encoded data removed]",
      "text/plain": [
       "<Figure size 1200x600 with 1 Axes>"
      ]
     },
     "metadata": {},
     "output_type": "display_data"
    }
   ],
   "source": [
    "ax = sns.boxplot(x=df_total.Pesquisador)\n",
    "ax.figure.set_size_inches(12,6)\n",
    "ax.set(xlabel=\"Notas\")\n",
    "ax.set_title(\"Distribuição de notas para as imagens trabalhadas pelo Pesquisadores\")\n",
    "img_save(campo=campo, g=str(g)+'_NotasPesquisador', date=timeProcess()[1])\n",
    "plt.show(ax)"
   ]
  },
  {
   "cell_type": "code",
   "execution_count": 27,
   "metadata": {
    "colab": {
     "base_uri": "https://localhost:8080/",
     "height": 421
    },
    "id": "y53WKC32Dn6C",
    "outputId": "169f2399-1a0c-430d-890f-2ecead19e2e1"
   },
   "outputs": [
    {
     "name": "stdout",
     "output_type": "stream",
     "text": [
      "Not save\n"
     ]
    },
    {
     "data": {
      "image/png": "[encoded data removed]",
      "text/plain": [
       "<Figure size 1200x600 with 1 Axes>"
      ]
     },
     "metadata": {},
     "output_type": "display_data"
    }
   ],
   "source": [
    "g += 1\n",
    "ax = sns.boxplot(x=df_total.Designer)\n",
    "ax.figure.set_size_inches(12,6)\n",
    "ax.set(xlabel=\"Notas\")\n",
    "ax.set_title(\"Distribuição de notas para as imagens trabalhadas pelo Designer\")\n",
    "img_save(campo=campo, g=str(g)+'_NotasDesigner', date=timeProcess()[1])\n",
    "plt.show(ax)"
   ]
  },
  {
   "cell_type": "code",
   "execution_count": 28,
   "metadata": {
    "colab": {
     "base_uri": "https://localhost:8080/"
    },
    "id": "CXMijK29D3OD",
    "outputId": "da56f3f9-f69d-4c60-f9c8-9e060eb241cc"
   },
   "outputs": [],
   "source": [
    "from scipy.stats import normaltest, ranksums\n",
    "from statsmodels.stats.weightstats import zconfint, DescrStatsW, ztest"
   ]
  },
  {
   "cell_type": "code",
   "execution_count": 29,
   "metadata": {
    "colab": {
     "base_uri": "https://localhost:8080/"
    },
    "id": "avp2-ly6FMM_",
    "outputId": "71932157-1e32-4f75-e0d9-8ca8c073f1e4"
   },
   "outputs": [
    {
     "data": {
      "text/plain": [
       "1.8778837722593852e-65"
      ]
     },
     "execution_count": 29,
     "metadata": {},
     "output_type": "execute_result"
    }
   ],
   "source": [
    "_, p = ranksums(df_total.Pesquisador, df_total.Designer)\n",
    "p"
   ]
  },
  {
   "cell_type": "code",
   "execution_count": 30,
   "metadata": {
    "colab": {
     "base_uri": "https://localhost:8080/"
    },
    "id": "2rURiWN3FXcE",
    "outputId": "819fc733-f58e-4653-b8d3-8f9401ce80c4"
   },
   "outputs": [
    {
     "data": {
      "text/plain": [
       "{'Media': 3.335,\n",
       " 'IC (95%) super': 3.269,\n",
       " 'IC (95%) infer': 3.401,\n",
       " 'p-value': 1.8778837722593852e-65}"
      ]
     },
     "execution_count": 30,
     "metadata": {},
     "output_type": "execute_result"
    }
   ],
   "source": [
    "pesq = {\n",
    "    'Media': round(df_total.Pesquisador.mean(), 3),\n",
    "    \"IC (95%) super\": zconfint(df_total.Pesquisador)[0].round(3),\n",
    "    \"IC (95%) infer\": zconfint(df_total.Pesquisador)[1].round(3),\n",
    "    \"p-value\": p\n",
    "}\n",
    "pesq"
   ]
  },
  {
   "cell_type": "code",
   "execution_count": 31,
   "metadata": {
    "colab": {
     "base_uri": "https://localhost:8080/"
    },
    "id": "QiE4L4KAHNsj",
    "outputId": "64d495e3-849a-42e8-896b-80ad0ac83857"
   },
   "outputs": [
    {
     "data": {
      "text/plain": [
       "{'Media': 4.147,\n",
       " 'IC (95%) super': 4.095,\n",
       " 'IC (95%) infer': 4.199,\n",
       " 'p-value': 1.8778837722593852e-65}"
      ]
     },
     "execution_count": 31,
     "metadata": {},
     "output_type": "execute_result"
    }
   ],
   "source": [
    "des = {\n",
    "    'Media': round(df_total.Designer.mean(), 3),\n",
    "    \"IC (95%) super\": zconfint(df_total.Designer)[0].round(3),\n",
    "    \"IC (95%) infer\": zconfint(df_total.Designer)[1].round(3),\n",
    "    \"p-value\": p\n",
    "}\n",
    "des"
   ]
  },
  {
   "cell_type": "code",
   "execution_count": 32,
   "metadata": {
    "colab": {
     "base_uri": "https://localhost:8080/",
     "height": 112
    },
    "id": "YPbzpdlOIsrN",
    "outputId": "3efa21c4-97dd-470a-8c98-f94c51d39cfc"
   },
   "outputs": [
    {
     "data": {
      "text/html": [
       "<div>\n",
       "<style scoped>\n",
       "    .dataframe tbody tr th:only-of-type {\n",
       "        vertical-align: middle;\n",
       "    }\n",
       "\n",
       "    .dataframe tbody tr th {\n",
       "        vertical-align: top;\n",
       "    }\n",
       "\n",
       "    .dataframe thead th {\n",
       "        text-align: right;\n",
       "    }\n",
       "</style>\n",
       "<table border=\"1\" class=\"dataframe\">\n",
       "  <thead>\n",
       "    <tr style=\"text-align: right;\">\n",
       "      <th></th>\n",
       "      <th>Media</th>\n",
       "      <th>IC (95%) super</th>\n",
       "      <th>IC (95%) infer</th>\n",
       "      <th>p-value</th>\n",
       "    </tr>\n",
       "  </thead>\n",
       "  <tbody>\n",
       "    <tr>\n",
       "      <th>Pesquisador</th>\n",
       "      <td>3.335</td>\n",
       "      <td>3.269</td>\n",
       "      <td>3.401</td>\n",
       "      <td>NaN</td>\n",
       "    </tr>\n",
       "    <tr>\n",
       "      <th>Designer</th>\n",
       "      <td>4.147</td>\n",
       "      <td>4.095</td>\n",
       "      <td>4.199</td>\n",
       "      <td>1.877884e-65</td>\n",
       "    </tr>\n",
       "  </tbody>\n",
       "</table>\n",
       "</div>"
      ],
      "text/plain": [
       "             Media  IC (95%) super  IC (95%) infer       p-value\n",
       "Pesquisador  3.335           3.269           3.401           NaN\n",
       "Designer     4.147           4.095           4.199  1.877884e-65"
      ]
     },
     "execution_count": 32,
     "metadata": {},
     "output_type": "execute_result"
    }
   ],
   "source": [
    "df_statistica_total = pd.DataFrame(data=[pesq,des], index=['Pesquisador','Designer'])\n",
    "df_statistica_total.iloc[0,-1] = np.nan\n",
    "# df_statistica_total.to_csv('figure/df_statistica_total.csv')\n",
    "df_statistica_total"
   ]
  },
  {
   "cell_type": "markdown",
   "metadata": {
    "id": "1BuxaF9zXtlf"
   },
   "source": [
    "# Estrutrando o dado **por pergunta** as observações, por Origem"
   ]
  },
  {
   "cell_type": "code",
   "execution_count": 33,
   "metadata": {
    "colab": {
     "base_uri": "https://localhost:8080/",
     "height": 143
    },
    "id": "n1d6VvEhZZeI",
    "outputId": "218134cc-387a-400e-ed27-65434057cd5c"
   },
   "outputs": [
    {
     "data": {
      "text/html": [
       "<div>\n",
       "<style scoped>\n",
       "    .dataframe tbody tr th:only-of-type {\n",
       "        vertical-align: middle;\n",
       "    }\n",
       "\n",
       "    .dataframe tbody tr th {\n",
       "        vertical-align: top;\n",
       "    }\n",
       "\n",
       "    .dataframe thead th {\n",
       "        text-align: right;\n",
       "    }\n",
       "</style>\n",
       "<table border=\"1\" class=\"dataframe\">\n",
       "  <thead>\n",
       "    <tr style=\"text-align: right;\">\n",
       "      <th></th>\n",
       "      <th>Dintinguíveis</th>\n",
       "      <th>Proeminentes</th>\n",
       "      <th>Eficiente</th>\n",
       "      <th>Útil</th>\n",
       "      <th>Estética</th>\n",
       "      <th>Compreensão</th>\n",
       "      <th>Interesse</th>\n",
       "    </tr>\n",
       "    <tr>\n",
       "      <th>Origem</th>\n",
       "      <th></th>\n",
       "      <th></th>\n",
       "      <th></th>\n",
       "      <th></th>\n",
       "      <th></th>\n",
       "      <th></th>\n",
       "      <th></th>\n",
       "    </tr>\n",
       "  </thead>\n",
       "  <tbody>\n",
       "    <tr>\n",
       "      <th>Designer</th>\n",
       "      <td>4.084746</td>\n",
       "      <td>4.046610</td>\n",
       "      <td>3.864407</td>\n",
       "      <td>4.711864</td>\n",
       "      <td>4.313559</td>\n",
       "      <td>3.957627</td>\n",
       "      <td>4.050847</td>\n",
       "    </tr>\n",
       "    <tr>\n",
       "      <th>Pesquisador</th>\n",
       "      <td>3.487288</td>\n",
       "      <td>3.105932</td>\n",
       "      <td>3.241525</td>\n",
       "      <td>4.516949</td>\n",
       "      <td>2.822034</td>\n",
       "      <td>3.241525</td>\n",
       "      <td>2.927966</td>\n",
       "    </tr>\n",
       "  </tbody>\n",
       "</table>\n",
       "</div>"
      ],
      "text/plain": [
       "             Dintinguíveis  Proeminentes  Eficiente      Útil  Estética  \\\n",
       "Origem                                                                    \n",
       "Designer          4.084746      4.046610   3.864407  4.711864  4.313559   \n",
       "Pesquisador       3.487288      3.105932   3.241525  4.516949  2.822034   \n",
       "\n",
       "             Compreensão  Interesse  \n",
       "Origem                               \n",
       "Designer        3.957627   4.050847  \n",
       "Pesquisador     3.241525   2.927966  "
      ]
     },
     "execution_count": 33,
     "metadata": {},
     "output_type": "execute_result"
    }
   ],
   "source": [
    "df_perguntas.groupby('Origem').mean()"
   ]
  },
  {
   "cell_type": "code",
   "execution_count": 34,
   "metadata": {
    "colab": {
     "base_uri": "https://localhost:8080/"
    },
    "id": "MfqHx1NqJMPr",
    "outputId": "603ec4ad-8671-4832-ea99-39f59d78d755"
   },
   "outputs": [
    {
     "data": {
      "text/plain": [
       "array([[4.08474576, 4.04661017, 3.86440678, 4.71186441, 4.31355932,\n",
       "        3.95762712, 4.05084746],\n",
       "       [3.48728814, 3.1059322 , 3.24152542, 4.51694915, 2.8220339 ,\n",
       "        3.24152542, 2.9279661 ]])"
      ]
     },
     "execution_count": 34,
     "metadata": {},
     "output_type": "execute_result"
    }
   ],
   "source": [
    "df_statistica_perguntas = np.array(df_perguntas.groupby('Origem').mean())\n",
    "df_statistica_perguntas"
   ]
  },
  {
   "cell_type": "code",
   "execution_count": 35,
   "metadata": {
    "colab": {
     "base_uri": "https://localhost:8080/"
    },
    "id": "UNg-amnNOCRG",
    "outputId": "75bc3499-c5eb-42ba-cfc4-e41ddef1d5f9"
   },
   "outputs": [
    {
     "data": {
      "text/plain": [
       "[9.850865681131528e-08,\n",
       " 3.955539592933044e-15,\n",
       " 7.700974073667129e-08,\n",
       " 0.20522235993296356,\n",
       " 2.0311932874351267e-33,\n",
       " 1.0680428395514092e-08,\n",
       " 1.914831439973601e-17]"
      ]
     },
     "execution_count": 35,
     "metadata": {},
     "output_type": "execute_result"
    }
   ],
   "source": [
    "lista_p_value_perguntas = [ranksums(df_perguntas.query(\"Origem != 'Pesquisador'\").iloc[:,i], df_perguntas.query(\"Origem == 'Pesquisador'\").iloc[:,i])[1] for i in range(len(colunas_perguntas)-1)]\n",
    "lista_p_value_perguntas"
   ]
  },
  {
   "cell_type": "code",
   "execution_count": 36,
   "metadata": {
    "colab": {
     "base_uri": "https://localhost:8080/"
    },
    "id": "WgDFrLtZS21l",
    "outputId": "1da1fccb-b499-4d4a-ac35-46010e4da379"
   },
   "outputs": [
    {
     "data": {
      "text/plain": [
       "array([[4.08474576e+00, 4.04661017e+00, 3.86440678e+00, 4.71186441e+00,\n",
       "        4.31355932e+00, 3.95762712e+00, 4.05084746e+00],\n",
       "       [3.48728814e+00, 3.10593220e+00, 3.24152542e+00, 4.51694915e+00,\n",
       "        2.82203390e+00, 3.24152542e+00, 2.92796610e+00],\n",
       "       [9.85086568e-08, 3.95553959e-15, 7.70097407e-08, 2.05222360e-01,\n",
       "        2.03119329e-33, 1.06804284e-08, 1.91483144e-17]])"
      ]
     },
     "execution_count": 36,
     "metadata": {},
     "output_type": "execute_result"
    }
   ],
   "source": [
    "df_statistica_perguntas = np.append(df_statistica_perguntas, lista_p_value_perguntas).reshape(3,7)\n",
    "df_statistica_perguntas"
   ]
  },
  {
   "cell_type": "code",
   "execution_count": 37,
   "metadata": {
    "colab": {
     "base_uri": "https://localhost:8080/"
    },
    "id": "c0iZRE67OLhW",
    "outputId": "7f74e4b3-517c-4856-8c8f-ae068636131a"
   },
   "outputs": [
    {
     "data": {
      "text/plain": [
       "[(3.940521110203359, 4.2289704152203695),\n",
       " (3.9067295287063537, 4.1864908102766965),\n",
       " (3.7170098518971373, 4.011803707424896),\n",
       " (4.617555624864619, 4.806173188694703),\n",
       " (4.191017480637766, 4.43610116343003),\n",
       " (3.809780863514001, 4.105473373774134),\n",
       " (3.912234629039192, 4.189460286215045)]"
      ]
     },
     "execution_count": 37,
     "metadata": {},
     "output_type": "execute_result"
    }
   ],
   "source": [
    "lista_intervalo_perguntas_designer = [zconfint(df_perguntas.query(\"Origem != 'Pesquisador'\").iloc[:,i]) for i in range(len(colunas_perguntas)-1)]\n",
    "lista_intervalo_perguntas_designer"
   ]
  },
  {
   "cell_type": "code",
   "execution_count": 38,
   "metadata": {
    "colab": {
     "base_uri": "https://localhost:8080/"
    },
    "id": "Rel5kgcGPF9u",
    "outputId": "3db7dc09-3a6b-4099-cfb3-6c1a2e50cc18"
   },
   "outputs": [
    {
     "data": {
      "text/plain": [
       "[(3.327858657200211, 3.646717613986229),\n",
       " (2.9440474305027755, 3.2678169762768854),\n",
       " (3.080739433082298, 3.4023114143753292),\n",
       " (4.3835455895432975, 4.650352715541448),\n",
       " (2.662699255667009, 2.9813685409431607),\n",
       " (3.0674992185632393, 3.415551628894388),\n",
       " (2.7483495133089955, 3.107582690080835)]"
      ]
     },
     "execution_count": 38,
     "metadata": {},
     "output_type": "execute_result"
    }
   ],
   "source": [
    "lista_intervalo_perguntas_pesquisador = [zconfint(df_perguntas.query(\"Origem == 'Pesquisador'\").iloc[:,i]) for i in range(len(colunas_perguntas)-1)]\n",
    "lista_intervalo_perguntas_pesquisador"
   ]
  },
  {
   "cell_type": "code",
   "execution_count": 39,
   "metadata": {
    "colab": {
     "base_uri": "https://localhost:8080/"
    },
    "id": "pssDa-_ER_m2",
    "outputId": "acd761f6-ba47-43c0-a2c5-6327a800d2ed"
   },
   "outputs": [
    {
     "data": {
      "text/plain": [
       "array([[4.08474576e+00, 4.04661017e+00, 3.86440678e+00, 4.71186441e+00,\n",
       "        4.31355932e+00, 3.95762712e+00, 4.05084746e+00],\n",
       "       [3.48728814e+00, 3.10593220e+00, 3.24152542e+00, 4.51694915e+00,\n",
       "        2.82203390e+00, 3.24152542e+00, 2.92796610e+00],\n",
       "       [9.85086568e-08, 3.95553959e-15, 7.70097407e-08, 2.05222360e-01,\n",
       "        2.03119329e-33, 1.06804284e-08, 1.91483144e-17],\n",
       "       [3.94052111e+00, 3.90672953e+00, 3.71700985e+00, 4.61755562e+00,\n",
       "        4.19101748e+00, 3.80978086e+00, 3.91223463e+00],\n",
       "       [4.22897042e+00, 4.18649081e+00, 4.01180371e+00, 4.80617319e+00,\n",
       "        4.43610116e+00, 4.10547337e+00, 4.18946029e+00],\n",
       "       [3.32785866e+00, 2.94404743e+00, 3.08073943e+00, 4.38354559e+00,\n",
       "        2.66269926e+00, 3.06749922e+00, 2.74834951e+00],\n",
       "       [3.64671761e+00, 3.26781698e+00, 3.40231141e+00, 4.65035272e+00,\n",
       "        2.98136854e+00, 3.41555163e+00, 3.10758269e+00]])"
      ]
     },
     "execution_count": 39,
     "metadata": {},
     "output_type": "execute_result"
    }
   ],
   "source": [
    "df_statistica_perguntas = np.append(df_statistica_perguntas, np.array(lista_intervalo_perguntas_designer)[:,0]).reshape(4,7)\n",
    "df_statistica_perguntas = np.append(df_statistica_perguntas, np.array(lista_intervalo_perguntas_designer)[:,1]).reshape(5,7)\n",
    "df_statistica_perguntas = np.append(df_statistica_perguntas, np.array(lista_intervalo_perguntas_pesquisador)[:,0]).reshape(6,7)\n",
    "df_statistica_perguntas = np.append(df_statistica_perguntas, np.array(lista_intervalo_perguntas_pesquisador)[:,1]).reshape(7,7)\n",
    "df_statistica_perguntas"
   ]
  },
  {
   "cell_type": "code",
   "execution_count": 40,
   "metadata": {
    "colab": {
     "base_uri": "https://localhost:8080/",
     "height": 269
    },
    "id": "_Ta56EIeYtnY",
    "outputId": "d4ffa67d-bbc6-4ecd-edad-5e1f74fceaf2"
   },
   "outputs": [
    {
     "data": {
      "text/html": [
       "<div>\n",
       "<style scoped>\n",
       "    .dataframe tbody tr th:only-of-type {\n",
       "        vertical-align: middle;\n",
       "    }\n",
       "\n",
       "    .dataframe tbody tr th {\n",
       "        vertical-align: top;\n",
       "    }\n",
       "\n",
       "    .dataframe thead th {\n",
       "        text-align: right;\n",
       "    }\n",
       "</style>\n",
       "<table border=\"1\" class=\"dataframe\">\n",
       "  <thead>\n",
       "    <tr style=\"text-align: right;\">\n",
       "      <th></th>\n",
       "      <th>index</th>\n",
       "      <th>Dintinguíveis</th>\n",
       "      <th>Proeminentes</th>\n",
       "      <th>Eficiente</th>\n",
       "      <th>Útil</th>\n",
       "      <th>Estética</th>\n",
       "      <th>Compreensão</th>\n",
       "      <th>Interesse</th>\n",
       "    </tr>\n",
       "  </thead>\n",
       "  <tbody>\n",
       "    <tr>\n",
       "      <th>0</th>\n",
       "      <td>Designer Média</td>\n",
       "      <td>4.085</td>\n",
       "      <td>4.047</td>\n",
       "      <td>3.864</td>\n",
       "      <td>4.712</td>\n",
       "      <td>4.314</td>\n",
       "      <td>3.958</td>\n",
       "      <td>4.051</td>\n",
       "    </tr>\n",
       "    <tr>\n",
       "      <th>1</th>\n",
       "      <td>Pesquisador Média</td>\n",
       "      <td>3.487</td>\n",
       "      <td>3.106</td>\n",
       "      <td>3.242</td>\n",
       "      <td>4.517</td>\n",
       "      <td>2.822</td>\n",
       "      <td>3.242</td>\n",
       "      <td>2.928</td>\n",
       "    </tr>\n",
       "    <tr>\n",
       "      <th>2</th>\n",
       "      <td>p-value</td>\n",
       "      <td>0.000</td>\n",
       "      <td>0.000</td>\n",
       "      <td>0.000</td>\n",
       "      <td>0.205</td>\n",
       "      <td>0.000</td>\n",
       "      <td>0.000</td>\n",
       "      <td>0.000</td>\n",
       "    </tr>\n",
       "    <tr>\n",
       "      <th>3</th>\n",
       "      <td>Designer IC infer (95%)</td>\n",
       "      <td>3.941</td>\n",
       "      <td>3.907</td>\n",
       "      <td>3.717</td>\n",
       "      <td>4.618</td>\n",
       "      <td>4.191</td>\n",
       "      <td>3.810</td>\n",
       "      <td>3.912</td>\n",
       "    </tr>\n",
       "    <tr>\n",
       "      <th>4</th>\n",
       "      <td>Designer IC super (95%)</td>\n",
       "      <td>4.229</td>\n",
       "      <td>4.186</td>\n",
       "      <td>4.012</td>\n",
       "      <td>4.806</td>\n",
       "      <td>4.436</td>\n",
       "      <td>4.105</td>\n",
       "      <td>4.189</td>\n",
       "    </tr>\n",
       "    <tr>\n",
       "      <th>5</th>\n",
       "      <td>Pesquisador IC infer (95%)</td>\n",
       "      <td>3.328</td>\n",
       "      <td>2.944</td>\n",
       "      <td>3.081</td>\n",
       "      <td>4.384</td>\n",
       "      <td>2.663</td>\n",
       "      <td>3.067</td>\n",
       "      <td>2.748</td>\n",
       "    </tr>\n",
       "    <tr>\n",
       "      <th>6</th>\n",
       "      <td>Pesquisador IC super (95%)</td>\n",
       "      <td>3.647</td>\n",
       "      <td>3.268</td>\n",
       "      <td>3.402</td>\n",
       "      <td>4.650</td>\n",
       "      <td>2.981</td>\n",
       "      <td>3.416</td>\n",
       "      <td>3.108</td>\n",
       "    </tr>\n",
       "  </tbody>\n",
       "</table>\n",
       "</div>"
      ],
      "text/plain": [
       "                        index  Dintinguíveis  Proeminentes  Eficiente   Útil  \\\n",
       "0              Designer Média          4.085         4.047      3.864  4.712   \n",
       "1           Pesquisador Média          3.487         3.106      3.242  4.517   \n",
       "2                     p-value          0.000         0.000      0.000  0.205   \n",
       "3     Designer IC infer (95%)          3.941         3.907      3.717  4.618   \n",
       "4     Designer IC super (95%)          4.229         4.186      4.012  4.806   \n",
       "5  Pesquisador IC infer (95%)          3.328         2.944      3.081  4.384   \n",
       "6  Pesquisador IC super (95%)          3.647         3.268      3.402  4.650   \n",
       "\n",
       "   Estética  Compreensão  Interesse  \n",
       "0     4.314        3.958      4.051  \n",
       "1     2.822        3.242      2.928  \n",
       "2     0.000        0.000      0.000  \n",
       "3     4.191        3.810      3.912  \n",
       "4     4.436        4.105      4.189  \n",
       "5     2.663        3.067      2.748  \n",
       "6     2.981        3.416      3.108  "
      ]
     },
     "execution_count": 40,
     "metadata": {},
     "output_type": "execute_result"
    }
   ],
   "source": [
    "index = [\n",
    "           'Designer Média',\n",
    "           'Pesquisador Média',\n",
    "           'p-value',\n",
    "           'Designer IC infer (95%)',\n",
    "           'Designer IC super (95%)',\n",
    "           'Pesquisador IC infer (95%)',\n",
    "           'Pesquisador IC super (95%)',\n",
    "]\n",
    "valores = [\n",
    "           'Média',\n",
    "           'Média',\n",
    "           'p-value',\n",
    "           'IC infer (95%)',\n",
    "           'IC super (95%)',\n",
    "           'IC infer (95%)',\n",
    "           'IC super (95%)',\n",
    "]\n",
    "origem = [\n",
    "           'Designer',\n",
    "           'Pesquisador',\n",
    "           'Designer/Pesquisador',\n",
    "           'Designer',\n",
    "           'Designer',\n",
    "           'Pesquisador',\n",
    "           'Pesquisador',\n",
    "]\n",
    "df_statistica_perguntas = pd.DataFrame(data=df_statistica_perguntas, index=index, columns=colunas_perguntas[:-1]).round(3).reset_index()\n",
    "df_statistica_perguntas"
   ]
  },
  {
   "cell_type": "code",
   "execution_count": null,
   "metadata": {
    "colab": {
     "base_uri": "https://localhost:8080/",
     "height": 269
    },
    "id": "fFTRFlS0Z9Ku",
    "outputId": "59e93f29-b67c-47e7-a803-bd202caf4ff5"
   },
   "outputs": [],
   "source": [
    "df_statistica_perguntas.loc[:, 'Origem'] = origem\n",
    "df_statistica_perguntas.loc[:, 'Valor'] = valores\n",
    "df_statistica_perguntas = df_statistica_perguntas.iloc[[0,3,4,1,5,6,2]]\n",
    "df_statistica_perguntas"
   ]
  },
  {
   "cell_type": "code",
   "execution_count": null,
   "metadata": {
    "colab": {
     "base_uri": "https://localhost:8080/",
     "height": 387
    },
    "id": "oN2azu6eaizm",
    "outputId": "b6c1397c-8fe6-43a0-effc-765b942fe767"
   },
   "outputs": [],
   "source": [
    "df_statistica_perguntas.drop(['index'], axis=1, inplace=True)\n",
    "df_statistica_perguntas.set_index(['Origem','Valor'], inplace=True)\n",
    "df_statistica_perguntas"
   ]
  },
  {
   "cell_type": "code",
   "execution_count": null,
   "metadata": {
    "id": "kycGwohbJ0sS"
   },
   "outputs": [],
   "source": [
    "# df_statistica_perguntas.to_csv('df_statistica_perguntas.csv')"
   ]
  },
  {
   "cell_type": "code",
   "execution_count": null,
   "metadata": {
    "colab": {
     "base_uri": "https://localhost:8080/",
     "height": 300
    },
    "id": "fIfbLN1EJuGA",
    "outputId": "82c01a8d-0b78-4142-be8c-5b2528face61"
   },
   "outputs": [],
   "source": [
    "df_statistica_perguntas.T"
   ]
  },
  {
   "cell_type": "code",
   "execution_count": null,
   "metadata": {
    "id": "PVjUhzZ5dqxp"
   },
   "outputs": [],
   "source": [
    "# df_statistica_perguntas.T.to_csv('df_statistica_perguntas_T.csv')"
   ]
  },
  {
   "cell_type": "markdown",
   "metadata": {
    "id": "WpYWJ8IAhXEq"
   },
   "source": [
    "# Esruturação do dado por diferentes subdivisões"
   ]
  },
  {
   "cell_type": "code",
   "execution_count": null,
   "metadata": {
    "id": "M7jobwPTyvyr"
   },
   "outputs": [],
   "source": [
    "def tabela_medias(df_selecionada):\n",
    "    colunas_perguntas = df.columns[[5,6,8,9,10,12,13,16]]\n",
    "    df_perguntas = df_selecionada[colunas_perguntas].copy()\n",
    "    df_statistica_perguntas = np.array(df_perguntas.groupby('Origem').mean())\n",
    "    lista_p_value_perguntas = [ranksums(df_perguntas.query(\"Origem != 'Pesquisador'\").iloc[:,i], df_perguntas.query(\"Origem == 'Pesquisador'\").iloc[:,i])[1] for i in range(len(colunas_perguntas)-1)]\n",
    "    df_statistica_perguntas = np.append(df_statistica_perguntas, lista_p_value_perguntas).reshape(3,7)\n",
    "    lista_intervalo_perguntas_designer = [zconfint(df_perguntas.query(\"Origem != 'Pesquisador'\").iloc[:,i]) for i in range(len(colunas_perguntas)-1)]\n",
    "    lista_intervalo_perguntas_pesquisador = [zconfint(df_perguntas.query(\"Origem == 'Pesquisador'\").iloc[:,i]) for i in range(len(colunas_perguntas)-1)]\n",
    "    df_statistica_perguntas = np.append(df_statistica_perguntas, np.array(lista_intervalo_perguntas_designer)[:,0]).reshape(4,7)\n",
    "    df_statistica_perguntas = np.append(df_statistica_perguntas, np.array(lista_intervalo_perguntas_designer)[:,1]).reshape(5,7)\n",
    "    df_statistica_perguntas = np.append(df_statistica_perguntas, np.array(lista_intervalo_perguntas_pesquisador)[:,0]).reshape(6,7)\n",
    "    df_statistica_perguntas = np.append(df_statistica_perguntas, np.array(lista_intervalo_perguntas_pesquisador)[:,1]).reshape(7,7)\n",
    "    index = [\n",
    "            'Designer Média',\n",
    "            'Pesquisador Média',\n",
    "            'p-value',\n",
    "            'Designer IC infer (95%)',\n",
    "            'Designer IC super (95%)',\n",
    "            'Pesquisador IC infer (95%)',\n",
    "            'Pesquisador IC super (95%)',\n",
    "    ]\n",
    "    valores = [\n",
    "            'Média',\n",
    "            'Média',\n",
    "            'p-value',\n",
    "            'IC infer (95%)',\n",
    "            'IC super (95%)',\n",
    "            'IC infer (95%)',\n",
    "            'IC super (95%)',\n",
    "    ]\n",
    "    origem = [\n",
    "            'Designer',\n",
    "            'Pesquisador',\n",
    "            'Designer/Pesquisador',\n",
    "            'Designer',\n",
    "            'Designer',\n",
    "            'Pesquisador',\n",
    "            'Pesquisador',\n",
    "    ]\n",
    "    df_statistica_perguntas = pd.DataFrame(data=df_statistica_perguntas, index=index, columns=colunas_perguntas[:-1]).round(3).reset_index()\n",
    "    df_statistica_perguntas.loc[:, 'Origem'] = origem\n",
    "    df_statistica_perguntas.loc[:, 'Valor'] = valores\n",
    "    df_statistica_perguntas = df_statistica_perguntas.iloc[[0,3,4,1,5,6,2]]\n",
    "    df_statistica_perguntas.drop(['index'], axis=1, inplace=True)\n",
    "    df_statistica_perguntas.set_index(['Origem','Valor'], inplace=True)\n",
    "    df_statistica_perguntas = df_statistica_perguntas.T\n",
    "    lista_p_valor = df_statistica_perguntas[('Designer/Pesquisador','p-value')].values\n",
    "    df_statistica_perguntas[('Designer/Pesquisador','p-value')] = ['<0.001' if i < 0.1 else i for i in lista_p_valor]\n",
    "    return df_statistica_perguntas"
   ]
  },
  {
   "cell_type": "markdown",
   "metadata": {
    "id": "rCI5nRLnxnkC"
   },
   "source": [
    "## Área"
   ]
  },
  {
   "cell_type": "code",
   "execution_count": null,
   "metadata": {
    "colab": {
     "base_uri": "https://localhost:8080/",
     "height": 238
    },
    "id": "LhtPjVLZfJN6",
    "outputId": "b0669350-d21f-4c0e-d7a7-36e8c1e5712f"
   },
   "outputs": [],
   "source": [
    "colunas_perguntas = df.columns[[5,6,8,9,10,12,13,15,16]]\n",
    "# df_perguntas = df[df['Área'] != 'Biológicas'][colunas_perguntas].copy()\n",
    "df_perguntas = df[colunas_perguntas].copy()\n",
    "df_perguntas.head()"
   ]
  },
  {
   "cell_type": "code",
   "execution_count": null,
   "metadata": {
    "colab": {
     "base_uri": "https://localhost:8080/"
    },
    "id": "RWX2EH5MTT7J",
    "outputId": "b3df43af-7062-4b4f-804c-33192ba17da0"
   },
   "outputs": [],
   "source": [
    "df_perguntas.groupby(['Área']).count()['Útil']"
   ]
  },
  {
   "cell_type": "code",
   "execution_count": null,
   "metadata": {
    "colab": {
     "base_uri": "https://localhost:8080/"
    },
    "id": "mdJUzYeThalp",
    "outputId": "9266b74f-93cc-4a33-89c4-878db27b487a"
   },
   "outputs": [],
   "source": [
    "df_perguntas.groupby(['Origem','Área']).count()['Útil'].values"
   ]
  },
  {
   "cell_type": "code",
   "execution_count": null,
   "metadata": {
    "colab": {
     "base_uri": "https://localhost:8080/",
     "height": 332
    },
    "id": "8w143luWhrux",
    "outputId": "83a20462-f111-49f9-d04c-5bd18ae3c507"
   },
   "outputs": [],
   "source": [
    "df_statistica_perguntas_area = df_perguntas.groupby(['Origem','Área']).mean().round(2)\n",
    "df_statistica_perguntas_area['n'] = df_perguntas.groupby(['Origem','Área']).count()['Útil'].values\n",
    "df_statistica_perguntas_area = df_statistica_perguntas_area.T\n",
    "df_statistica_perguntas_area"
   ]
  },
  {
   "cell_type": "code",
   "execution_count": null,
   "metadata": {
    "colab": {
     "base_uri": "https://localhost:8080/",
     "height": 300
    },
    "id": "UsuHLloBzGlD",
    "outputId": "0b595674-d5f8-4d08-cd87-1ffcca5cb13c"
   },
   "outputs": [],
   "source": [
    "coluna_filtro = 'Área'\n",
    "campo_pesquisa = 'Biológicas'\n",
    "df_statistica_perguntas_biologicas = tabela_medias(df[df[coluna_filtro] == campo_pesquisa])\n",
    "# df_statistica_perguntas_biologicas.to_csv('df_statistica_perguntas_biologicas.csv')\n",
    "df_statistica_perguntas_biologicas"
   ]
  },
  {
   "cell_type": "code",
   "execution_count": null,
   "metadata": {
    "colab": {
     "base_uri": "https://localhost:8080/",
     "height": 300
    },
    "id": "aw8ncZsl0gor",
    "outputId": "7cd0f88a-1a94-4662-ea46-459e0a0b7358"
   },
   "outputs": [],
   "source": [
    "campo_pesquisa = 'Exatas'\n",
    "df_statistica_perguntas_exatas = tabela_medias(df[df[coluna_filtro] == campo_pesquisa])\n",
    "# df_statistica_perguntas_exatas.to_csv('df_statistica_perguntas_exatas.csv')\n",
    "df_statistica_perguntas_exatas"
   ]
  },
  {
   "cell_type": "code",
   "execution_count": null,
   "metadata": {
    "colab": {
     "base_uri": "https://localhost:8080/",
     "height": 300
    },
    "id": "gXay_kMm11wa",
    "outputId": "ae526bbc-3f38-4271-e5f2-468ed46bd6d3"
   },
   "outputs": [],
   "source": [
    "campo_pesquisa = 'Humanas'\n",
    "df_statistica_perguntas_humanas = tabela_medias(df[df[coluna_filtro] == campo_pesquisa])\n",
    "# df_statistica_perguntas_humanas.to_csv('df_statistica_perguntas_humanas.csv')\n",
    "df_statistica_perguntas_humanas"
   ]
  },
  {
   "cell_type": "markdown",
   "metadata": {
    "id": "tUrdai7QQysU"
   },
   "source": [
    "## Grau"
   ]
  },
  {
   "cell_type": "code",
   "execution_count": null,
   "metadata": {
    "colab": {
     "base_uri": "https://localhost:8080/",
     "height": 238
    },
    "id": "L2K-B501Q0Bq",
    "outputId": "ef45f1b3-bb9a-4a3c-a4db-3ee3d5bb82c6"
   },
   "outputs": [],
   "source": [
    "colunas_perguntas = df.columns[[5,6,8,9,10,12,13,14,16]]\n",
    "df_perguntas = df[colunas_perguntas].copy()\n",
    "df_perguntas.head()"
   ]
  },
  {
   "cell_type": "code",
   "execution_count": null,
   "metadata": {
    "colab": {
     "base_uri": "https://localhost:8080/"
    },
    "id": "Fgb06r4ZTChx",
    "outputId": "c83c5d80-94ac-4ef3-8866-97a6ab903771"
   },
   "outputs": [],
   "source": [
    "df_perguntas.groupby(['Grau']).count()['Útil']"
   ]
  },
  {
   "cell_type": "code",
   "execution_count": null,
   "metadata": {
    "colab": {
     "base_uri": "https://localhost:8080/"
    },
    "id": "7qU5lgxtQ7es",
    "outputId": "a740c45b-15bf-477f-ee44-d8b7ab8dd624"
   },
   "outputs": [],
   "source": [
    "df_perguntas.groupby(['Origem','Grau']).count()['Útil'].values"
   ]
  },
  {
   "cell_type": "code",
   "execution_count": null,
   "metadata": {
    "colab": {
     "base_uri": "https://localhost:8080/",
     "height": 332
    },
    "id": "dFjUqU3vQ_v8",
    "outputId": "2167fd0b-ecd2-495f-8bff-79492a410974"
   },
   "outputs": [],
   "source": [
    "df_statistica_perguntas_area = df_perguntas.groupby(['Origem','Grau']).mean().round(2)\n",
    "df_statistica_perguntas_area['n'] = df_perguntas.groupby(['Origem','Grau']).count()['Útil'].values\n",
    "df_statistica_perguntas_area = df_statistica_perguntas_area.T\n",
    "df_statistica_perguntas_area"
   ]
  },
  {
   "cell_type": "code",
   "execution_count": null,
   "metadata": {
    "colab": {
     "base_uri": "https://localhost:8080/"
    },
    "id": "NDFKcY9QRV2F",
    "outputId": "f2d6617a-87a8-4c19-e5a6-12c920b4be70"
   },
   "outputs": [],
   "source": [
    "tipos_grau = list(df['Grau'].value_counts().index)\n",
    "tipos_grau"
   ]
  },
  {
   "cell_type": "code",
   "execution_count": null,
   "metadata": {
    "colab": {
     "base_uri": "https://localhost:8080/",
     "height": 318
    },
    "id": "wO4GUii-RgFc",
    "outputId": "2d348613-1f7b-455c-9d25-f87a56ce52b4"
   },
   "outputs": [],
   "source": [
    "coluna_filtro = 'Grau'\n",
    "campo_pesquisa = tipos_grau[3]\n",
    "print(campo_pesquisa)\n",
    "temp = df[df[coluna_filtro] == campo_pesquisa]\n",
    "df_statistica_perguntas_gradua = tabela_medias(temp)\n",
    "# df_statistica_perguntas_gradua.to_csv('df_statistica_perguntas_gradua.csv')\n",
    "df_statistica_perguntas_gradua"
   ]
  },
  {
   "cell_type": "code",
   "execution_count": null,
   "metadata": {
    "colab": {
     "base_uri": "https://localhost:8080/",
     "height": 318
    },
    "id": "1YWgKteKReUS",
    "outputId": "67fc2a47-f61b-4b99-ac17-3a3439eb0b10"
   },
   "outputs": [],
   "source": [
    "campo_pesquisa = tipos_grau[2]\n",
    "print(campo_pesquisa)\n",
    "temp = df[df[coluna_filtro] == campo_pesquisa]\n",
    "df_statistica_perguntas_posDoc = tabela_medias(temp)\n",
    "# df_statistica_perguntas_posDoc.to_csv('df_statistica_perguntas_posDoc.csv')\n",
    "df_statistica_perguntas_posDoc"
   ]
  },
  {
   "cell_type": "code",
   "execution_count": null,
   "metadata": {
    "colab": {
     "base_uri": "https://localhost:8080/",
     "height": 335
    },
    "id": "5cSqJlZLdtkX",
    "outputId": "cfb32c4e-999b-470b-f791-d0a0a8c7c012"
   },
   "outputs": [],
   "source": [
    "print(tipos_grau[2])\n",
    "print(tipos_grau[3])\n",
    "temp = df[(df[coluna_filtro] == tipos_grau[2]) | (df[coluna_filtro] == tipos_grau[3])]\n",
    "df_statistica_perguntas_posGradGrad = tabela_medias(temp)\n",
    "# df_statistica_perguntas_posGradGrad.to_csv('df_statistica_perguntas_posGradGrad.csv')\n",
    "df_statistica_perguntas_posGradGrad"
   ]
  },
  {
   "cell_type": "code",
   "execution_count": null,
   "metadata": {
    "colab": {
     "base_uri": "https://localhost:8080/",
     "height": 318
    },
    "id": "QzWYFMq2RY4c",
    "outputId": "732acca6-d239-47a2-dba5-5d19902d0461"
   },
   "outputs": [],
   "source": [
    "campo_pesquisa = tipos_grau[0]\n",
    "print(campo_pesquisa)\n",
    "temp = df[df[coluna_filtro] == campo_pesquisa]\n",
    "df_statistica_perguntas_mestrado = tabela_medias(temp)\n",
    "# df_statistica_perguntas_mestrado.to_csv('df_statistica_perguntas_mestrado.csv')\n",
    "df_statistica_perguntas_mestrado"
   ]
  },
  {
   "cell_type": "code",
   "execution_count": null,
   "metadata": {
    "colab": {
     "base_uri": "https://localhost:8080/",
     "height": 318
    },
    "id": "E9JMGoEnRbvd",
    "outputId": "a36bbb26-91af-4a72-b881-7cb3b7532649"
   },
   "outputs": [],
   "source": [
    "campo_pesquisa = tipos_grau[1]\n",
    "print(campo_pesquisa)\n",
    "temp = df[df[coluna_filtro] == campo_pesquisa]\n",
    "df_statistica_perguntas_doutorado = tabela_medias(temp)\n",
    "# df_statistica_perguntas_doutorado.to_csv('df_statistica_perguntas_doutorado.csv')\n",
    "df_statistica_perguntas_doutorado"
   ]
  },
  {
   "cell_type": "markdown",
   "metadata": {
    "id": "OHUSt6FZMqNB"
   },
   "source": [
    "## Grau de formação, comparado pela área biológica ou não biológica"
   ]
  },
  {
   "cell_type": "code",
   "execution_count": null,
   "metadata": {
    "colab": {
     "base_uri": "https://localhost:8080/"
    },
    "id": "JAveToFUgNvN",
    "outputId": "ba599a03-6916-4404-d676-5cf7c91fcab2"
   },
   "outputs": [],
   "source": [
    "tipos_grau"
   ]
  },
  {
   "cell_type": "code",
   "execution_count": null,
   "metadata": {
    "colab": {
     "base_uri": "https://localhost:8080/",
     "height": 405
    },
    "id": "Xnch-6BdgZtm",
    "outputId": "c5763731-4b86-4050-dc17-54e6d23e705c"
   },
   "outputs": [],
   "source": [
    "temp = df[(df['Grau'] == tipos_grau[3])]['Estética'].sample(frac=1, random_state=101)\n",
    "medias = [temp[:i].mean() for i in range(1, len(temp))]\n",
    "plt.figure(figsize=(12,6))\n",
    "plt.plot(medias)\n",
    "plt.ylabel('Média das notas')\n",
    "plt.xlabel('Número de respostas')\n",
    "plt.title('Médias progressivas das notas para a questão 6. Estética - '+tipos_grau[3])\n",
    "plt.show()"
   ]
  },
  {
   "cell_type": "code",
   "execution_count": null,
   "metadata": {
    "colab": {
     "base_uri": "https://localhost:8080/"
    },
    "id": "S2MkQHOQ1lPE",
    "outputId": "154feb77-3e8e-4046-cfb7-9815b074403a"
   },
   "outputs": [],
   "source": [
    "campo_pesquisa = tipos_grau[0]\n",
    "print(campo_pesquisa)\n",
    "df_area_biologica = df[(df['Área'] == 'Biológicas') & (df['Grau'] == campo_pesquisa)].copy()\n",
    "df_area_biologica['Área'].value_counts()"
   ]
  },
  {
   "cell_type": "code",
   "execution_count": null,
   "metadata": {
    "colab": {
     "base_uri": "https://localhost:8080/",
     "height": 300
    },
    "id": "8jxOvKIrOVkq",
    "outputId": "5017a162-fe86-4c3b-9ba2-6807631137b0"
   },
   "outputs": [],
   "source": [
    "tabela_medias(df_area_biologica)"
   ]
  },
  {
   "cell_type": "code",
   "execution_count": null,
   "metadata": {
    "colab": {
     "base_uri": "https://localhost:8080/",
     "height": 405
    },
    "id": "UzM1uHBORfdR",
    "outputId": "865c340d-0b7d-4960-f35d-0131003402ee"
   },
   "outputs": [],
   "source": [
    "temp = df[(df['Área'] == 'Biológicas') & (df['Grau'] == campo_pesquisa)]['Compreensão'].sample(frac=1, random_state=101)\n",
    "medias = [temp[:i].mean() for i in range(1, len(temp))]\n",
    "plt.figure(figsize=(12,6))\n",
    "plt.plot(medias)\n",
    "plt.ylabel('Média das notas')\n",
    "plt.xlabel('Número de respostas')\n",
    "plt.title('Médias progressivas das notas para a questão 6. Compreenção - '+campo_pesquisa+' da área biológica.')\n",
    "plt.show()"
   ]
  },
  {
   "cell_type": "code",
   "execution_count": null,
   "metadata": {
    "colab": {
     "base_uri": "https://localhost:8080/"
    },
    "id": "McC4sgjZGcmR",
    "outputId": "e240fb8a-56fc-4927-a175-eb24c81cb27d"
   },
   "outputs": [],
   "source": [
    "df_area_nao_biologica = df[(df['Área'] != 'Biológicas') & (df['Grau'] == campo_pesquisa)].copy()\n",
    "df_area_nao_biologica['Área'].value_counts()"
   ]
  },
  {
   "cell_type": "code",
   "execution_count": null,
   "metadata": {
    "colab": {
     "base_uri": "https://localhost:8080/",
     "height": 300
    },
    "id": "toRtIvawNiQA",
    "outputId": "eece7ec5-2b54-4b29-8cfb-a8b23f512b78"
   },
   "outputs": [],
   "source": [
    "tabela_medias(df_area_nao_biologica)"
   ]
  },
  {
   "cell_type": "code",
   "execution_count": null,
   "metadata": {
    "colab": {
     "base_uri": "https://localhost:8080/",
     "height": 405
    },
    "id": "ND8lAPDvQl8X",
    "outputId": "8a2b1f1c-d607-4769-d690-271c1fabf16b"
   },
   "outputs": [],
   "source": [
    "temp = df[(df['Área'] != 'Biológicas') & (df['Grau'] == campo_pesquisa)]['Compreensão'].sample(frac=1, random_state=101)\n",
    "medias = [temp[:i].mean() for i in range(1, len(temp))]\n",
    "plt.figure(figsize=(12,6))\n",
    "plt.plot(medias)\n",
    "plt.ylabel('Média das notas')\n",
    "plt.xlabel('Número de respostas')\n",
    "plt.title('Médias progressivas das notas para a questão 6. Compreenção - '+campo_pesquisa+' não da área biológica.')\n",
    "plt.show()"
   ]
  },
  {
   "cell_type": "code",
   "execution_count": null,
   "metadata": {
    "id": "9FvFS7wqRYJI"
   },
   "outputs": [],
   "source": []
  }
 ],
 "metadata": {
  "colab": {
   "name": "02_analysis_2022_02_21.ipynb",
   "provenance": [],
   "toc_visible": true
  },
  "kernelspec": {
   "display_name": "Python 3 (ipykernel)",
   "language": "python",
   "name": "python3"
  },
  "language_info": {
   "codemirror_mode": {
    "name": "ipython",
    "version": 3
   },
   "file_extension": ".py",
   "mimetype": "text/x-python",
   "name": "python",
   "nbconvert_exporter": "python",
   "pygments_lexer": "ipython3",
   "version": "3.7.9"
  }
 },
 "nbformat": 4,
 "nbformat_minor": 4
}
